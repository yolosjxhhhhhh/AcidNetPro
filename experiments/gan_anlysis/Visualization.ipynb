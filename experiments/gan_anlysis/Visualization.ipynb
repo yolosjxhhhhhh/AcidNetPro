{
 "cells": [
  {
   "cell_type": "code",
   "id": "initial_id",
   "metadata": {
    "collapsed": true,
    "ExecuteTime": {
     "end_time": "2025-07-16T02:01:18.262055Z",
     "start_time": "2025-07-16T02:01:18.258716Z"
    }
   },
   "source": [
    "import numpy as np\n",
    "import matplotlib.pyplot as plt\n",
    "import os"
   ],
   "execution_count": 1,
   "outputs": []
  },
  {
   "metadata": {
    "ExecuteTime": {
     "end_time": "2025-07-16T02:01:18.282433Z",
     "start_time": "2025-07-16T02:01:18.277604Z"
    }
   },
   "cell_type": "code",
   "source": [
    "labels = ['ACC', 'F1', 'Recall(Sn)', 'MCC', 'Precision', 'Sp', 'AUC', 'AUPRC']\n",
    "data = {\n",
    "    '100epoch':     [0.9112, 0.9358, 0.9095, 0.7957, 0.9637, 0.9154, 0.9635, 0.9853],\n",
    "    '200epoch':     [0.9025, 0.9296, 0.9046, 0.7745, 0.9561, 0.8973, 0.9576, 0.9791],\n",
    "    '300epoch':     [0.9225, 0.9454, 0.9425, 0.8120, 0.9483, 0.8731, 0.9685, 0.9869],\n",
    "    '400epoch':     [0.8982, 0.9295, 0.9425, 0.7474, 0.9168, 0.7885, 0.9477, 0.9772],\n",
    "    '上采样':        [0.8242, 0.8624, 0.7738, 0.6601, 0.9738, 0.9486, 0.9548, 0.9805],\n",
    "    '权重采样':      [0.8947, 0.9243, 0.9034, 0.7537, 0.9462, 0.8731, 0.9547, 0.9804],\n",
    "    '去卷积GAN':     [0.9112, 0.9373, 0.9315, 0.7857, 0.9431, 0.8610, 0.9571, 0.9789]\n",
    "}"
   ],
   "id": "99083f63298035ad",
   "execution_count": 2,
   "outputs": []
  },
  {
   "metadata": {},
   "cell_type": "code",
   "execution_count": null,
   "source": "",
   "id": "78ccf362376cda60",
   "outputs": []
  },
  {
   "metadata": {
    "ExecuteTime": {
     "end_time": "2025-07-16T02:01:18.294361Z",
     "start_time": "2025-07-16T02:01:18.289029Z"
    }
   },
   "cell_type": "code",
   "source": [
    "def plot_radar(data, labels, save_path):\n",
    "    N = len(labels)\n",
    "    angles = np.linspace(0, 2 * np.pi, N, endpoint=False).tolist()\n",
    "    angles += angles[:1]  # 闭合\n",
    "\n",
    "    plt.figure(figsize=(8, 8))\n",
    "    ax = plt.subplot(111, polar=True)\n",
    "\n",
    "    for name, values in data.items():\n",
    "        stats = values + values[:1]\n",
    "        ax.plot(angles, stats, label=name, linewidth=2)\n",
    "        ax.fill(angles, stats, alpha=0.1)\n",
    "\n",
    "    ax.set_thetagrids(np.degrees(angles[:-1]), labels)\n",
    "    ax.set_ylim(0, 1)\n",
    "    plt.legend(loc='upper right', bbox_to_anchor=(1.3, 1.1))\n",
    "    plt.title('模型各指标雷达图', fontsize=16)\n",
    "    plt.tight_layout()\n",
    "\n",
    "    # 确保保存路径存在\n",
    "    os.makedirs(os.path.dirname(save_path), exist_ok=True)\n",
    "    plt.savefig(save_path, format='pdf')\n",
    "    plt.show()\n",
    "    plt.close()"
   ],
   "id": "5804050c1b2aa4bf",
   "execution_count": 3,
   "outputs": []
  },
  {
   "metadata": {
    "ExecuteTime": {
     "start_time": "2025-07-16T02:01:18.295870Z"
    }
   },
   "cell_type": "code",
   "source": [
    "save_path = '/exp_data/sjx/star/pictures/radar_compare.pdf'\n",
    "plot_radar(data, labels, save_path)\n",
    "print(f\"雷达图已保存到: {save_path}\")"
   ],
   "id": "2d989d111a36ad2a",
   "execution_count": null,
   "outputs": []
  }
 ],
 "metadata": {
  "kernelspec": {
   "display_name": "Python 3",
   "language": "python",
   "name": "python3"
  },
  "language_info": {
   "codemirror_mode": {
    "name": "ipython",
    "version": 2
   },
   "file_extension": ".py",
   "mimetype": "text/x-python",
   "name": "python",
   "nbconvert_exporter": "python",
   "pygments_lexer": "ipython2",
   "version": "2.7.6"
  }
 },
 "nbformat": 4,
 "nbformat_minor": 5
}
