{
 "cells": [
  {
   "metadata": {
    "ExecuteTime": {
     "end_time": "2025-07-11T13:36:45.682180Z",
     "start_time": "2025-07-11T13:36:28.422707Z"
    }
   },
   "cell_type": "code",
   "source": [
    "import numpy as np\n",
    "import umap\n",
    "import matplotlib.pyplot as plt\n",
    "from sklearn.linear_model import LogisticRegression\n",
    "from sklearn.model_selection import cross_val_score\n",
    "import os\n",
    "real_path = '/exp_data/sjx/star/first_data/ESM-embedding/negative_all_embedding.npy'\n",
    "fake_path = '/exp_data/sjx/star/experiments/gan_anlysis/gan_data/fake_negative_embeddings_epoch100.npy'\n",
    "save_dir = '/exp_data/sjx/star/experiments/gan_anlysis/picture_result/'\n",
    "os.makedirs(save_dir, exist_ok=True)\n",
    "max_samples = 1000  # 如需更小内存可调小\n",
    "real_embeddings = np.load(real_path, mmap_mode='r')\n",
    "generated_embeddings = np.load(fake_path, mmap_mode='r')\n",
    "\n",
    "if real_embeddings.shape[0] > max_samples:\n",
    "    idx = np.random.choice(real_embeddings.shape[0], max_samples, replace=False)\n",
    "    real_embeddings = real_embeddings[idx]\n",
    "if generated_embeddings.shape[0] > max_samples:\n",
    "    idx = np.random.choice(generated_embeddings.shape[0], max_samples, replace=False)\n",
    "    generated_embeddings = generated_embeddings[idx]\n",
    "\n",
    "print(\"real_embeddings shape:\", real_embeddings.shape)\n",
    "print(\"generated_embeddings shape:\", generated_embeddings.shape)\n",
    "real_embeddings_2d = real_embeddings.mean(axis=1)\n",
    "generated_embeddings_2d = generated_embeddings.mean(axis=1)\n",
    "print(f\"real_embeddings_2d shape: {real_embeddings_2d.shape}\")\n",
    "print(f\"generated_embeddings_2d shape: {generated_embeddings_2d.shape}\")\n",
    "\n",
    "all_embeddings = np.vstack([real_embeddings_2d, generated_embeddings_2d])\n",
    "labels = np.array([0]*len(real_embeddings_2d) + [1]*len(generated_embeddings_2d))\n",
    "reducer = umap.UMAP(n_neighbors=15, min_dist=0.1, metric='euclidean', random_state=42)\n",
    "embedding_2d = reducer.fit_transform(all_embeddings)\n",
    "\n",
    "plt.figure(figsize=(8,6))\n",
    "plt.scatter(embedding_2d[labels==0, 0], embedding_2d[labels==0, 1], s=10, alpha=0.6, label=\"Real\")\n",
    "plt.scatter(embedding_2d[labels==1, 0], embedding_2d[labels==1, 1], s=10, alpha=0.6, label=\"Fake 100\")\n",
    "plt.legend()\n",
    "plt.title(\"UMAP Visualization of Real vs Fake (Epoch 100)\")\n",
    "plt.xlabel(\"UMAP 1\")\n",
    "plt.ylabel(\"UMAP 2\")\n",
    "plt.tight_layout()\n",
    "pdf_path = os.path.join(save_dir, 'umap_real_vs_fake_epoch100.pdf')\n",
    "plt.savefig(pdf_path, bbox_inches='tight')\n",
    "plt.show()\n",
    "print(f\"UMAP 图已保存到: {pdf_path}\")\n"
   ],
   "id": "47a52935acfc0cff",
   "execution_count": 1,
   "outputs": []
  },
  {
   "metadata": {
    "ExecuteTime": {
     "end_time": "2025-07-12T02:22:16.252641Z",
     "start_time": "2025-07-12T02:22:16.232388Z"
    }
   },
   "cell_type": "code",
   "source": [
    "import numpy as np\n",
    "import os\n",
    "\n",
    "# 路径配置\n",
    "gan_dir = '/exp_data/sjx/star/experiments/gan_anlysis/data/exist_bilstm_data/'\n",
    "gan_files = [\n",
    "    'fc_only_fake_negative_embeddings.npy'\n",
    "]\n",
    "real_path = '/exp_data/sjx/star/first_data/ESM-embedding/negative_train_embedding.npy'\n",
    "save_dir = '/exp_data/sjx/star/experiments/gan_anlysis/data/Train_data/'\n",
    "os.makedirs(save_dir, exist_ok=True)"
   ],
   "id": "8db660fac6f2ac7b",
   "execution_count": 1,
   "outputs": []
  },
  {
   "metadata": {
    "ExecuteTime": {
     "end_time": "2025-07-12T02:22:19.459758Z",
     "start_time": "2025-07-12T02:22:19.455001Z"
    }
   },
   "cell_type": "code",
   "source": [
    "real_neg = np.load(real_path, mmap_mode='r')\n",
    "print(\"real negative shape:\", real_neg.shape)"
   ],
   "id": "50a9ec4602ba0039",
   "execution_count": 2,
   "outputs": []
  },
  {
   "metadata": {
    "ExecuteTime": {
     "end_time": "2025-07-12T02:22:59.272853Z",
     "start_time": "2025-07-12T02:22:21.463865Z"
    }
   },
   "cell_type": "code",
   "source": [
    "for gan_file in gan_files:\n",
    "    gan_path = os.path.join(gan_dir, gan_file)\n",
    "    gan_arr = np.load(gan_path, mmap_mode='r')[:1948]\n",
    "    print(f\"{gan_file} shape (used):\", gan_arr.shape)\n",
    "    \n",
    "    all_neg = np.concatenate([real_neg, gan_arr], axis=0)\n",
    "    print(\"拼接后 shape:\", all_neg.shape)\n",
    "    \n",
    "    # 生成保存文件名\n",
    "    epoch = gan_file.split('epoch')[-1].split('.')[0]\n",
    "    save_path = os.path.join(save_dir, f'all_negative_train_embeddings_epoch_fc.npy')\n",
    "    np.save(save_path, all_neg)\n",
    "    print(f\"已保存到: {save_path}\")"
   ],
   "id": "38a8e75fc759a68a",
   "execution_count": 3,
   "outputs": []
  },
  {
   "metadata": {
    "ExecuteTime": {
     "end_time": "2025-07-11T14:09:02.448415Z",
     "start_time": "2025-07-11T14:09:02.441626Z"
    }
   },
   "cell_type": "code",
   "source": "",
   "id": "add1bc3672ac6b0c",
   "execution_count": 6,
   "outputs": []
  }
 ],
 "metadata": {
  "kernelspec": {
   "display_name": "Python 3",
   "language": "python",
   "name": "python3"
  },
  "language_info": {
   "codemirror_mode": {
    "name": "ipython",
    "version": 2
   },
   "file_extension": ".py",
   "mimetype": "text/x-python",
   "name": "python",
   "nbconvert_exporter": "python",
   "pygments_lexer": "ipython2",
   "version": "2.7.6"
  }
 },
 "nbformat": 4,
 "nbformat_minor": 5
}
