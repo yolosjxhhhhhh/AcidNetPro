{
 "cells": [
  {
   "cell_type": "code",
   "id": "initial_id",
   "metadata": {
    "collapsed": true,
    "ExecuteTime": {
     "end_time": "2025-07-12T12:36:52.537430Z",
     "start_time": "2025-07-12T12:36:45.539253Z"
    }
   },
   "source": [
    "import numpy as np\n",
    "import umap\n",
    "import matplotlib.pyplot as plt\n",
    "from sklearn.linear_model import LogisticRegression\n",
    "from sklearn.model_selection import cross_val_score\n",
    "\n",
    "# 你的三维嵌入\n",
    "real_embeddings = np.load(\"/exp_data/sjx/star/first_data/ESM-embedding/negative_all_embedding.npy\")\n",
    "generated_embeddings = np.load(\"/exp_data/sjx/star/gan_data/fake_negative_embeddings.npy\")\n",
    "\n",
    "# 变成二维\n",
    "real_embeddings_2d = real_embeddings.mean(axis=1)\n",
    "generated_embeddings_2d = generated_embeddings.mean(axis=1)\n",
    "\n",
    "print(f\"real_embeddings_2d shape: {real_embeddings_2d.shape}\")\n",
    "print(f\"generated_embeddings_2d shape: {generated_embeddings_2d.shape}\")\n",
    "\n",
    "# 合并，制作标签\n",
    "all_embeddings = np.vstack([real_embeddings_2d, generated_embeddings_2d])\n",
    "labels = np.array([0]*len(real_embeddings_2d) + [1]*len(generated_embeddings_2d))\n",
    "\n",
    "# UMAP降维可视化\n",
    "reducer = umap.UMAP(n_neighbors=15, min_dist=0.1, metric='euclidean', random_state=42)\n",
    "embedding_2d = reducer.fit_transform(all_embeddings)\n",
    "\n",
    "plt.figure(figsize=(8,6))\n",
    "plt.scatter(embedding_2d[labels==0, 0], embedding_2d[labels==0, 1], s=10, alpha=0.6, label=\"Real\")\n",
    "plt.scatter(embedding_2d[labels==1, 0], embedding_2d[labels==1, 1], s=10, alpha=0.6, label=\"Generated\")\n",
    "plt.legend()\n",
    "plt.title(\"UMAP Visualization of Real vs Generated Protein Embeddings\")\n",
    "plt.xlabel(\"UMAP 1\")\n",
    "plt.ylabel(\"UMAP 2\")\n",
    "plt.show()\n",
    "\n",
    "# 用 LogisticRegression 区分\n",
    "clf = LogisticRegression(max_iter=1000)\n",
    "scores = cross_val_score(clf, all_embeddings, labels, cv=5)\n",
    "print(f\"Classification accuracy to distinguish real vs generated: {scores.mean():.3f} ± {scores.std():.3f}\")\n",
    "\n"
   ],
   "execution_count": 1,
   "outputs": []
  },
  {
   "metadata": {
    "ExecuteTime": {
     "end_time": "2025-07-12T12:36:52.539058Z",
     "start_time": "2025-07-12T12:36:52.538923Z"
    }
   },
   "cell_type": "code",
   "source": [
    "import numpy as np\n",
    "import umap\n",
    "import matplotlib.pyplot as plt\n",
    "from sklearn.linear_model import LogisticRegression\n",
    "from sklearn.model_selection import cross_val_score\n",
    "\n",
    "# 你的三维嵌入\n",
    "real_embeddings = np.load(\"/exp_data/sjx/star/first_data/ESM-embedding/negative_all_embedding.npy\")\n",
    "generated_embeddings = np.load(\"/exp_data/sjx/star/gan_data/260_e_fake_negative_embeddings.npy\")\n",
    "\n",
    "# 变成二维\n",
    "real_embeddings_2d = real_embeddings.mean(axis=1)\n",
    "generated_embeddings_2d = generated_embeddings.mean(axis=1)\n",
    "\n",
    "print(f\"real_embeddings_2d shape: {real_embeddings_2d.shape}\")\n",
    "print(f\"generated_embeddings_2d shape: {generated_embeddings_2d.shape}\")\n",
    "\n",
    "# 合并，制作标签\n",
    "all_embeddings = np.vstack([real_embeddings_2d, generated_embeddings_2d])\n",
    "labels = np.array([0]*len(real_embeddings_2d) + [1]*len(generated_embeddings_2d))\n",
    "\n",
    "# UMAP降维可视化\n",
    "reducer = umap.UMAP(n_neighbors=15, min_dist=0.1, metric='euclidean', random_state=42)\n",
    "embedding_2d = reducer.fit_transform(all_embeddings)\n",
    "\n",
    "plt.figure(figsize=(8,6))\n",
    "plt.scatter(embedding_2d[labels==0, 0], embedding_2d[labels==0, 1], s=10, alpha=0.6, label=\"Real\")\n",
    "plt.scatter(embedding_2d[labels==1, 0], embedding_2d[labels==1, 1], s=10, alpha=0.6, label=\"Generated\")\n",
    "plt.legend()\n",
    "plt.title(\"UMAP Visualization of Real vs Generated Protein Embeddings\")\n",
    "plt.xlabel(\"UMAP 1\")\n",
    "plt.ylabel(\"UMAP 2\")\n",
    "plt.show()\n",
    "\n",
    "# 用 LogisticRegression 区分\n",
    "clf = LogisticRegression(max_iter=1000)\n",
    "scores = cross_val_score(clf, all_embeddings, labels, cv=5)\n",
    "print(f\"Classification accuracy to distinguish real vs generated: {scores.mean():.3f} ± {scores.std():.3f}\")"
   ],
   "id": "2d597331c7df3ec5",
   "execution_count": null,
   "outputs": []
  }
 ],
 "metadata": {
  "kernelspec": {
   "display_name": "Python 3",
   "language": "python",
   "name": "python3"
  },
  "language_info": {
   "codemirror_mode": {
    "name": "ipython",
    "version": 2
   },
   "file_extension": ".py",
   "mimetype": "text/x-python",
   "name": "python",
   "nbconvert_exporter": "python",
   "pygments_lexer": "ipython2",
   "version": "2.7.6"
  }
 },
 "nbformat": 4,
 "nbformat_minor": 5
}
