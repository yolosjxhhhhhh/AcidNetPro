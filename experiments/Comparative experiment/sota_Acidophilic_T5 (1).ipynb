{
 "cells": [
  {
   "cell_type": "code",
   "execution_count": 1,
   "metadata": {
    "colab": {
     "base_uri": "https://localhost:8080/",
     "height": 1000
    },
    "id": "kFQnCSiFveZo",
    "outputId": "bf36c54b-8bde-4b38-a315-7c05adc61ffe"
   },
   "source": [
    "pip install tensorflow==2.12"
   ],
   "outputs": []
  },
  {
   "cell_type": "markdown",
   "metadata": {
    "id": "-_VfMK7xkcgn"
   },
   "source": [
    "## Prerequisite"
   ]
  },
  {
   "cell_type": "code",
   "execution_count": 1,
   "metadata": {
    "colab": {
     "base_uri": "https://localhost:8080/"
    },
    "id": "b74l0wAtgWzn",
    "outputId": "5dd436fc-0b18-413d-9355-f16c13861283"
   },
   "source": [
    "!pip install sklearn-evaluation"
   ],
   "outputs": []
  },
  {
   "metadata": {
    "ExecuteTime": {
     "end_time": "2025-07-11T04:27:58.054955Z",
     "start_time": "2025-07-11T04:27:58.049470Z"
    }
   },
   "cell_type": "code",
   "source": [
    "import sys\n",
    "print(sys.version)\n"
   ],
   "execution_count": 1,
   "outputs": []
  },
  {
   "metadata": {
    "ExecuteTime": {
     "end_time": "2025-07-11T04:29:17.036931Z",
     "start_time": "2025-07-11T04:28:47.046590Z"
    }
   },
   "cell_type": "code",
   "source": "%pip install sklearn-evaluation\n",
   "execution_count": 2,
   "outputs": []
  },
  {
   "cell_type": "code",
   "execution_count": 2,
   "metadata": {
    "colab": {
     "base_uri": "https://localhost:8080/"
    },
    "id": "CaL2ks-meLOL",
    "outputId": "03eb1da0-0301-4296-b49a-1b2809725d09"
   },
   "source": [
    "!pip install xlsxwriter"
   ],
   "outputs": []
  },
  {
   "metadata": {
    "ExecuteTime": {
     "end_time": "2025-07-11T04:11:46.693037Z",
     "start_time": "2025-07-11T04:11:02.437478Z"
    }
   },
   "cell_type": "code",
   "source": "!pip install sklearn-evaluation\n",
   "execution_count": 2,
   "outputs": []
  },
  {
   "cell_type": "code",
   "metadata": {
    "id": "CoTuyH3VsxAI",
    "colab": {
     "base_uri": "https://localhost:8080/"
    },
    "outputId": "85341906-0b1a-460c-8c78-54aebd3bc73a",
    "ExecuteTime": {
     "end_time": "2025-07-11T05:08:08.091443Z",
     "start_time": "2025-07-11T05:08:08.083101Z"
    }
   },
   "source": [
    "import numpy as np\n",
    "import h5py\n",
    "import tensorflow as tf\n",
    "import pandas as pd\n",
    "from pandas import DataFrame\n",
    "\n",
    "# Data utilities\n",
    "from pandas import read_csv\n",
    "import matplotlib.pyplot as plt\n",
    "# Data visualization\n",
    "import plotly.express as px\n",
    "\n",
    "# Machine learning\n",
    "from sklearn.neural_network import MLPClassifier\n",
    "from sklearn.model_selection import GridSearchCV\n",
    "from sklearn.metrics import classification_report\n",
    "from sklearn.metrics import matthews_corrcoef\n",
    "from sklearn.model_selection import cross_val_score\n",
    "from sklearn_evaluation import plot\n",
    "from sklearn.metrics import accuracy_score, make_scorer, f1_score\n",
    "from sklearn.metrics import roc_curve, roc_auc_score\n",
    "from sklearn.metrics import f1_score, matthews_corrcoef, balanced_accuracy_score\n",
    "from sklearn.metrics import accuracy_score, precision_recall_curve, auc\n",
    "from sklearn.metrics import roc_curve, roc_auc_score\n",
    "from sklearn.metrics import classification_report\n",
    "from sklearn.metrics import recall_score\n"
   ],
   "execution_count": 34,
   "outputs": []
  },
  {
   "cell_type": "code",
   "execution_count": 4,
   "metadata": {
    "colab": {
     "base_uri": "https://localhost:8080/"
    },
    "id": "Tdo1PbAg2dWN",
    "outputId": "2ff47e0c-88e5-4889-e5d3-f1cf509d5901"
   },
   "source": [
    "from google.colab import drive\n",
    "drive.mount('/content/drive')"
   ],
   "outputs": []
  },
  {
   "metadata": {
    "ExecuteTime": {
     "end_time": "2025-07-11T05:08:37.156717Z",
     "start_time": "2025-07-11T05:08:37.152624Z"
    }
   },
   "cell_type": "code",
   "source": [
    "import os\n",
    "print(os.getcwd())\n"
   ],
   "execution_count": 35,
   "outputs": []
  },
  {
   "cell_type": "code",
   "metadata": {
    "colab": {
     "base_uri": "https://localhost:8080/"
    },
    "id": "O4nVECYciQze",
    "outputId": "6de6b34a-0b39-4a0a-deac-265c678aac52",
    "ExecuteTime": {
     "end_time": "2025-07-11T05:08:45.729633Z",
     "start_time": "2025-07-11T05:08:38.905273Z"
    }
   },
   "source": [
    "!wget https://raw.githubusercontent.com/33220311/Acidophilic/main/acido100.csv"
   ],
   "execution_count": 36,
   "outputs": []
  },
  {
   "cell_type": "code",
   "metadata": {
    "colab": {
     "base_uri": "https://localhost:8080/"
    },
    "id": "yGX1NEE1iT5j",
    "outputId": "84f05cb5-23b6-47db-e6ad-404112d93818",
    "ExecuteTime": {
     "end_time": "2025-07-11T04:35:01.684591Z",
     "start_time": "2025-07-11T04:35:00.825756Z"
    }
   },
   "source": [
    "!wget https://raw.githubusercontent.com/33220311/Acidophilic/main/acido80.csv"
   ],
   "execution_count": 3,
   "outputs": []
  },
  {
   "cell_type": "code",
   "execution_count": 7,
   "metadata": {
    "colab": {
     "base_uri": "https://localhost:8080/"
    },
    "id": "E6VVn3LeiUIH",
    "outputId": "3043c711-28a1-4ba8-f798-69b21afa0451"
   },
   "source": [
    "!wget https://raw.githubusercontent.com/33220311/Acidophilic/main/acido60.csv"
   ],
   "outputs": []
  },
  {
   "cell_type": "code",
   "execution_count": 8,
   "metadata": {
    "colab": {
     "base_uri": "https://localhost:8080/"
    },
    "id": "ZqZ0wgSQiUYH",
    "outputId": "7a1d347f-b77a-4458-f234-b5a0cb8d72fd"
   },
   "source": [
    "!wget https://raw.githubusercontent.com/33220311/Acidophilic/main/acido40.csv"
   ],
   "outputs": []
  },
  {
   "cell_type": "code",
   "execution_count": 9,
   "metadata": {
    "colab": {
     "base_uri": "https://localhost:8080/"
    },
    "id": "JbBXYMOCiUmz",
    "outputId": "b64677e9-707a-4e89-9ee2-7c6d7242ac05"
   },
   "source": [
    "!wget https://raw.githubusercontent.com/33220311/Acidophilic/main/acido20.csv"
   ],
   "outputs": []
  },
  {
   "cell_type": "markdown",
   "metadata": {
    "id": "ydyh-KnUWTNV"
   },
   "source": [
    "## Utility Function"
   ]
  },
  {
   "cell_type": "code",
   "metadata": {
    "id": "-MIcQL7TV7AE",
    "ExecuteTime": {
     "end_time": "2025-07-11T04:36:16.783402Z",
     "start_time": "2025-07-11T04:36:16.776941Z"
    }
   },
   "source": [
    "# Utility function: plot model's accuracy and loss\n",
    "\n",
    "# https://realpython.com/python-keras-text-classification/\n",
    "plt.style.use('ggplot')\n",
    "\n",
    "def plot_history(history):\n",
    "  acc = history.history['accuracy']\n",
    "  val_acc = history.history['val_accuracy']\n",
    "  loss = history.history['loss']\n",
    "  val_loss = history.history['val_loss']\n",
    "  x = range(1, len(acc) + 1)\n",
    "\n",
    "  plt.figure(figsize=(12, 5))\n",
    "  plt.subplot(1, 2, 1)\n",
    "  plt.plot(x, acc, 'b', label='Training acc')\n",
    "  plt.plot(x, val_acc, 'r', label='Validation acc')\n",
    "  plt.title('Training and validation accuracy')\n",
    "  plt.legend()\n",
    "\n",
    "  plt.subplot(1, 2, 2)\n",
    "  plt.plot(x, loss, 'b', label='Training loss')\n",
    "  plt.plot(x, val_loss, 'r', label='Validation loss')\n",
    "  plt.title('Training and validation loss')\n",
    "  plt.legend()"
   ],
   "execution_count": 5,
   "outputs": []
  },
  {
   "cell_type": "code",
   "metadata": {
    "id": "1miZbCjfWcl3",
    "ExecuteTime": {
     "end_time": "2025-07-11T04:36:20.949504Z",
     "start_time": "2025-07-11T04:36:20.944410Z"
    }
   },
   "source": [
    "# Utility function: Display model score(Loss & Accuracy) across all sets.\n",
    "\n",
    "def display_model_score(model, train, val, test, batch_size):\n",
    "\n",
    "  train_score = model.evaluate(train[0], train[1], batch_size=batch_size, verbose=1)\n",
    "  print('Train loss: ', train_score[0])\n",
    "  print('Train accuracy: ', train_score[1])\n",
    "  print('-'*70)\n",
    "\n",
    "  val_score = model.evaluate(val[0], val[1], batch_size=batch_size, verbose=1)\n",
    "  print('Val loss: ', val_score[0])\n",
    "  print('Val accuracy: ', val_score[1])\n",
    "  print('-'*70)\n",
    "\n",
    "  test_score = model.evaluate(test[0], test[1], batch_size=batch_size, verbose=1)\n",
    "  print('Test loss: ', test_score[0])\n",
    "  print('Test accuracy: ', test_score[1])"
   ],
   "execution_count": 6,
   "outputs": []
  },
  {
   "cell_type": "code",
   "metadata": {
    "id": "VpxhCHwhne2g",
    "ExecuteTime": {
     "end_time": "2025-07-11T04:36:22.992470Z",
     "start_time": "2025-07-11T04:36:22.986397Z"
    }
   },
   "source": [
    "def equal_error_rate(y_true, y_pred):\n",
    "    n_imp = tf.count_nonzero(tf.equal(y_true, 0), dtype=tf.float32) + tf.constant(K.epsilon())\n",
    "    n_gen = tf.count_nonzero(tf.equal(y_true, 1), dtype=tf.float32) + tf.constant(K.epsilon())\n",
    "\n",
    "    scores_imp = tf.boolean_mask(y_pred, tf.equal(y_true, 0))\n",
    "    scores_gen = tf.boolean_mask(y_pred, tf.equal(y_true, 1))\n",
    "\n",
    "    loop_vars = (tf.constant(0.0), tf.constant(1.0), tf.constant(0.0))\n",
    "    cond = lambda t, fpr, fnr: tf.greater_equal(fpr, fnr)\n",
    "    body = lambda t, fpr, fnr: (\n",
    "        t + 0.001,\n",
    "        tf.divide(tf.count_nonzero(tf.greater_equal(scores_imp, t), dtype=tf.float32), n_imp),\n",
    "        tf.divide(tf.count_nonzero(tf.less(scores_gen, t), dtype=tf.float32), n_gen)\n",
    "    )\n",
    "    t, fpr, fnr = tf.while_loop(cond, body, loop_vars, back_prop=False)\n",
    "    eer = (fpr + fnr) / 2\n",
    "\n",
    "    return eer"
   ],
   "execution_count": 7,
   "outputs": []
  },
  {
   "cell_type": "code",
   "metadata": {
    "id": "oTZaj-RZHjTn",
    "ExecuteTime": {
     "end_time": "2025-07-11T04:36:25.137095Z",
     "start_time": "2025-07-11T04:36:25.123385Z"
    }
   },
   "source": [
    "def error_rate(testing_labels, predicted_testing_labels):\n",
    "  from sklearn.metrics import f1_score, matthews_corrcoef, balanced_accuracy_score\n",
    "  from sklearn.metrics import accuracy_score, precision_recall_curve\n",
    "  from sklearn.metrics import classification_report\n",
    "  from sklearn.metrics import recall_score, precision_score\n",
    "  from sklearn.metrics import roc_curve, roc_auc_score, auc\n",
    "  import numpy as np\n",
    "\n",
    "  bootstrap_performances = list()\n",
    "  performances = list()\n",
    "  f1_performances = list()\n",
    "  pre = list()\n",
    "  rec = list()\n",
    "  bootstrap_auc_pr = list()\n",
    "  bootstrap_auc_roc = list()\n",
    "\n",
    "  Y = np.array(testing_labels) # convert list of groundtruths to numpy\n",
    "  Yhat = np.array(predicted_testing_labels) # same same for predictions\n",
    "  n_samples = len(Y) # get number of samples\n",
    "  n_bootstrap = 1000 # number of bootstrap iterations\n",
    "  metric = matthews_corrcoef # the metric you want to compute\n",
    "  for i in range(n_bootstrap): # for each bootstrap draw\n",
    "    subset = np.random.choice(n_samples, n_samples, replace=True)\n",
    "    # create a random subset of your predictions/targets with replacement (this line will only generate the indices for list elements and the line below will grab the random subset with replacement\n",
    "    bootstrap_performances.append( matthews_corrcoef(testing_labels[subset], predicted_testing_labels[subset]) )\n",
    "    performances.append(accuracy_score(testing_labels[subset], predicted_testing_labels[subset]))\n",
    "    f1_performances.append(f1_score(testing_labels[subset], predicted_testing_labels[subset]))\n",
    "    pre.append(precision_score(testing_labels[subset], predicted_testing_labels[subset]))\n",
    "    rec.append(recall_score(testing_labels[subset], predicted_testing_labels[subset]))\n",
    "\n",
    "    # Calculate ROC curve and AUC-ROC for the bootstrap sample\n",
    "    fpr, tpr, thresholds = roc_curve(testing_labels[subset], predicted_testing_labels[subset])\n",
    "    bootstrap_auc_roc.append(roc_auc_score(testing_labels[subset], predicted_testing_labels[subset]))\n",
    "\n",
    "    # Calculate precision-recall curve and AUC-PR for the bootstrap sample\n",
    "    precision, recall, thresholds = precision_recall_curve(testing_labels[subset], predicted_testing_labels[subset])\n",
    "    bootstrap_auc_pr.append(auc(recall, precision))\n",
    "\n",
    "  sd_mcc = np.std(bootstrap_performances) # compute std deviation over the bootstrapped performances\n",
    "  sd_acc = np.std(performances)\n",
    "  sd_f1 = np.std(f1_performances)\n",
    "  sd_pre = np.std(pre)\n",
    "  sd_rec = np.std(rec)\n",
    "  sd_auc_roc = np.std(bootstrap_auc_roc)\n",
    "  sd_auc_pr = np.std(bootstrap_auc_pr)\n",
    "\n",
    "  # Calculate ROC curve\n",
    "  fpr, tpr, thresholds = roc_curve(Y, Yhat)\n",
    "  auc_roc = roc_auc_score(Y, Yhat)\n",
    "\n",
    "  # Plot the ROC curve\n",
    "  plt.figure()\n",
    "  plt.plot(fpr, tpr, label='ROC Curve')\n",
    "  plt.xlabel('False Positive Rate (FPR)')\n",
    "  plt.ylabel('True Positive Rate (TPR)')\n",
    "  plt.title('ROC Curve')\n",
    "  plt.grid(True)\n",
    "  plt.xlim(0, 1)\n",
    "  plt.ylim(0, 1)\n",
    "  plt.legend(loc='lower right')\n",
    "  plt.show()\n",
    "\n",
    "  # Calculate precision-recall curve\n",
    "  precision, recall, thresholds = precision_recall_curve(Y, Yhat)\n",
    "  auc_pr = auc(recall, precision)\n",
    "\n",
    "  # Plot ROC Curve\n",
    "\n",
    "  plt.figure(figsize=(8, 6))\n",
    "  plt.plot(fpr, tpr, label='ROC Curve (area = %0.2f)' % auc(fpr, tpr))\n",
    "  plt.plot([0, 1], [0, 1], 'k--', label='reference point')\n",
    "  plt.xlim([0.0, 1.0])\n",
    "  plt.ylim([0.0, 1.05])\n",
    "  plt.xlabel('False Positive Rate (FPR)')\n",
    "  plt.ylabel('True Positive Rate (TPR)')\n",
    "  plt.title('ROC Curve')\n",
    "  plt.legend(loc=\"lower right\")\n",
    "  plt.show()\n",
    "\n",
    "  # Plot Precision-Recall Curve\n",
    "  plt.figure(figsize=(8, 6))\n",
    "  plt.step(recall, precision, where='post', label='Precision-Recall curve (area = %0.2f)' % auc_pr)\n",
    "  plt.xlabel('Recall')\n",
    "  plt.ylabel('Precision')\n",
    "  plt.ylim([0.0, 1.05])\n",
    "  plt.title('Precision-Recall Curve')\n",
    "  plt.legend(loc=\"lower right\")\n",
    "  plt.show()\n",
    "\n",
    "  print('acc:',accuracy_score(testing_labels, predicted_testing_labels))\n",
    "  print('f1:',f1_score(testing_labels, predicted_testing_labels))\n",
    "  print('mcc:',matthews_corrcoef(testing_labels, predicted_testing_labels))\n",
    "  print('precision:',precision_score(testing_labels, np.round(Yhat)))\n",
    "  print('recall:',recall_score(testing_labels, np.round(Yhat)))\n",
    "  print('AUC-PR:', auc_pr)\n",
    "  print('AUC-ROC:',auc_roc)\n",
    "  print('sd_acc:',sd_acc)\n",
    "  print('sd_f1:',sd_f1)\n",
    "  print('sd_mcc:',sd_mcc)\n",
    "  print('sd_pre:',sd_pre)\n",
    "  print('sd_rec:',sd_rec)\n",
    "  print('sd_auc_roc:',sd_auc_roc)\n",
    "  print('sd_auc_pr:',sd_auc_pr)\n",
    "  print(classification_report(testing_labels, predicted_testing_labels))\n",
    "\n",
    "  return (sd_acc, sd_mcc, sd_f1)"
   ],
   "execution_count": 8,
   "outputs": []
  },
  {
   "cell_type": "code",
   "metadata": {
    "id": "UQ0RjSyMHkAJ",
    "ExecuteTime": {
     "end_time": "2025-07-11T04:37:24.950990Z",
     "start_time": "2025-07-11T04:37:24.946079Z"
    }
   },
   "source": [
    "def conf_matrix(confusion_matrix_data):\n",
    "  from mlxtend.plotting import plot_confusion_matrix\n",
    "  fig, ax = plot_confusion_matrix(conf_mat =confusion_matrix_data,\n",
    "                                show_absolute=True,\n",
    "                                show_normed=True,\n",
    "                                #display_labels=class_dict.values(),\n",
    "                                colorbar=True)\n",
    "  labels = ['Non-acidophilic', 'Acidophilic']\n",
    "  ax.set_xticklabels([''] + labels)\n",
    "  ax.set_yticklabels([''] + labels)\n",
    "  plt.show()\n"
   ],
   "execution_count": 9,
   "outputs": []
  },
  {
   "cell_type": "code",
   "metadata": {
    "id": "hCpILEUBgWFb",
    "ExecuteTime": {
     "end_time": "2025-07-11T04:37:27.062053Z",
     "start_time": "2025-07-11T04:37:27.058669Z"
    }
   },
   "source": [
    "def mcc(clf,X,y):\n",
    "  y_pred = clf.predict(X)\n",
    "  mcc = matthews_corrcoef(y, y_pred)\n",
    "  return mcc"
   ],
   "execution_count": 10,
   "outputs": []
  },
  {
   "cell_type": "code",
   "metadata": {
    "id": "TehTG3VzgWGS",
    "ExecuteTime": {
     "end_time": "2025-07-11T04:37:29.172779Z",
     "start_time": "2025-07-11T04:37:29.166267Z"
    }
   },
   "source": [
    "def std_acc(clf,X,y):\n",
    "  from sklearn.metrics import accuracy_score\n",
    "  import numpy as np\n",
    "\n",
    "  bootstrap_performances = list()\n",
    "  performances = list()\n",
    "  y_pred = clf.predict(X)\n",
    "  Y = np.array(y) # convert list of groundtruths to numpy\n",
    "  Yhat = np.array(y_pred) # same same for predictions\n",
    "  n_samples = len(Y) # get number of samples\n",
    "  n_bootstrap = 1000 # number of bootstrap iterations\n",
    "  for i in range(n_bootstrap): # for each bootstrap draw\n",
    "    subset = np.random.choice(n_samples, n_samples, replace=True)\n",
    "    # create a random subset of your predictions/targets with replacement (this line will only generate the indices for list elements and the line below will grab the random subset with replacement\n",
    "    bootstrap_performances.append( accuracy_score(y[subset], y_pred[subset]) )\n",
    "  sd_acc = np.std(bootstrap_performances)*1.96\n",
    "  return sd_acc"
   ],
   "execution_count": 11,
   "outputs": []
  },
  {
   "cell_type": "code",
   "metadata": {
    "id": "IyCVSJAggWKq",
    "ExecuteTime": {
     "end_time": "2025-07-11T04:37:31.132174Z",
     "start_time": "2025-07-11T04:37:31.127289Z"
    }
   },
   "source": [
    "def std_f1(clf,X,y):\n",
    "  from sklearn.metrics import f1_score\n",
    "  import numpy as np\n",
    "\n",
    "  bootstrap_performances = list()\n",
    "  performances = list()\n",
    "  y_pred = clf.predict(X)\n",
    "  Y = np.array(y) # convert list of groundtruths to numpy\n",
    "  Yhat = np.array(y_pred) # same same for predictions\n",
    "  n_samples = len(Y) # get number of samples\n",
    "  n_bootstrap = 1000 # number of bootstrap iterations\n",
    "  for i in range(n_bootstrap): # for each bootstrap draw\n",
    "    subset = np.random.choice(n_samples, n_samples, replace=True)\n",
    "    # create a random subset of your predictions/targets with replacement (this line will only generate the indices for list elements and the line below will grab the random subset with replacement\n",
    "    bootstrap_performances.append(f1_score(y[subset], y_pred[subset]) )\n",
    "  sd_f1 = np.std(bootstrap_performances)*1.96\n",
    "  return sd_f1"
   ],
   "execution_count": 12,
   "outputs": []
  },
  {
   "cell_type": "code",
   "metadata": {
    "id": "ZjgZJA1WgWLl",
    "ExecuteTime": {
     "end_time": "2025-07-11T04:37:32.864878Z",
     "start_time": "2025-07-11T04:37:32.860031Z"
    }
   },
   "source": [
    "def std_mcc(clf,X,y):\n",
    "  from sklearn.metrics import matthews_corrcoef\n",
    "  import numpy as np\n",
    "\n",
    "  bootstrap_performances = list()\n",
    "  performances = list()\n",
    "  y_pred = clf.predict(X)\n",
    "  Y = np.array(y) # convert list of groundtruths to numpy\n",
    "  Yhat = np.array(y_pred) # same same for predictions\n",
    "  n_samples = len(Y) # get number of samples\n",
    "  n_bootstrap = 1000 # number of bootstrap iterations\n",
    "  for i in range(n_bootstrap): # for each bootstrap draw\n",
    "    subset = np.random.choice(n_samples, n_samples, replace=True)\n",
    "    # create a random subset of your predictions/targets with replacement (this line will only generate the indices for list elements and the line below will grab the random subset with replacement\n",
    "    bootstrap_performances.append(matthews_corrcoef(y[subset], y_pred[subset]) )\n",
    "  sd_mcc = np.std(bootstrap_performances)*1.96\n",
    "  return sd_mcc"
   ],
   "execution_count": 13,
   "outputs": []
  },
  {
   "cell_type": "markdown",
   "metadata": {
    "id": "VwrEQOWRAufE"
   },
   "source": [
    "## Open embedding file"
   ]
  },
  {
   "cell_type": "code",
   "metadata": {
    "id": "L8A4aZOotEMQ",
    "ExecuteTime": {
     "end_time": "2025-07-11T04:37:34.988663Z",
     "start_time": "2025-07-11T04:37:34.985389Z"
    }
   },
   "source": [
    "proteins = []"
   ],
   "execution_count": 14,
   "outputs": []
  },
  {
   "cell_type": "code",
   "metadata": {
    "colab": {
     "base_uri": "https://localhost:8080/"
    },
    "id": "Q0gKEzkBkhP-",
    "outputId": "7aead70d-974b-495e-9a60-ce5d94112705",
    "ExecuteTime": {
     "end_time": "2025-07-11T04:41:56.980264Z",
     "start_time": "2025-07-11T04:37:37.976037Z"
    }
   },
   "source": [
    "!wget https://raw.githubusercontent.com/33220311/Acidophilic/main/Dataset/acidoSplit.csv\n",
    "#!wget https://raw.githubusercontent.com/33220311/Acidophilic/main/acido100.csv"
   ],
   "execution_count": 15,
   "outputs": []
  },
  {
   "cell_type": "code",
   "execution_count": 21,
   "metadata": {
    "colab": {
     "base_uri": "https://localhost:8080/"
    },
    "id": "6IM-tDl8MdHs",
    "outputId": "59162b2a-3d10-4804-bc26-a08d96c546b4"
   },
   "source": [
    "!wget https://github.com/33220311/Extremophilic/raw/main/Embeddings/acidoAdd.h5"
   ],
   "outputs": []
  },
  {
   "cell_type": "code",
   "execution_count": 22,
   "metadata": {
    "id": "eScyOlMFtGjH"
   },
   "source": [
    "with h5py.File('acidoAdd.h5', 'r') as f:\n",
    "    for new_identifier in f.keys():\n",
    "        proteins.append((new_identifier, np.array(f[new_identifier])))"
   ],
   "outputs": []
  },
  {
   "cell_type": "code",
   "execution_count": 23,
   "metadata": {
    "id": "qceNb2wk_F55"
   },
   "source": [
    "with h5py.File('/content/drive/MyDrive/Acidophilic/acidoAdd2.h5', 'r') as f:\n",
    "    for new_identifier in f.keys():\n",
    "        proteins.append((new_identifier, np.array(f[new_identifier])))"
   ],
   "outputs": []
  },
  {
   "cell_type": "code",
   "execution_count": 24,
   "metadata": {
    "id": "dFGvvIM__F6z"
   },
   "source": [
    "with h5py.File('/content/drive/MyDrive/Acidophilic/acidoAdd3.h5', 'r') as f:\n",
    "    for new_identifier in f.keys():\n",
    "        proteins.append((new_identifier, np.array(f[new_identifier])))"
   ],
   "outputs": []
  },
  {
   "cell_type": "code",
   "execution_count": 25,
   "metadata": {
    "id": "x1Qg0B_b_F_v"
   },
   "source": [
    "with h5py.File('/content/drive/MyDrive/Acidophilic/acidoAdd4.h5', 'r') as f:\n",
    "    for new_identifier in f.keys():\n",
    "        proteins.append((new_identifier, np.array(f[new_identifier])))"
   ],
   "outputs": []
  },
  {
   "cell_type": "code",
   "execution_count": 26,
   "metadata": {
    "id": "AwEriFnn_IZP"
   },
   "source": [
    "with h5py.File('/content/drive/MyDrive/Acidophilic/acidoAddT5.h5', 'r') as f:\n",
    "    for new_identifier in f.keys():\n",
    "        proteins.append((new_identifier, np.array(f[new_identifier])))"
   ],
   "outputs": []
  },
  {
   "cell_type": "code",
   "execution_count": 27,
   "metadata": {
    "id": "Kw334WZtTkRi"
   },
   "source": [
    "with h5py.File('/content/drive/MyDrive/Acidophilic/acidoAddT52.h5', 'r') as f:\n",
    "    for new_identifier in f.keys():\n",
    "        proteins.append((new_identifier, np.array(f[new_identifier])))"
   ],
   "outputs": []
  },
  {
   "cell_type": "code",
   "execution_count": 28,
   "metadata": {
    "id": "L9upLYuOdF-K"
   },
   "source": [
    "with h5py.File('/content/drive/MyDrive/Acidophilic/acidoAddT53.h5', 'r') as f:\n",
    "    for new_identifier in f.keys():\n",
    "        proteins.append((new_identifier, np.array(f[new_identifier])))"
   ],
   "outputs": []
  },
  {
   "cell_type": "code",
   "execution_count": 29,
   "metadata": {
    "id": "abJp6wZvtUb2"
   },
   "source": [
    "#proteins"
   ],
   "outputs": []
  },
  {
   "cell_type": "code",
   "metadata": {
    "id": "zfNnO9qltX6v",
    "ExecuteTime": {
     "end_time": "2025-07-11T04:47:28.853827Z",
     "start_time": "2025-07-11T04:47:28.825936Z"
    }
   },
   "source": [
    "# Basic Protocol 3 — Step 5\n",
    "annotations = read_csv('acidoSplit.csv')"
   ],
   "execution_count": 17,
   "outputs": []
  },
  {
   "cell_type": "code",
   "metadata": {
    "colab": {
     "base_uri": "https://localhost:8080/",
     "height": 0
    },
    "id": "t36iDvOQti9m",
    "outputId": "c05b2ccf-0632-4409-bbdb-8d93b9a65fa4",
    "ExecuteTime": {
     "end_time": "2025-07-11T04:47:30.651882Z",
     "start_time": "2025-07-11T04:47:30.623316Z"
    }
   },
   "source": [
    "annotations[:3]"
   ],
   "execution_count": 18,
   "outputs": []
  },
  {
   "cell_type": "code",
   "metadata": {
    "id": "zdwva6fUtkxW",
    "ExecuteTime": {
     "end_time": "2025-07-11T04:47:33.796919Z",
     "start_time": "2025-07-11T04:47:33.789871Z"
    }
   },
   "source": [
    "# Basic Protocol 3 — Step 6\n",
    "train_set = annotations[annotations.set == \"train\"]\n",
    "test_set = annotations[annotations.set == \"test\"]"
   ],
   "execution_count": 19,
   "outputs": []
  },
  {
   "cell_type": "code",
   "metadata": {
    "colab": {
     "base_uri": "https://localhost:8080/"
    },
    "id": "AsPlLP3utmt0",
    "outputId": "5f1f41e6-4254-4f14-cc22-03fe6045f56c",
    "ExecuteTime": {
     "end_time": "2025-07-11T04:47:35.195603Z",
     "start_time": "2025-07-11T04:47:35.192035Z"
    }
   },
   "source": [
    "print(f\"The train set contains {len(train_set)} samples, and we will test on {len(test_set)} samples.\")"
   ],
   "execution_count": 20,
   "outputs": []
  },
  {
   "cell_type": "code",
   "metadata": {
    "colab": {
     "base_uri": "https://localhost:8080/"
    },
    "id": "nN1PpTc3tw-o",
    "outputId": "fb9a62d8-5810-4f76-c5a5-ed5614609952",
    "ExecuteTime": {
     "end_time": "2025-07-11T04:47:38.485703Z",
     "start_time": "2025-07-11T04:47:38.481028Z"
    }
   },
   "source": [
    "# Basic Protocol 3 — Step 7\n",
    "\n",
    "training_embeddings = list()\n",
    "training_identifiers = train_set.identifier.values\n",
    "training_labels = train_set.label.values\n",
    "print(len(training_identifiers))\n",
    "print(len(training_labels))"
   ],
   "execution_count": 21,
   "outputs": []
  },
  {
   "cell_type": "code",
   "metadata": {
    "colab": {
     "base_uri": "https://localhost:8080/"
    },
    "id": "aUcj3y3TfiKq",
    "outputId": "cfe19f48-6903-4688-8e5f-3a3568648a00",
    "ExecuteTime": {
     "end_time": "2025-07-11T04:47:41.824827Z",
     "start_time": "2025-07-11T04:47:41.820336Z"
    }
   },
   "source": [
    "train_set.identifier.values"
   ],
   "execution_count": 22,
   "outputs": []
  },
  {
   "cell_type": "code",
   "metadata": {
    "colab": {
     "base_uri": "https://localhost:8080/"
    },
    "id": "SfK4RZisuE63",
    "outputId": "2181990b-3aee-40db-f8f6-4710d88d303d",
    "ExecuteTime": {
     "end_time": "2025-07-11T04:47:43.429583Z",
     "start_time": "2025-07-11T04:47:43.424833Z"
    }
   },
   "source": [
    "testing_embeddings = list()\n",
    "testing_identifiers = test_set.identifier.values\n",
    "testing_labels = test_set.label.values\n",
    "print(len(testing_identifiers))\n",
    "print(len(testing_labels))"
   ],
   "execution_count": 23,
   "outputs": []
  },
  {
   "cell_type": "code",
   "metadata": {
    "id": "yeo0RsDewH6e",
    "ExecuteTime": {
     "end_time": "2025-07-11T04:47:45.645668Z",
     "start_time": "2025-07-11T04:47:45.642405Z"
    }
   },
   "source": [
    "seq = dict(proteins)\n",
    "delete = list()"
   ],
   "execution_count": 24,
   "outputs": []
  },
  {
   "cell_type": "code",
   "metadata": {
    "id": "Kw7Gs-Ovu1gR",
    "ExecuteTime": {
     "end_time": "2025-07-11T04:47:47.922492Z",
     "start_time": "2025-07-11T04:47:47.917367Z"
    }
   },
   "source": [
    "for identifier in training_identifiers:\n",
    "        if identifier in seq:\n",
    "            embedding = seq[identifier]\n",
    "            training_embeddings.append(embedding)\n",
    "        else:\n",
    "          delete.append(identifier)"
   ],
   "execution_count": 25,
   "outputs": []
  },
  {
   "cell_type": "code",
   "metadata": {
    "id": "Hu95EwOVxceu",
    "ExecuteTime": {
     "end_time": "2025-07-11T04:47:49.930918Z",
     "start_time": "2025-07-11T04:47:49.926681Z"
    }
   },
   "source": [
    "for identifier in testing_identifiers:\n",
    "        if identifier in seq:\n",
    "            embedding = seq[identifier]\n",
    "            testing_embeddings.append(embedding)\n",
    "        else:\n",
    "          delete.append(identifier)"
   ],
   "execution_count": 26,
   "outputs": []
  },
  {
   "cell_type": "code",
   "metadata": {
    "colab": {
     "base_uri": "https://localhost:8080/"
    },
    "id": "s4MLuHQj_uwv",
    "outputId": "702afd7c-0927-43f5-8f85-0e5fafd0a631",
    "ExecuteTime": {
     "end_time": "2025-07-11T04:47:51.803121Z",
     "start_time": "2025-07-11T04:47:51.798260Z"
    }
   },
   "source": [
    "np.where(training_identifiers=='GAX78753')"
   ],
   "execution_count": 27,
   "outputs": []
  },
  {
   "cell_type": "code",
   "metadata": {
    "id": "ZQEfhzAXAPwm",
    "ExecuteTime": {
     "end_time": "2025-07-11T04:47:53.555464Z",
     "start_time": "2025-07-11T04:47:53.550770Z"
    }
   },
   "source": [
    "training_identifiers = np.delete(training_identifiers,985)\n",
    "training_labels = np.delete(training_labels,985)"
   ],
   "execution_count": 28,
   "outputs": []
  },
  {
   "cell_type": "code",
   "metadata": {
    "id": "cq2HsFdtxkpE",
    "ExecuteTime": {
     "end_time": "2025-07-11T04:47:55.254668Z",
     "start_time": "2025-07-11T04:47:55.226392Z"
    }
   },
   "source": [
    "# A sanity check: make sure that the numbers are equal!\n",
    "assert(len(training_identifiers) == len(training_embeddings))\n",
    "assert(len(testing_identifiers) == len(testing_embeddings))"
   ],
   "execution_count": 29,
   "outputs": []
  },
  {
   "cell_type": "code",
   "metadata": {
    "colab": {
     "base_uri": "https://localhost:8080/"
    },
    "id": "53rhy2OK_XLY",
    "outputId": "1d3f270a-f30b-47d5-80c6-bf3b535652f8",
    "ExecuteTime": {
     "end_time": "2025-07-11T04:48:07.016389Z",
     "start_time": "2025-07-11T04:48:07.011714Z"
    }
   },
   "source": [
    "training_embeddings[:3]"
   ],
   "execution_count": 30,
   "outputs": []
  },
  {
   "metadata": {
    "ExecuteTime": {
     "end_time": "2025-07-11T04:52:08.179636Z",
     "start_time": "2025-07-11T04:51:55.936621Z"
    }
   },
   "cell_type": "code",
   "source": "%pip install openpyxl",
   "execution_count": 32,
   "outputs": []
  },
  {
   "cell_type": "code",
   "metadata": {
    "id": "wechMxz8RnJK",
    "ExecuteTime": {
     "end_time": "2025-07-11T04:56:04.749282Z",
     "start_time": "2025-07-11T04:56:04.522855Z"
    }
   },
   "source": [
    "df =pd.DataFrame(delete)\n",
    "df.to_excel('/content/delete.xlsx')"
   ],
   "execution_count": 33,
   "outputs": []
  },
  {
   "cell_type": "code",
   "execution_count": 45,
   "metadata": {
    "colab": {
     "base_uri": "https://localhost:8080/"
    },
    "id": "2-NdRoqfSYej",
    "outputId": "864f48f8-2cb0-4b9f-f32a-f0c491ed473d"
   },
   "source": [
    "delete"
   ],
   "outputs": []
  },
  {
   "cell_type": "markdown",
   "metadata": {
    "id": "bZOHJFqNvNsJ"
   },
   "source": [
    "## Training"
   ]
  },
  {
   "cell_type": "code",
   "execution_count": 46,
   "metadata": {
    "colab": {
     "base_uri": "https://localhost:8080/"
    },
    "id": "_RjStFxt_YIq",
    "outputId": "99b0aecb-d76f-499a-fb3e-e5dfd396ac36"
   },
   "source": [
    "arr_train = np.array(training_embeddings)\n",
    "nsample, nx, ny = arr_train.shape\n",
    "train_dataset = arr_train.reshape((nsample, nx*ny))\n",
    "train_dataset.shape"
   ],
   "outputs": []
  },
  {
   "cell_type": "code",
   "execution_count": 47,
   "metadata": {
    "colab": {
     "base_uri": "https://localhost:8080/"
    },
    "id": "xwtSoASGAPK8",
    "outputId": "3032cdbc-1ed7-458d-e67f-a0860abc7470"
   },
   "source": [
    "arr_test = np.array(testing_embeddings)\n",
    "nsample, nx, ny = arr_test.shape\n",
    "test_dataset = arr_test.reshape((nsample, nx*ny))\n",
    "test_dataset.shape"
   ],
   "outputs": []
  },
  {
   "cell_type": "markdown",
   "metadata": {
    "id": "8eEXVSpeI8Un"
   },
   "source": [
    "### LR"
   ]
  },
  {
   "cell_type": "code",
   "execution_count": 48,
   "metadata": {
    "id": "n6VLSupfI-mW"
   },
   "source": [
    "from sklearn.linear_model import LogisticRegression\n",
    "from sklearn.model_selection import cross_val_score\n",
    "from sklearn.model_selection import cross_validate\n",
    "from sklearn.metrics import confusion_matrix\n",
    "from sklearn.metrics import accuracy_score, make_scorer, f1_score"
   ],
   "outputs": []
  },
  {
   "cell_type": "code",
   "execution_count": null,
   "metadata": {
    "colab": {
     "base_uri": "https://localhost:8080/"
    },
    "id": "UVSgV_nzJAGf",
    "outputId": "f6adfbaa-d0ad-4856-bc43-130d83b7271e"
   },
   "source": [
    "lr = LogisticRegression()\n",
    "lr_history = lr.fit(train_dataset, training_labels)\n",
    "lr.score(test_dataset,testing_labels)"
   ],
   "outputs": []
  },
  {
   "cell_type": "code",
   "execution_count": null,
   "metadata": {
    "id": "pcPV58K3OI9i"
   },
   "source": [
    "scoring ={'accuracy':make_scorer(accuracy_score,greater_is_better=True),'f1':make_scorer(f1_score,greater_is_better=True),'mcc':make_scorer(matthews_corrcoef,greater_is_better=True)}"
   ],
   "outputs": []
  },
  {
   "cell_type": "code",
   "execution_count": null,
   "metadata": {
    "colab": {
     "base_uri": "https://localhost:8080/"
    },
    "id": "o6-zdbj-U8ij",
    "outputId": "b193a848-ef5a-44fb-bdbb-34b7460264d8"
   },
   "source": [
    "scores = cross_validate(lr, train_dataset, training_labels, scoring=scoring, cv=10)\n",
    "scores"
   ],
   "outputs": []
  },
  {
   "cell_type": "code",
   "execution_count": null,
   "metadata": {
    "colab": {
     "base_uri": "https://localhost:8080/",
     "height": 1000
    },
    "id": "MNmAqcsng4LX",
    "outputId": "97da63b6-c48d-417a-879a-9b781ccc7d73"
   },
   "source": [
    "predicted_training_labels = lr.predict(train_dataset)\n",
    "error_rate(training_labels, predicted_training_labels)"
   ],
   "outputs": []
  },
  {
   "cell_type": "code",
   "execution_count": null,
   "metadata": {
    "colab": {
     "base_uri": "https://localhost:8080/"
    },
    "id": "sjQLJMtyJNtD",
    "outputId": "548c2526-a05c-4b2e-afd2-a19411198b7e"
   },
   "source": [
    "predicted_testing_labels = lr.predict(test_dataset)\n",
    "accuracy = accuracy_score(testing_labels, predicted_testing_labels)\n",
    "\n",
    "print(f\"Our model has an accuracy of {accuracy:.2}\")"
   ],
   "outputs": []
  },
  {
   "cell_type": "code",
   "execution_count": null,
   "metadata": {
    "colab": {
     "base_uri": "https://localhost:8080/",
     "height": 1000
    },
    "id": "uxjhmdcwJXsD",
    "outputId": "cae492a3-cc4c-40c1-d929-09731ff5e8d9"
   },
   "source": [
    "error_rate(testing_labels, predicted_testing_labels)"
   ],
   "outputs": []
  },
  {
   "cell_type": "code",
   "execution_count": null,
   "metadata": {
    "id": "TtUZqfB1k4bv"
   },
   "source": [
    "df =pd.DataFrame(train_dataset)\n",
    "df.to_excel('/content/T5_train_dataset.xlsx')\n",
    "df =pd.DataFrame(training_labels)\n",
    "df.to_excel('/content/T5_training_labels.xlsx')\n",
    "df =pd.DataFrame(predicted_training_labels)\n",
    "df.to_excel('/content/T5_pred_train_labels.xlsx')\n",
    "\n",
    "df =pd.DataFrame(test_dataset)\n",
    "df.to_excel('/content/T5_test_dataset.xlsx')\n",
    "df =pd.DataFrame(testing_labels)\n",
    "df.to_excel('/content/T5_testing_labels.xlsx')\n",
    "df =pd.DataFrame(predicted_testing_labels)\n",
    "df.to_excel('/content/T5_pred_test_labels.xlsx')"
   ],
   "outputs": []
  },
  {
   "cell_type": "code",
   "execution_count": null,
   "metadata": {
    "colab": {
     "base_uri": "https://localhost:8080/",
     "height": 522
    },
    "id": "BPUQwR-eKR38",
    "outputId": "e5fb62aa-b92e-4e92-e604-5a28f791b1d7"
   },
   "source": [
    "classes = np.unique(testing_labels)\n",
    "\n",
    "confusion_matrix_data = confusion_matrix(testing_labels, predicted_testing_labels, labels=classes)\n",
    "conf_matrix(confusion_matrix_data)"
   ],
   "outputs": []
  },
  {
   "cell_type": "code",
   "execution_count": null,
   "metadata": {
    "id": "zKcFQmFG1Ikk"
   },
   "source": [
    "TP = confusion_matrix_data[1,1]\n",
    "TN = confusion_matrix_data[0,0]\n",
    "FP = confusion_matrix_data[0,1]\n",
    "FN = confusion_matrix_data[1,0]"
   ],
   "outputs": []
  },
  {
   "cell_type": "code",
   "execution_count": null,
   "metadata": {
    "id": "If-wEyne1Ja0"
   },
   "source": [
    "sn = TP / float(TP + FN)\n",
    "print(sn)\n",
    "sp = TN / float(TN + FP)\n",
    "print(sp)"
   ],
   "outputs": []
  },
  {
   "cell_type": "code",
   "execution_count": null,
   "metadata": {
    "id": "XwjJoJZiOqqC"
   },
   "source": [
    "#lr.save_weights('/result/LR.h5')\n",
    "print(lr.coef_.shape)\n",
    "lr_weights = lr.coef_\n",
    "print(lr_weights)\n",
    "print(np.max(lr_weights))\n",
    "print(np.min(lr_weights))"
   ],
   "outputs": []
  },
  {
   "cell_type": "markdown",
   "metadata": {
    "id": "Zpez8nyOvPOF"
   },
   "source": [
    "### MLP with Grid Search"
   ]
  },
  {
   "cell_type": "code",
   "execution_count": null,
   "metadata": {
    "id": "dS2nqIm3AR53"
   },
   "source": [
    "# Machine learning\n",
    "from sklearn.neural_network import MLPClassifier\n",
    "from sklearn.model_selection import GridSearchCV"
   ],
   "outputs": []
  },
  {
   "cell_type": "code",
   "execution_count": null,
   "metadata": {
    "id": "vug_DpuSylO-"
   },
   "source": [
    "# Basic Protocol 3 — Step 8\n",
    "\n",
    "multilayerperceptron = MLPClassifier(solver='lbfgs', random_state=10, max_iter=1000)\n",
    "\n",
    "parameters = {\n",
    "    'hidden_layer_sizes': [(2560,)],\n",
    "    'learning_rate_init': [ 0.001],\n",
    "    'solver':['sgd'],\n",
    "    'learning_rate': ['constant'],\n",
    "}"
   ],
   "outputs": []
  },
  {
   "cell_type": "code",
   "execution_count": null,
   "metadata": {
    "id": "zignfs2J_1UX"
   },
   "source": [
    "grid_scorer ={'accuracy':make_scorer(accuracy_score),'f1':make_scorer(f1_score),'mcc':make_scorer(matthews_corrcoef,greater_is_better=True)}"
   ],
   "outputs": []
  },
  {
   "cell_type": "code",
   "execution_count": null,
   "metadata": {
    "id": "qlth5o02yn-d"
   },
   "source": [
    "# Basic Protocol 3 — Step 9\n",
    "\n",
    "classifiers = GridSearchCV(multilayerperceptron, parameters, cv=10, scoring=grid_scorer, refit='mcc')\n",
    "history = classifiers.fit(train_dataset, training_labels)\n",
    "classifier = classifiers.best_estimator_"
   ],
   "outputs": []
  },
  {
   "cell_type": "code",
   "execution_count": null,
   "metadata": {
    "id": "6vFSrlejaAc5"
   },
   "source": [
    "df =pd.DataFrame(classifiers.cv_results_)\n",
    "new_path = '/content/test.xls'\n",
    "writer = pd.ExcelWriter(new_path, engine='xlsxwriter')\n",
    "df.to_excel('/content/drive/MyDrive/Acidophilic/T5BMLP61.xlsx')"
   ],
   "outputs": []
  },
  {
   "cell_type": "code",
   "execution_count": null,
   "metadata": {
    "id": "oqx2I23Xo1GY"
   },
   "source": [
    "#plot.grid_search(classifiers.cv_results_, change= 'hidden_layer_sizes', kind='bar')"
   ],
   "outputs": []
  },
  {
   "cell_type": "code",
   "execution_count": null,
   "metadata": {
    "id": "CMv8_JC0WcSQ",
    "colab": {
     "base_uri": "https://localhost:8080/"
    },
    "outputId": "40b2e536-d37d-4a21-b2eb-e914a54ddda5"
   },
   "source": [
    "params = classifier.get_params()\n",
    "params"
   ],
   "outputs": []
  },
  {
   "cell_type": "code",
   "execution_count": null,
   "metadata": {
    "id": "Xicvl76NRpwz",
    "colab": {
     "base_uri": "https://localhost:8080/",
     "height": 1000
    },
    "outputId": "2a3ab410-77d9-414b-ba14-7fb1b24ecfcf"
   },
   "source": [
    "predicted_training_labels = classifier.predict(train_dataset)\n",
    "error_rate(training_labels, predicted_training_labels)"
   ],
   "outputs": []
  },
  {
   "cell_type": "code",
   "execution_count": null,
   "metadata": {
    "id": "o6XZ9vilAJoD",
    "colab": {
     "base_uri": "https://localhost:8080/"
    },
    "outputId": "497cbc3b-80a7-4fda-e7d0-d4ce3b6997df"
   },
   "source": [
    "# Basic Protocol 3 — Step 10\n",
    "\n",
    "predicted_testing_labels = classifier.predict(test_dataset)\n",
    "accuracy = accuracy_score(testing_labels, predicted_testing_labels)\n",
    "\n",
    "print(f\"Our model has an accuracy of {accuracy:.2}\")"
   ],
   "outputs": []
  },
  {
   "cell_type": "code",
   "execution_count": null,
   "metadata": {
    "id": "PS3MxVMkSRXK",
    "colab": {
     "base_uri": "https://localhost:8080/",
     "height": 1000
    },
    "outputId": "10511c6a-1603-438a-f132-ec0837e1c4a2"
   },
   "source": [
    "error_rate(testing_labels, predicted_testing_labels)"
   ],
   "outputs": []
  },
  {
   "cell_type": "code",
   "execution_count": null,
   "metadata": {
    "id": "PeG8NDvGBeYM"
   },
   "source": [
    "#cv_results = DataFrame(classifiers.cv_results_)\n",
    "\n",
    "#cv_results[['param_hidden_layer_sizes','split0_test_score', 'split1_test_score', 'split2_test_score']]"
   ],
   "outputs": []
  },
  {
   "cell_type": "code",
   "execution_count": null,
   "metadata": {
    "id": "ViDDElvGBnf6"
   },
   "source": [
    "# Further metrics\n",
    "from sklearn.metrics import confusion_matrix\n",
    "\n",
    "# Data visualization\n",
    "import plotly.express as px"
   ],
   "outputs": []
  },
  {
   "cell_type": "code",
   "execution_count": null,
   "metadata": {
    "id": "aqKqqPfoBvZ7",
    "colab": {
     "base_uri": "https://localhost:8080/",
     "height": 522
    },
    "outputId": "4d6db0fd-2bdd-4e31-9f50-77004e85f03d"
   },
   "source": [
    "classes = np.unique(testing_labels)\n",
    "\n",
    "confusion_matrix_data = confusion_matrix(testing_labels, predicted_testing_labels, labels=classes)\n",
    "conf_matrix(confusion_matrix_data)"
   ],
   "outputs": []
  },
  {
   "cell_type": "code",
   "execution_count": null,
   "metadata": {
    "id": "Z4XNKlCq0Bw-"
   },
   "source": [
    "TP = confusion_matrix_data[1,1]\n",
    "TN = confusion_matrix_data[0,0]\n",
    "FP = confusion_matrix_data[0,1]\n",
    "FN = confusion_matrix_data[1,0]"
   ],
   "outputs": []
  },
  {
   "cell_type": "code",
   "execution_count": null,
   "metadata": {
    "id": "lLGAjv8Y0N9I",
    "colab": {
     "base_uri": "https://localhost:8080/"
    },
    "outputId": "fbd0adbb-3549-47a8-97e2-f3bc4c2483ba"
   },
   "source": [
    "sn = TP / float(TP + FN)\n",
    "print(sn)"
   ],
   "outputs": []
  },
  {
   "cell_type": "code",
   "execution_count": null,
   "metadata": {
    "id": "CpnlLabl0OMH",
    "colab": {
     "base_uri": "https://localhost:8080/"
    },
    "outputId": "a3466aec-a633-4b95-a1ff-749059b500b3"
   },
   "source": [
    "sp = TN / float(TN + FP)\n",
    "print(sp)"
   ],
   "outputs": []
  },
  {
   "cell_type": "markdown",
   "metadata": {
    "id": "UC6sZ0D_kgZj"
   },
   "source": [
    "### CNN with GridSearch"
   ]
  },
  {
   "cell_type": "code",
   "execution_count": null,
   "metadata": {
    "id": "8S7uiM5ykoYz"
   },
   "source": [
    "import tensorflow as tf\n",
    "from keras.models import Model, Sequential\n",
    "from keras.layers import Input, Dense, Dropout, Activation\n",
    "from keras.callbacks import TensorBoard, ModelCheckpoint, EarlyStopping, CSVLogger\n",
    "from keras.wrappers.scikit_learn import KerasClassifier"
   ],
   "outputs": []
  },
  {
   "cell_type": "code",
   "execution_count": null,
   "metadata": {
    "id": "GycVI1SWkoY0"
   },
   "source": [
    "from keras.layers import Conv1D\n",
    "from keras.layers import MaxPooling1D\n",
    "from keras.layers import Embedding\n",
    "from keras.preprocessing import sequence\n",
    "from keras.layers import Dense\n",
    "from keras.layers import Flatten\n",
    "from keras.utils import to_categorical\n",
    "from keras.preprocessing.image import ImageDataGenerator\n",
    "from time import time"
   ],
   "outputs": []
  },
  {
   "cell_type": "code",
   "execution_count": null,
   "metadata": {
    "id": "g2wBaT28koY0"
   },
   "source": [
    "X_train, X_test= train_dataset, test_dataset\n",
    "y_train, y_test = training_labels, testing_labels"
   ],
   "outputs": []
  },
  {
   "cell_type": "code",
   "execution_count": null,
   "metadata": {
    "id": "jJcrkuiokoY0"
   },
   "source": [
    "Y_train = np.reshape(y_train,(len(y_train),1)).astype(int)\n",
    "Y_test = np.reshape(y_test,(len(y_test),1)).astype(int)"
   ],
   "outputs": []
  },
  {
   "cell_type": "code",
   "execution_count": null,
   "metadata": {
    "id": "jHoLG0YFkoY0"
   },
   "source": [
    "n_timesteps, n_features, n_outputs =train_dataset.shape[0], train_dataset.shape[1], Y_train.shape[1]"
   ],
   "outputs": []
  },
  {
   "cell_type": "code",
   "execution_count": null,
   "metadata": {
    "id": "cpfyojPuYKtg"
   },
   "source": [
    "n_epochs = 30 # 30\n",
    "n_epochs_cv = 10 # 10  # reduce number of epochs for cross validation for performance reason\n",
    "\n",
    "n_cv = 3\n",
    "validation_ratio = 0.10"
   ],
   "outputs": []
  },
  {
   "cell_type": "code",
   "execution_count": null,
   "metadata": {
    "id": "lavUwJEZPC9T"
   },
   "source": [
    "def create_cnn_model(pool_type='max', conv_activation='tanh', dropout_rate=0.1, kernel=3, optimizer='adam'):\n",
    "    # create model\n",
    "    model = Sequential()\n",
    "\n",
    "    # first layer: convolution\n",
    "    #model.add(Conv2D(16, kernel_size=(5, 5), activation='relu', input_shape=(28, 28, 1)))\n",
    "    model.add(Conv1D(filters=128, kernel_size=kernel, activation=conv_activation,input_shape=(n_features,1)))\n",
    "    # second series of layers: convolution, pooling, and dropout\n",
    "    model.add(Conv1D(32, kernel_size=kernel, activation=conv_activation))\n",
    "    if pool_type == 'max':\n",
    "        model.add(MaxPooling1D(pool_size=2))\n",
    "    if pool_type == 'average':\n",
    "        model.add(AveragePooling1D(pool_size=2))\n",
    "    if dropout_rate != 0:\n",
    "        model.add(Dropout(rate=dropout_rate))\n",
    "\n",
    "    # third series of layers: convolution, pooling, and dropout\n",
    "    model.add(Conv1D(64, kernel_size=kernel, activation=conv_activation))   # 32   10\n",
    "    if pool_type == 'max':\n",
    "        model.add(MaxPooling1D(pool_size=2))\n",
    "    if pool_type == 'average':\n",
    "        model.add(AveragePooling1D(pool_size=2))\n",
    "    if dropout_rate != 0:\n",
    "        model.add(Dropout(rate=dropout_rate))\n",
    "\n",
    "    #model.add(Conv1D(64, kernel_size=kernel, activation=conv_activation))   # 32   10\n",
    "    #if pool_type == 'max':\n",
    "    #    model.add(MaxPooling1D(pool_size=2))\n",
    "    #if pool_type == 'average':\n",
    "    #    model.add(AveragePooling1D(pool_size=2))\n",
    "    #if dropout_rate != 0:\n",
    "    #    model.add(Dropout(rate=dropout_rate))\n",
    "\n",
    "    # fourth series\n",
    "    model.add(Flatten())\n",
    "    model.add(Dense(64, activation='sigmoid')) # 64\n",
    "    # add a dropout layer if rate is not null\n",
    "    if dropout_rate != 0:\n",
    "        model.add(Dropout(rate=dropout_rate))\n",
    "\n",
    "    model.add(Dense(1, activation='sigmoid'))\n",
    "\n",
    "    # Compile model\n",
    "    model.compile(\n",
    "        optimizer= optimizer,\n",
    "        loss='binary_crossentropy',\n",
    "        metrics=['accuracy', 'Recall', 'Precision', 'TruePositives', 'TrueNegatives', 'FalsePositives', 'FalseNegatives'],\n",
    "        )\n",
    "    return model"
   ],
   "outputs": []
  },
  {
   "cell_type": "code",
   "execution_count": null,
   "metadata": {
    "id": "VLA3JilNT1UC"
   },
   "source": [
    "cnn = create_cnn_model()"
   ],
   "outputs": []
  },
  {
   "cell_type": "code",
   "execution_count": null,
   "metadata": {
    "id": "Ufu-Fy93T57n"
   },
   "source": [
    "cnn.compile(\n",
    "  optimizer='adam',\n",
    "  loss='binary_crossentropy',\n",
    "  metrics=['accuracy'],\n",
    ")"
   ],
   "outputs": []
  },
  {
   "cell_type": "code",
   "execution_count": null,
   "metadata": {
    "colab": {
     "base_uri": "https://localhost:8080/"
    },
    "id": "gGjva7x6T7mx",
    "outputId": "6ebc1632-4a48-4c90-82e5-404a6d5045d3"
   },
   "source": [
    "cnn.summary()"
   ],
   "outputs": []
  },
  {
   "cell_type": "code",
   "execution_count": null,
   "metadata": {
    "colab": {
     "base_uri": "https://localhost:8080/"
    },
    "id": "ByEiiFAnO6v5",
    "outputId": "3d1980e9-f346-4dfa-d05c-d80740f5a9a1"
   },
   "source": [
    "# optimize model\n",
    "start = time()\n",
    "\n",
    "# create model\n",
    "model = KerasClassifier(build_fn=create_cnn_model, verbose=1)\n",
    "# define parameters and values for grid search\n",
    "param_grid = {\n",
    "    'pool_type': ['max'], #max\n",
    "    'conv_activation': ['relu'],#relu\n",
    "    'epochs': [10],\n",
    "    'kernel':[2], #2\n",
    "    'optimizer':['adam'] #adam\n",
    "}"
   ],
   "outputs": []
  },
  {
   "cell_type": "code",
   "execution_count": null,
   "metadata": {
    "id": "W_7w92d4KMZe"
   },
   "source": [
    "grid_scorer = {'accuracy':make_scorer(accuracy_score),'f1':make_scorer(f1_score),'mcc':make_scorer(matthews_corrcoef,greater_is_better=True)}"
   ],
   "outputs": []
  },
  {
   "cell_type": "code",
   "execution_count": null,
   "metadata": {
    "colab": {
     "base_uri": "https://localhost:8080/"
    },
    "id": "j4AjzaBaZDkC",
    "outputId": "bc2b0ccc-b9c0-4544-d283-6b3425596de1"
   },
   "source": [
    "grid = GridSearchCV(estimator=model, param_grid=param_grid, n_jobs=-1, cv=10, scoring=grid_scorer, refit='mcc')\n",
    "grid_result = grid.fit(train_dataset, Y_train)"
   ],
   "outputs": []
  },
  {
   "cell_type": "code",
   "execution_count": null,
   "metadata": {
    "id": "EZZY0Bs8Ml-y"
   },
   "source": [
    "classifier = grid.best_estimator_"
   ],
   "outputs": []
  },
  {
   "cell_type": "code",
   "execution_count": null,
   "metadata": {
    "id": "YzSG4mEUMvHZ",
    "colab": {
     "base_uri": "https://localhost:8080/"
    },
    "outputId": "340ec9da-f4a0-46ad-fd96-de79b4c06847"
   },
   "source": [
    "params = classifier.get_params()\n",
    "params"
   ],
   "outputs": []
  },
  {
   "cell_type": "code",
   "execution_count": null,
   "metadata": {
    "id": "GvU3yNNhgdFO"
   },
   "source": [
    "def display_cv_results(search_results):\n",
    "    print('Best score = {:.4f} using {}'.format(search_results.best_score_, search_results.best_params_))\n",
    "    means = search_results.cv_results_['mean_test_score']\n",
    "    stds = search_results.cv_results_['std_test_score']\n",
    "    params = search_results.cv_results_['params']\n",
    "    for mean, stdev, param in zip(means, stds, params):\n",
    "        print('mean test accuracy +/- std = {:.4f} +/- {:.4f} with: {}'.format(mean, stdev, param))"
   ],
   "outputs": []
  },
  {
   "cell_type": "code",
   "execution_count": null,
   "metadata": {
    "id": "pdc9syuZgPDy"
   },
   "source": [
    "# summarize results\n",
    "#print('time for grid search = {:.0f} sec'.format(time()-start))\n",
    "#display_cv_results(grid_result)"
   ],
   "outputs": []
  },
  {
   "cell_type": "code",
   "execution_count": null,
   "metadata": {
    "id": "lqp_rfA9dLy2"
   },
   "source": [
    "#DataFrame(grid.cv_results_)"
   ],
   "outputs": []
  },
  {
   "cell_type": "code",
   "execution_count": null,
   "metadata": {
    "id": "xUZQs_FeKkqW",
    "colab": {
     "base_uri": "https://localhost:8080/",
     "height": 1000
    },
    "outputId": "911cff4e-848d-42d9-9318-aad8b45ce770"
   },
   "source": [
    "predicted_training_labels = classifier.predict(train_dataset)\n",
    "error_rate(training_labels, predicted_training_labels)"
   ],
   "outputs": []
  },
  {
   "cell_type": "code",
   "execution_count": null,
   "metadata": {
    "id": "Tn8hczYMdLy5"
   },
   "source": [
    "df =pd.DataFrame(grid.cv_results_)\n",
    "#new_path = '/content/test.xls'\n",
    "#writer = pd.ExcelWriter(new_path, engine='xlsxwriter')\n",
    "df.to_excel('/content/drive/MyDrive/Acidophilic/T5CNN60.xlsx')"
   ],
   "outputs": []
  },
  {
   "cell_type": "code",
   "execution_count": null,
   "metadata": {
    "id": "5UoXcPndi1td",
    "colab": {
     "base_uri": "https://localhost:8080/"
    },
    "outputId": "69ea3f26-0015-4102-8854-0c2f00372de9"
   },
   "source": [
    "classifier = grid.best_estimator_\n",
    "\n",
    "params = classifier.get_params()\n",
    "params"
   ],
   "outputs": []
  },
  {
   "cell_type": "code",
   "execution_count": null,
   "metadata": {
    "id": "-It8jLsCj9dy",
    "colab": {
     "base_uri": "https://localhost:8080/"
    },
    "outputId": "f602024f-9dc0-4e02-814b-2e205286edf7"
   },
   "source": [
    "# Basic Protocol 3 — Step 10\n",
    "\n",
    "predicted_testing_labels = classifier.predict(test_dataset)\n",
    "accuracy = accuracy_score(testing_labels, predicted_testing_labels)\n",
    "\n",
    "print(f\"Our model has an accuracy of {accuracy:.2}\")"
   ],
   "outputs": []
  },
  {
   "cell_type": "code",
   "execution_count": null,
   "metadata": {
    "id": "45PkomX_j9dy",
    "colab": {
     "base_uri": "https://localhost:8080/",
     "height": 1000
    },
    "outputId": "45840cc7-c5df-4a2b-d946-ec27277dc38a"
   },
   "source": [
    "error_rate(testing_labels, predicted_testing_labels)"
   ],
   "outputs": []
  },
  {
   "cell_type": "code",
   "execution_count": null,
   "metadata": {
    "id": "2e7ei0hoj9dy"
   },
   "source": [
    "#from pandas import DataFrame\n",
    "#cv_results = DataFrame(grid.cv_results_)\n",
    "\n",
    "#cv_results[['param_conv_activation','split0_test_score', 'split1_test_score', 'split2_test_score']]"
   ],
   "outputs": []
  },
  {
   "cell_type": "code",
   "execution_count": null,
   "metadata": {
    "id": "R1Ut3Y2ej9dy"
   },
   "source": [
    "# Further metrics\n",
    "from sklearn.metrics import confusion_matrix\n",
    "\n",
    "# Data visualization\n",
    "import plotly.express as px"
   ],
   "outputs": []
  },
  {
   "cell_type": "code",
   "execution_count": null,
   "metadata": {
    "id": "EvD7KRaBj9dy",
    "colab": {
     "base_uri": "https://localhost:8080/",
     "height": 522
    },
    "outputId": "ab36469f-1c8c-4e63-a4b9-c64e5e59e233"
   },
   "source": [
    "classes = np.unique(testing_labels)\n",
    "\n",
    "confusion_matrix_data = confusion_matrix(testing_labels, predicted_testing_labels, labels=classes)\n",
    "conf_matrix(confusion_matrix_data)"
   ],
   "outputs": []
  },
  {
   "cell_type": "code",
   "execution_count": null,
   "metadata": {
    "id": "guHyXf_vj9dy"
   },
   "source": [
    "#TP = confusion_matrix_data[1,1]\n",
    "#TN = confusion_matrix_data[0,0]\n",
    "#FP = confusion_matrix_data[0,1]\n",
    "#FN = confusion_matrix_data[1,0]"
   ],
   "outputs": []
  },
  {
   "cell_type": "code",
   "execution_count": null,
   "metadata": {
    "id": "FpqxYh-7j9dy"
   },
   "source": [
    "#sn = TP / float(TP + FN)\n",
    "#print(sn)"
   ],
   "outputs": []
  },
  {
   "cell_type": "code",
   "execution_count": null,
   "metadata": {
    "id": "NPGTyFCcj9dy"
   },
   "source": [
    "#sp = TN / float(TN + FP)\n",
    "#print(sp)"
   ],
   "outputs": []
  },
  {
   "cell_type": "markdown",
   "metadata": {
    "id": "-tgM9DaT4iGC"
   },
   "source": [
    "### RNN with GridSearch"
   ]
  },
  {
   "cell_type": "code",
   "execution_count": 49,
   "metadata": {
    "id": "cK16axrl4iGE"
   },
   "source": [
    "import tensorflow as tf\n",
    "from tensorflow.keras.layers import SimpleRNN, Bidirectional, Input, Embedding, LSTM, Dropout, Dense, InputLayer, GRU\n",
    "from tensorflow.keras.models import Model, Sequential\n",
    "from keras import regularizers\n",
    "from keras.layers import Embedding, Bidirectional\n",
    "from keras.regularizers import l2\n",
    "from keras.wrappers.scikit_learn import KerasClassifier\n",
    "from time import time\n",
    "from tensorflow.keras import layers"
   ],
   "outputs": []
  },
  {
   "cell_type": "code",
   "execution_count": null,
   "metadata": {
    "id": "buqYUfvFmjgR"
   },
   "source": [
    "from numpy.random import seed\n",
    "seed(1)"
   ],
   "outputs": []
  },
  {
   "cell_type": "code",
   "execution_count": null,
   "metadata": {
    "id": "sOeNrEYSmjgr"
   },
   "source": [
    "from tensorflow.keras.utils import set_random_seed\n",
    "set_random_seed(2)"
   ],
   "outputs": []
  },
  {
   "cell_type": "code",
   "execution_count": null,
   "metadata": {
    "id": "xE7qx0Ef4iGF"
   },
   "source": [
    "X_train, X_test= train_dataset, test_dataset\n",
    "y_train, y_test = training_labels, testing_labels"
   ],
   "outputs": []
  },
  {
   "cell_type": "code",
   "execution_count": null,
   "metadata": {
    "id": "omdigfpk4iGF"
   },
   "source": [
    "X_train = np.reshape(X_train, (X_train.shape[0], X_train.shape[1],1))\n",
    "X_test = np.reshape(X_test, (X_test.shape[0], X_test.shape[1],1))"
   ],
   "outputs": []
  },
  {
   "cell_type": "code",
   "execution_count": null,
   "metadata": {
    "id": "d1V-40i72fiJ"
   },
   "source": [
    "input_shape = X_train[1,:].shape"
   ],
   "outputs": []
  },
  {
   "cell_type": "code",
   "execution_count": null,
   "metadata": {
    "id": "M3L0Zne-xO1r"
   },
   "source": [
    "Y_train = np.reshape(y_train,(len(y_train),1)).astype(int)\n",
    "Y_test = np.reshape(y_test,(len(y_test),1)).astype(int)"
   ],
   "outputs": []
  },
  {
   "cell_type": "code",
   "execution_count": null,
   "metadata": {
    "id": "wUc3tuPW4iGE"
   },
   "source": [
    "max_length = 1280"
   ],
   "outputs": []
  },
  {
   "cell_type": "code",
   "execution_count": null,
   "metadata": {
    "id": "vibk8C8t4iGG"
   },
   "source": [
    "def create_rnn_model(dropout_rate=0.0, units=50, learning_rate_init=0.001, regularizer=0.0, solver='adam'):\n",
    "    x_input = layers.Input(input_shape)\n",
    "    #emb = Embedding(21, units, input_length=max_length)(x_input)\n",
    "    rnn = SimpleRNN(units, activity_regularizer=l2(regularizer), return_sequences = True)(x_input) #kernel_regularizer=l2(0.01), recurrent_regularizer=l2(0.01), bias_regularizer=l2(0.01)\n",
    "    x = Dropout(dropout_rate)(rnn)\n",
    "    rnn2 =SimpleRNN(units, activity_regularizer=l2(dropout_rate), return_sequences = True)(x) #kernel_regularizer=l2(0.01), recurrent_regularizer=l2(0.01), bias_regularizer=l2(0.01)\n",
    "    x2 = Dropout(dropout_rate)(rnn2)\n",
    "    rnn3 =SimpleRNN(units, activity_regularizer=l2(dropout_rate))(x2) #kernel_regularizer=l2(0.01), recurrent_regularizer=l2(0.01), bias_regularizer=l2(0.01)\n",
    "    x3 = Dropout(dropout_rate)(rnn3)\n",
    "    # softmax classifier\n",
    "    x_output = Dense(1, activation='sigmoid')(x3)\n",
    "\n",
    "    model = Model(inputs=x_input, outputs=x_output)\n",
    "    # Compile model\n",
    "    model.compile(\n",
    "        optimizer=tf.keras.optimizers.Adam(learning_rate=learning_rate_init),#solver,#\n",
    "        loss='binary_crossentropy',\n",
    "        metrics=['accuracy'],\n",
    "        )\n",
    "    return model"
   ],
   "outputs": []
  },
  {
   "cell_type": "code",
   "execution_count": null,
   "metadata": {
    "id": "1Fx-WbXR4iGG",
    "colab": {
     "base_uri": "https://localhost:8080/"
    },
    "outputId": "6f614c4c-80cd-4f28-966c-64a7164e612a"
   },
   "source": [
    "rnn_model = create_rnn_model()\n",
    "rnn_model.summary()"
   ],
   "outputs": []
  },
  {
   "cell_type": "code",
   "execution_count": null,
   "metadata": {
    "id": "SZ8aG71e4iGH",
    "colab": {
     "base_uri": "https://localhost:8080/"
    },
    "outputId": "28052990-9f74-4f24-b42d-0ff12f27f0a1"
   },
   "source": [
    "start = time()\n",
    "\n",
    "# create model\n",
    "model = KerasClassifier(build_fn=create_rnn_model, verbose=1, epochs=5, batch_size=256)\n",
    "# define parameters and values for grid search\n",
    "\n",
    "parameters = {\n",
    "    'units':[50], # 1024\n",
    "    'learning_rate_init': [0.0003],\n",
    "    #'solver':['adam'],\n",
    "    'epochs':[5],\n",
    "    'dropout_rate':[0.0], #0.05\n",
    "    'regularizer':[0.0],\n",
    "}"
   ],
   "outputs": []
  },
  {
   "cell_type": "code",
   "execution_count": null,
   "metadata": {
    "id": "K0Us0Bmf4iGH"
   },
   "source": [
    "metrics = {'accuracy':make_scorer(accuracy_score,greater_is_better=True),'f1':make_scorer(f1_score,greater_is_better=True),'mcc':make_scorer(matthews_corrcoef,greater_is_better=True)}"
   ],
   "outputs": []
  },
  {
   "cell_type": "code",
   "execution_count": null,
   "metadata": {
    "id": "VId_Vtu64iGI",
    "colab": {
     "base_uri": "https://localhost:8080/"
    },
    "outputId": "21e8c51a-3e18-40e1-8de3-08e69aaf8f79"
   },
   "source": [
    "grid = GridSearchCV(estimator=model, param_grid=parameters, n_jobs=-1, cv=10, scoring=metrics, refit='mcc')\n",
    "grid_result = grid.fit(X_train, Y_train)"
   ],
   "outputs": []
  },
  {
   "cell_type": "code",
   "execution_count": null,
   "metadata": {
    "id": "n6V4U-0E4iGI"
   },
   "source": [
    "classifier = grid.best_estimator_"
   ],
   "outputs": []
  },
  {
   "cell_type": "code",
   "execution_count": null,
   "metadata": {
    "id": "XxZTjoZX4iGJ",
    "colab": {
     "base_uri": "https://localhost:8080/"
    },
    "outputId": "12f42a6d-5dca-45c4-818f-a2a2e5821b50"
   },
   "source": [
    "params = classifier.get_params()\n",
    "params"
   ],
   "outputs": []
  },
  {
   "cell_type": "code",
   "execution_count": null,
   "metadata": {
    "id": "eU7pc4Fz4iGJ"
   },
   "source": [
    "#cv_results = DataFrame(grid.cv_results_)\n",
    "\n",
    "#cv_results[['param_units','param_dropout_rate','param_regularizer','split0_test_score', 'split1_test_score', 'split2_test_score']]"
   ],
   "outputs": []
  },
  {
   "cell_type": "code",
   "execution_count": null,
   "metadata": {
    "id": "OGc8apIR4iGJ"
   },
   "source": [
    "df =pd.DataFrame(grid.cv_results_)\n",
    "new_path = '/content/test.xls'\n",
    "writer = pd.ExcelWriter(new_path, engine='xlsxwriter')\n",
    "df.to_excel('/content/drive/MyDrive/Acidophilic/T5RNN5.xlsx')"
   ],
   "outputs": []
  },
  {
   "cell_type": "code",
   "execution_count": null,
   "metadata": {
    "id": "RtA2NV_z4iGK",
    "colab": {
     "base_uri": "https://localhost:8080/",
     "height": 1000
    },
    "outputId": "7f78d2eb-5799-4fb1-c118-601974d1900a"
   },
   "source": [
    "predicted_training_labels = classifier.predict(X_train)\n",
    "predicted_training_labels = np.where(predicted_training_labels > 0.5, 1, 0)\n",
    "predicted_training_labels = np.reshape(predicted_training_labels,(len(predicted_training_labels),)).astype(int)\n",
    "error_rate(Y_train, predicted_training_labels)"
   ],
   "outputs": []
  },
  {
   "cell_type": "code",
   "execution_count": null,
   "metadata": {
    "id": "EZNsQYdJ4iGL",
    "colab": {
     "base_uri": "https://localhost:8080/",
     "height": 1000
    },
    "outputId": "62961074-d5a5-4811-9342-c42ea5bf59af"
   },
   "source": [
    "predicted_rnn = classifier.predict(X_test)\n",
    "predicted_rnn = np.where(predicted_rnn > 0.5, 1, 0)\n",
    "predicted_rnn = np.reshape(predicted_rnn,(len(predicted_rnn),)).astype(int)\n",
    "error_rate(Y_test, predicted_rnn)"
   ],
   "outputs": []
  },
  {
   "cell_type": "code",
   "execution_count": null,
   "metadata": {
    "id": "wYsw0tOnU3fs",
    "colab": {
     "base_uri": "https://localhost:8080/",
     "height": 557
    },
    "outputId": "92d61d47-ee21-4283-aaee-241beecbf209"
   },
   "source": [
    "from sklearn.metrics import confusion_matrix\n",
    "\n",
    "classes = np.unique(Y_test)\n",
    "\n",
    "confusion_matrix_data = confusion_matrix(Y_test, predicted_rnn, labels=classes)\n",
    "conf_matrix(confusion_matrix_data)\n",
    "confusion_matrix_data"
   ],
   "outputs": []
  },
  {
   "cell_type": "markdown",
   "metadata": {
    "id": "aUmKQxzxA1Db"
   },
   "source": [
    "### GRU with GridSearch"
   ]
  },
  {
   "cell_type": "code",
   "execution_count": null,
   "metadata": {
    "id": "KK2NSwkbA1Dc"
   },
   "source": [
    "import tensorflow as tf\n",
    "from tensorflow.keras.layers import SimpleRNN, Bidirectional, Input, Embedding, LSTM, Dropout, Dense, InputLayer, GRU\n",
    "from tensorflow.keras.models import Model, Sequential\n",
    "from keras import regularizers\n",
    "from keras.layers import Embedding, Bidirectional\n",
    "from keras.regularizers import l2\n",
    "from keras.wrappers.scikit_learn import KerasClassifier\n",
    "from time import time\n",
    "from tensorflow.keras import layers"
   ],
   "outputs": []
  },
  {
   "cell_type": "code",
   "execution_count": null,
   "metadata": {
    "id": "740UNHeXmkmt"
   },
   "source": [
    "from numpy.random import seed\n",
    "seed(1)"
   ],
   "outputs": []
  },
  {
   "cell_type": "code",
   "execution_count": null,
   "metadata": {
    "id": "RtsqGegkmkmu"
   },
   "source": [
    "from tensorflow.keras.utils import set_random_seed\n",
    "set_random_seed(2)"
   ],
   "outputs": []
  },
  {
   "cell_type": "code",
   "execution_count": null,
   "metadata": {
    "id": "hN7nCbmTcKg2"
   },
   "source": [
    "X_train, X_test= train_dataset, test_dataset\n",
    "y_train, y_test = training_labels, testing_labels"
   ],
   "outputs": []
  },
  {
   "cell_type": "code",
   "execution_count": null,
   "metadata": {
    "id": "gdRdiuWWcKg3"
   },
   "source": [
    "X_train = np.reshape(X_train, (X_train.shape[0], X_train.shape[1],1))\n",
    "X_test = np.reshape(X_test, (X_test.shape[0], X_test.shape[1],1))"
   ],
   "outputs": []
  },
  {
   "cell_type": "code",
   "execution_count": null,
   "metadata": {
    "id": "BZo1uuvLv7jK"
   },
   "source": [
    "input_shape = X_train[1,:].shape"
   ],
   "outputs": []
  },
  {
   "cell_type": "code",
   "execution_count": null,
   "metadata": {
    "id": "7889QoQ7v7jN"
   },
   "source": [
    "Y_train = np.reshape(y_train,(len(y_train),1)).astype(int)\n",
    "Y_test = np.reshape(y_test,(len(y_test),1)).astype(int)"
   ],
   "outputs": []
  },
  {
   "cell_type": "code",
   "execution_count": null,
   "metadata": {
    "id": "4yBJvwV3A1De"
   },
   "source": [
    "max_length = 1280"
   ],
   "outputs": []
  },
  {
   "cell_type": "code",
   "execution_count": null,
   "metadata": {
    "id": "yDwfKhy9A1Dl"
   },
   "source": [
    "def create_gru_model(dropout_rate=0.0, units=50, learning_rate_init=0.001, regularizer=0.0, solver='adam'):\n",
    "    x_input = layers.Input(input_shape)\n",
    "    #emb = Embedding(21, units, input_length=max_length)(x_input)\n",
    "    gru = GRU(units, activity_regularizer=l2(regularizer), return_sequences = True)(x_input) #kernel_regularizer=l2(0.01), recurrent_regularizer=l2(0.01), bias_regularizer=l2(0.01)\n",
    "    x = Dropout(dropout_rate)(gru)\n",
    "    gru2 =GRU(units, activity_regularizer=l2(dropout_rate), return_sequences = True)(x) #kernel_regularizer=l2(0.01), recurrent_regularizer=l2(0.01), bias_regularizer=l2(0.01)\n",
    "    x2 = Dropout(dropout_rate)(gru2)\n",
    "    gru3 =GRU(units, activity_regularizer=l2(dropout_rate))(x2) #kernel_regularizer=l2(0.01), recurrent_regularizer=l2(0.01), bias_regularizer=l2(0.01)\n",
    "    x3 = Dropout(dropout_rate)(gru3)\n",
    "    # softmax classifier\n",
    "    x_output = Dense(1, activation='sigmoid')(x3)\n",
    "\n",
    "    model = Model(inputs=x_input, outputs=x_output)\n",
    "    # Compile model\n",
    "    model.compile(\n",
    "        optimizer=tf.keras.optimizers.Adam(learning_rate=learning_rate_init),\n",
    "        loss='binary_crossentropy',\n",
    "        metrics=['accuracy'],\n",
    "        )\n",
    "    return model"
   ],
   "outputs": []
  },
  {
   "cell_type": "code",
   "execution_count": null,
   "metadata": {
    "id": "Vhouw-7FA1Dm",
    "colab": {
     "base_uri": "https://localhost:8080/"
    },
    "outputId": "b40e7c29-33ba-45ed-80bd-a34f3ec3587e"
   },
   "source": [
    "gru_model = create_gru_model()\n",
    "gru_model.summary()"
   ],
   "outputs": []
  },
  {
   "cell_type": "code",
   "execution_count": null,
   "metadata": {
    "id": "t-w417EQA1Do",
    "colab": {
     "base_uri": "https://localhost:8080/"
    },
    "outputId": "fdde12f6-1590-4000-fc95-7ea699bb64ba"
   },
   "source": [
    "start = time()\n",
    "\n",
    "# create model\n",
    "model = KerasClassifier(build_fn=create_gru_model, verbose=1, epochs=3, batch_size=128)\n",
    "# define parameters and values for grid search\n",
    "\n",
    "parameters = {\n",
    "    'units':[128], # 1024\n",
    "    'learning_rate_init': [1e-08],\n",
    "    #'solver':['adam','sgd'],\n",
    "    'epochs':[5],\n",
    "    'dropout_rate':[0.0], #0.05\n",
    "    'regularizer':[0.0],\n",
    "}"
   ],
   "outputs": []
  },
  {
   "cell_type": "code",
   "execution_count": null,
   "metadata": {
    "id": "rkOj6mr-A1Dp"
   },
   "source": [
    "metrics = {'accuracy':make_scorer(accuracy_score,greater_is_better=True),'f1':make_scorer(f1_score,greater_is_better=True),'mcc':make_scorer(matthews_corrcoef,greater_is_better=True)}"
   ],
   "outputs": []
  },
  {
   "cell_type": "code",
   "execution_count": null,
   "metadata": {
    "colab": {
     "base_uri": "https://localhost:8080/"
    },
    "id": "yigwkBtWA1Dq",
    "outputId": "70c3c9d5-6eb3-48eb-e735-860e6fcae6d5"
   },
   "source": [
    "grid = GridSearchCV(estimator=model, param_grid=parameters, n_jobs=-1, cv=10, scoring=metrics, refit='mcc')\n",
    "grid_result = grid.fit(X_train, Y_train)"
   ],
   "outputs": []
  },
  {
   "cell_type": "code",
   "execution_count": null,
   "metadata": {
    "id": "D_9fa6hpA1Dr"
   },
   "source": [
    "classifier = grid.best_estimator_"
   ],
   "outputs": []
  },
  {
   "cell_type": "code",
   "execution_count": null,
   "metadata": {
    "colab": {
     "base_uri": "https://localhost:8080/"
    },
    "id": "MFBt4GSMA1Ds",
    "outputId": "e00e8a48-7934-412b-e407-007806abcafb"
   },
   "source": [
    "params = classifier.get_params()\n",
    "params"
   ],
   "outputs": []
  },
  {
   "cell_type": "code",
   "execution_count": null,
   "metadata": {
    "id": "IyGS6TWyA1Du"
   },
   "source": [
    "#cv_results = DataFrame(grid.cv_results_)\n",
    "\n",
    "#cv_results[['param_units','param_dropout_rate','param_regularizer','split0_test_score', 'split1_test_score', 'split2_test_score']]"
   ],
   "outputs": []
  },
  {
   "cell_type": "code",
   "execution_count": null,
   "metadata": {
    "id": "4QVS3LvMA1Dv"
   },
   "source": [
    "df =pd.DataFrame(grid.cv_results_)\n",
    "new_path = '/content/test.xls'\n",
    "writer = pd.ExcelWriter(new_path, engine='xlsxwriter')\n",
    "df.to_excel('/content/drive/MyDrive/Acidophilic/T5GRU3.xlsx')"
   ],
   "outputs": []
  },
  {
   "cell_type": "code",
   "execution_count": null,
   "metadata": {
    "colab": {
     "base_uri": "https://localhost:8080/",
     "height": 1000
    },
    "id": "yhqrzzESA1Dw",
    "outputId": "f71ba47c-9f93-448b-fe90-2199dfb6d29d"
   },
   "source": [
    "predicted_training_labels = classifier.predict(X_train)\n",
    "predicted_training_labels = np.where(predicted_training_labels > 0.5, 1, 0)\n",
    "predicted_training_labels = np.reshape(predicted_training_labels,(len(predicted_training_labels),)).astype(int)\n",
    "error_rate(Y_train, predicted_training_labels)"
   ],
   "outputs": []
  },
  {
   "cell_type": "code",
   "execution_count": null,
   "metadata": {
    "colab": {
     "base_uri": "https://localhost:8080/",
     "height": 1000
    },
    "id": "N4Tz8-duA1Dx",
    "outputId": "eb81aa0f-5473-407d-d03f-fefe8a509017"
   },
   "source": [
    "predicted_gru = classifier.predict(X_test)\n",
    "predicted_gru = np.where(predicted_gru > 0.5, 1, 0)\n",
    "predicted_gru = np.reshape(predicted_gru,(len(predicted_gru),)).astype(int)\n",
    "error_rate(Y_test, predicted_gru)"
   ],
   "outputs": []
  },
  {
   "cell_type": "code",
   "execution_count": null,
   "metadata": {
    "colab": {
     "base_uri": "https://localhost:8080/",
     "height": 557
    },
    "id": "gZ3yK5a_U6sE",
    "outputId": "30d9dd65-4a61-4d31-ad36-9a652bc46768"
   },
   "source": [
    "from sklearn.metrics import confusion_matrix\n",
    "\n",
    "classes = np.unique(Y_test)\n",
    "\n",
    "confusion_matrix_data = confusion_matrix(Y_test, predicted_gru, labels=classes)\n",
    "conf_matrix(confusion_matrix_data)\n",
    "confusion_matrix_data"
   ],
   "outputs": []
  },
  {
   "cell_type": "markdown",
   "metadata": {
    "id": "T_fkn3Mq1SP9"
   },
   "source": [
    "### LSTM with GridSearch"
   ]
  },
  {
   "cell_type": "code",
   "execution_count": null,
   "metadata": {
    "id": "nL1rhCTLOm3i"
   },
   "source": [
    "import tensorflow as tf\n",
    "from tensorflow.keras.layers import SimpleRNN, Bidirectional, Input, Embedding, LSTM, Dropout, Dense, InputLayer\n",
    "from tensorflow.keras.models import Model, Sequential\n",
    "from keras import regularizers\n",
    "from keras.layers import Embedding, Bidirectional\n",
    "from keras.regularizers import l2\n",
    "from keras.wrappers.scikit_learn import KerasClassifier\n",
    "from time import time\n",
    "from tensorflow.keras import layers"
   ],
   "outputs": []
  },
  {
   "cell_type": "code",
   "execution_count": null,
   "metadata": {
    "id": "HV-qrcrllpUl"
   },
   "source": [
    "from numpy.random import seed\n",
    "seed(1)"
   ],
   "outputs": []
  },
  {
   "cell_type": "code",
   "execution_count": null,
   "metadata": {
    "id": "ChaSNTnXlpUn"
   },
   "source": [
    "from tensorflow.keras.utils import set_random_seed\n",
    "set_random_seed(2)"
   ],
   "outputs": []
  },
  {
   "cell_type": "code",
   "execution_count": null,
   "metadata": {
    "id": "_4H-YJ54cLXv"
   },
   "source": [
    "X_train, X_test= train_dataset, test_dataset\n",
    "y_train, y_test = training_labels, testing_labels"
   ],
   "outputs": []
  },
  {
   "cell_type": "code",
   "execution_count": null,
   "metadata": {
    "id": "oD-sMZnncLXv"
   },
   "source": [
    "X_train = np.reshape(X_train, (X_train.shape[0], X_train.shape[1],1))\n",
    "X_test = np.reshape(X_test, (X_test.shape[0], X_test.shape[1],1))"
   ],
   "outputs": []
  },
  {
   "cell_type": "code",
   "execution_count": null,
   "metadata": {
    "id": "ab12qLmwv9CR"
   },
   "source": [
    "input_shape = X_train[1,:].shape"
   ],
   "outputs": []
  },
  {
   "cell_type": "code",
   "execution_count": null,
   "metadata": {
    "id": "g0jIxbZ6v9CS"
   },
   "source": [
    "Y_train = np.reshape(y_train,(len(y_train),1)).astype(int)\n",
    "Y_test = np.reshape(y_test,(len(y_test),1)).astype(int)"
   ],
   "outputs": []
  },
  {
   "cell_type": "code",
   "execution_count": null,
   "metadata": {
    "id": "zeXpOYNQTnFZ"
   },
   "source": [
    "def create_lstm_model(activation='tanh', dropout_rate=0.05, units=1024, learning_rate_init= 0.001):\n",
    "    x_input = layers.Input(input_shape)\n",
    "    #emb = Embedding(21, units, input_length=max_length)(x_input)\n",
    "    lstm = LSTM(units, activity_regularizer=l2(dropout_rate))(x_input) #kernel_regularizer=l2(0.01), recurrent_regularizer=l2(0.01), bias_regularizer=l2(0.01)\n",
    "    #x = Dropout(dropout_rate)(lstm)\n",
    "\n",
    "    # softmax classifier\n",
    "    x_output = Dense(1, activation='sigmoid')(lstm)\n",
    "\n",
    "    model = Model(inputs=x_input, outputs=x_output)\n",
    "    # Compile model\n",
    "    model.compile(\n",
    "        optimizer=tf.keras.optimizers.Adam(learning_rate=learning_rate_init),\n",
    "        loss='binary_crossentropy',\n",
    "        metrics=['accuracy'],\n",
    "        )\n",
    "    return model"
   ],
   "outputs": []
  },
  {
   "cell_type": "code",
   "execution_count": null,
   "metadata": {
    "colab": {
     "base_uri": "https://localhost:8080/"
    },
    "id": "ILlQCWCe1SP9",
    "outputId": "e97cb7e7-4299-4fea-c700-5acbc9135c3e"
   },
   "source": [
    "lstm_model = create_lstm_model()\n",
    "lstm_model.summary()"
   ],
   "outputs": []
  },
  {
   "cell_type": "code",
   "execution_count": null,
   "metadata": {
    "colab": {
     "base_uri": "https://localhost:8080/"
    },
    "id": "OoWHbW1IUa9s",
    "outputId": "ff8f363c-42a0-49b7-d393-ffb66fc9ab47"
   },
   "source": [
    "start = time()\n",
    "\n",
    "# create model\n",
    "model = KerasClassifier(build_fn=create_lstm_model, verbose=1, epochs=3, batch_size=128)\n",
    "# define parameters and values for grid search\n",
    "\n",
    "parameters = {\n",
    "    'units':[50], # 1024\n",
    "    'learning_rate_init': [1e-06],\n",
    "    #'solver':['adam','sgd'],\n",
    "    'epochs':[5],\n",
    "    'dropout_rate':[0.0], #0.05\n",
    "    #'regularizer':[0.0],\n",
    "}"
   ],
   "outputs": []
  },
  {
   "cell_type": "code",
   "execution_count": null,
   "metadata": {
    "id": "3KhcgctvdfqW"
   },
   "source": [
    "metrics = {'accuracy':make_scorer(accuracy_score,greater_is_better=True),'f1':make_scorer(f1_score,greater_is_better=True),'mcc':make_scorer(matthews_corrcoef,greater_is_better=True)}"
   ],
   "outputs": []
  },
  {
   "cell_type": "code",
   "execution_count": null,
   "metadata": {
    "colab": {
     "base_uri": "https://localhost:8080/"
    },
    "id": "8Numsz-XU06h",
    "outputId": "31e92216-d45c-4529-e83b-d7d933049671"
   },
   "source": [
    "grid = GridSearchCV(estimator=model, param_grid=parameters, n_jobs=-1, cv=10, scoring=metrics, refit='mcc')\n",
    "grid_result = grid.fit(X_train, Y_train)"
   ],
   "outputs": []
  },
  {
   "cell_type": "code",
   "execution_count": null,
   "metadata": {
    "id": "Qttmg9ayVGeL"
   },
   "source": [
    "classifier = grid.best_estimator_"
   ],
   "outputs": []
  },
  {
   "cell_type": "code",
   "execution_count": null,
   "metadata": {
    "colab": {
     "base_uri": "https://localhost:8080/"
    },
    "id": "3zvaGtn0VGeL",
    "outputId": "11d28408-0b2f-4b18-aeff-a9823a969b26"
   },
   "source": [
    "params = classifier.get_params()\n",
    "params"
   ],
   "outputs": []
  },
  {
   "cell_type": "code",
   "execution_count": null,
   "metadata": {
    "id": "u_kGV3S6VGeL"
   },
   "source": [
    "#cv_results = DataFrame(grid.cv_results_)\n",
    "\n",
    "#cv_results"
   ],
   "outputs": []
  },
  {
   "cell_type": "code",
   "execution_count": null,
   "metadata": {
    "id": "TOW8GSano6QO"
   },
   "source": [
    "df =pd.DataFrame(grid.cv_results_)\n",
    "new_path = '/content/test.xls'\n",
    "writer = pd.ExcelWriter(new_path, engine='xlsxwriter')\n",
    "df.to_excel('/content/drive/MyDrive/Acidophilic/T5LSTM4.xlsx')"
   ],
   "outputs": []
  },
  {
   "cell_type": "code",
   "execution_count": null,
   "metadata": {
    "colab": {
     "base_uri": "https://localhost:8080/",
     "height": 1000
    },
    "id": "VsMHQT0K8vHE",
    "outputId": "2da6717d-5f8e-457e-e5c2-8d0ae2a5e37d"
   },
   "source": [
    "predicted_training_labels = classifier.predict(X_train)\n",
    "predicted_training_labels = np.where(predicted_training_labels > 0.5, 1, 0)\n",
    "predicted_training_labels = np.reshape(predicted_training_labels,(len(predicted_training_labels),)).astype(int)\n",
    "error_rate(Y_train, predicted_training_labels)"
   ],
   "outputs": []
  },
  {
   "cell_type": "code",
   "execution_count": null,
   "metadata": {
    "colab": {
     "base_uri": "https://localhost:8080/",
     "height": 1000
    },
    "id": "jKqfkrJb1SP-",
    "outputId": "69867680-eee6-4438-ffa5-57948e7eb966"
   },
   "source": [
    "predicted_lstm = classifier.predict(X_test)\n",
    "predicted_lstm = np.where(predicted_lstm > 0.5, 1, 0)\n",
    "predicted_lstm = np.reshape(predicted_lstm,(len(predicted_lstm),)).astype(int)\n",
    "error_rate(Y_test, predicted_lstm)"
   ],
   "outputs": []
  },
  {
   "cell_type": "code",
   "execution_count": null,
   "metadata": {
    "colab": {
     "base_uri": "https://localhost:8080/",
     "height": 557
    },
    "id": "smIwB3RzU-Gp",
    "outputId": "1c63f209-a0b0-46ca-f642-3535767520dd"
   },
   "source": [
    "from sklearn.metrics import confusion_matrix\n",
    "\n",
    "classes = np.unique(Y_test)\n",
    "\n",
    "confusion_matrix_data = confusion_matrix(Y_test, predicted_lstm, labels=classes)\n",
    "conf_matrix(confusion_matrix_data)\n",
    "confusion_matrix_data"
   ],
   "outputs": []
  },
  {
   "cell_type": "markdown",
   "metadata": {
    "id": "gghPVbbuLbqN"
   },
   "source": [
    "### BiLSTM with GridSearch"
   ]
  },
  {
   "cell_type": "code",
   "execution_count": 50,
   "metadata": {
    "id": "l-ZqdqeELYEp"
   },
   "source": [
    "import tensorflow as tf\n",
    "from tensorflow.keras.layers import SimpleRNN, Bidirectional, Input, Embedding, LSTM, Dropout, Dense, InputLayer\n",
    "from tensorflow.keras.models import Model, Sequential\n",
    "from keras import regularizers\n",
    "from keras.layers import Embedding, Bidirectional\n",
    "from keras.regularizers import l2\n",
    "from keras.wrappers.scikit_learn import KerasClassifier\n",
    "from time import time"
   ],
   "outputs": []
  },
  {
   "cell_type": "code",
   "execution_count": 51,
   "metadata": {
    "id": "VykWP3LoloW1"
   },
   "source": [
    "from numpy.random import seed\n",
    "seed(1)"
   ],
   "outputs": []
  },
  {
   "cell_type": "code",
   "execution_count": 52,
   "metadata": {
    "id": "QQZ80_qDloW2"
   },
   "source": [
    "from tensorflow.keras.utils import set_random_seed\n",
    "set_random_seed(2)"
   ],
   "outputs": []
  },
  {
   "cell_type": "code",
   "execution_count": 53,
   "metadata": {
    "id": "O3LAhWKvcMUW"
   },
   "source": [
    "X_train, X_test= train_dataset, test_dataset\n",
    "y_train, y_test = training_labels, testing_labels"
   ],
   "outputs": []
  },
  {
   "cell_type": "code",
   "execution_count": 54,
   "metadata": {
    "id": "VewBv-PHcMUX"
   },
   "source": [
    "X_train = np.reshape(X_train, (X_train.shape[0], X_train.shape[1],1))\n",
    "X_test = np.reshape(X_test, (X_test.shape[0], X_test.shape[1],1))"
   ],
   "outputs": []
  },
  {
   "cell_type": "code",
   "execution_count": 55,
   "metadata": {
    "id": "YHTQUCxtv-DU"
   },
   "source": [
    "input_shape = X_train[1,:].shape"
   ],
   "outputs": []
  },
  {
   "cell_type": "code",
   "execution_count": 56,
   "metadata": {
    "id": "r2usnetev-DW"
   },
   "source": [
    "Y_train = np.reshape(y_train,(len(y_train),1)).astype(int)\n",
    "Y_test = np.reshape(y_test,(len(y_test),1)).astype(int)"
   ],
   "outputs": []
  },
  {
   "cell_type": "code",
   "execution_count": 57,
   "metadata": {
    "id": "JN7ZQUqrWfW8"
   },
   "source": [
    "num_words = 22\n",
    "num_classes = 1\n",
    "n_cv = 3\n",
    "num_hiddens = 1024\n",
    "num_steps = 10\n",
    "num_layers = 1"
   ],
   "outputs": []
  },
  {
   "cell_type": "code",
   "execution_count": 58,
   "metadata": {
    "id": "S8Q4lB7lDArN"
   },
   "source": [
    "def create_blstm_model1(activation='relu', dropout_rate=0.0, units=1024, learning_rate_init=0.001):\n",
    "    x_input = layers.Input(input_shape)\n",
    "    #emb = Embedding(21, units, input_length=max_length)(x_input)\n",
    "    bi_rnn = Bidirectional(LSTM(units, activation=activation, activity_regularizer=l2(dropout_rate),return_sequences=True))(x_input) #kernel_regularizer=l2(0.01), recurrent_regularizer=l2(0.01), bias_regularizer=l2(0.01)\n",
    "    x = Dropout(dropout_rate)(bi_rnn)\n",
    "    bi_rnn2 = Bidirectional(LSTM(units, activity_regularizer=l2(dropout_rate)))(x) #kernel_regularizer=l2(0.01), recurrent_regularizer=l2(0.01), bias_regularizer=l2(0.01)\n",
    "    x2 = Dropout(dropout_rate)(bi_rnn2)\n",
    "\n",
    "    # softmax classifier\n",
    "    x_output = Dense(1, activation='sigmoid')(x2)\n",
    "\n",
    "    model = Model(inputs=x_input, outputs=x_output)\n",
    "    # Compile model\n",
    "    model.compile(\n",
    "        optimizer=tf.keras.optimizers.Adam(learning_rate=learning_rate_init),\n",
    "        loss='binary_crossentropy',\n",
    "        metrics=['accuracy'],\n",
    "        )\n",
    "    return model"
   ],
   "outputs": []
  },
  {
   "cell_type": "code",
   "execution_count": 59,
   "metadata": {
    "id": "R9nPpnnK_FNC"
   },
   "source": [
    "blstm1 = create_blstm_model1()"
   ],
   "outputs": []
  },
  {
   "cell_type": "code",
   "execution_count": 60,
   "metadata": {
    "colab": {
     "base_uri": "https://localhost:8080/"
    },
    "id": "boSIUOE0CVJ3",
    "outputId": "52d34e58-af24-47fb-dcba-063731d65263"
   },
   "source": [
    "blstm1.summary()"
   ],
   "outputs": []
  },
  {
   "cell_type": "code",
   "execution_count": 61,
   "metadata": {
    "colab": {
     "base_uri": "https://localhost:8080/"
    },
    "id": "oMK08riVVajL",
    "outputId": "e17a4f34-ac5e-4a05-bead-1d45dd440178"
   },
   "source": [
    "start = time()\n",
    "\n",
    "# create model\n",
    "model = KerasClassifier(build_fn=create_blstm_model1, verbose=1, epochs=3, batch_size=128)\n",
    "# define parameters and values for grid search\n",
    "\n",
    "parameters = {\n",
    "    'units':[128], # 1024\n",
    "    'learning_rate_init': [1e-8],\n",
    "    #'activation':['relu'],\n",
    "    #'solver':['adam','sgd'],\n",
    "    'epochs':[10],\n",
    "    'dropout_rate':[0.0], #0.05\n",
    "    #'regularizer':[0.0],\n",
    "}"
   ],
   "outputs": []
  },
  {
   "cell_type": "code",
   "execution_count": 62,
   "metadata": {
    "id": "2E_3KXV-ds9X"
   },
   "source": [
    "metrics = {'accuracy':make_scorer(accuracy_score,greater_is_better=True),'f1':make_scorer(f1_score,greater_is_better=True),'mcc':make_scorer(matthews_corrcoef,greater_is_better=True)}"
   ],
   "outputs": []
  },
  {
   "cell_type": "code",
   "execution_count": 63,
   "metadata": {
    "colab": {
     "base_uri": "https://localhost:8080/"
    },
    "id": "y5gZrhg7XrYk",
    "outputId": "cc893dd4-e608-46bb-a334-91038dc6e599"
   },
   "source": [
    "grid = GridSearchCV(estimator=model, param_grid=parameters, n_jobs=-1, cv=10, scoring=metrics, refit='mcc')\n",
    "grid_result = grid.fit(X_train, Y_train)"
   ],
   "outputs": []
  },
  {
   "cell_type": "code",
   "execution_count": 64,
   "metadata": {
    "id": "s34hMuo0Z2w2"
   },
   "source": [
    "classifier = grid.best_estimator_"
   ],
   "outputs": []
  },
  {
   "cell_type": "code",
   "execution_count": 65,
   "metadata": {
    "id": "0xmAALc4Z-hd",
    "colab": {
     "base_uri": "https://localhost:8080/"
    },
    "outputId": "8f250d87-a4e8-4856-ee07-530e8ff0f021"
   },
   "source": [
    "params = classifier.get_params()\n",
    "params"
   ],
   "outputs": []
  },
  {
   "cell_type": "code",
   "execution_count": 66,
   "metadata": {
    "id": "RmF350wmb3Bf"
   },
   "source": [
    "#cv_results = DataFrame(grid.cv_results_)\n",
    "\n",
    "#cv_results"
   ],
   "outputs": []
  },
  {
   "cell_type": "code",
   "execution_count": 67,
   "metadata": {
    "id": "mnu0uvNzb3C0"
   },
   "source": [
    "df =pd.DataFrame(grid.cv_results_)\n",
    "new_path = '/content/test.xls'\n",
    "writer = pd.ExcelWriter(new_path, engine='xlsxwriter')\n",
    "df.to_excel('/content/drive/MyDrive/Acidophilic/T5BLSTM2.xlsx')"
   ],
   "outputs": []
  },
  {
   "cell_type": "code",
   "execution_count": 68,
   "metadata": {
    "id": "toJ9ceVVcEVU",
    "colab": {
     "base_uri": "https://localhost:8080/",
     "height": 1000
    },
    "outputId": "ceb845ad-b07c-46ca-c94e-66c9accf0e56"
   },
   "source": [
    "predicted_training_labels = classifier.predict(X_train)\n",
    "predicted_training_labels = np.where(predicted_training_labels > 0.5, 1, 0)\n",
    "predicted_training_labels = np.reshape(predicted_training_labels,(len(predicted_training_labels),)).astype(int)\n",
    "error_rate(Y_train, predicted_training_labels)"
   ],
   "outputs": []
  },
  {
   "cell_type": "code",
   "execution_count": 69,
   "metadata": {
    "id": "fRn-66gpcEWu",
    "colab": {
     "base_uri": "https://localhost:8080/",
     "height": 1000
    },
    "outputId": "9a29a78e-53c0-462e-cddd-d83896bdd343"
   },
   "source": [
    "predicted_blstm = classifier.predict(X_test)\n",
    "predicted_blstm = np.where(predicted_blstm > 0.5, 1, 0)\n",
    "predicted_blstm = np.reshape(predicted_blstm,(len(predicted_blstm),)).astype(int)\n",
    "error_rate(Y_test, predicted_blstm)"
   ],
   "outputs": []
  },
  {
   "cell_type": "code",
   "execution_count": 70,
   "metadata": {
    "id": "Mq63NqNfukNI",
    "colab": {
     "base_uri": "https://localhost:8080/",
     "height": 447
    },
    "outputId": "77fc5831-4e3a-48a0-f48e-43839b9b565f"
   },
   "source": [
    "fpr_BLSTM , tpr_BLSTM, thresholds_BLSTM = roc_curve(Y_test, predicted_blstm)\n",
    "auc_score = roc_auc_score(Y_test, predicted_blstm)\n",
    "plt.plot(fpr_BLSTM, tpr_BLSTM, label= \"BLSTM ({:.2f})\".format(auc_score))"
   ],
   "outputs": []
  },
  {
   "cell_type": "code",
   "execution_count": 71,
   "metadata": {
    "id": "mtyKU7eecPix",
    "colab": {
     "base_uri": "https://localhost:8080/",
     "height": 563
    },
    "outputId": "5a313c38-9583-441e-945b-ee06778a3f3a"
   },
   "source": [
    "from sklearn.metrics import confusion_matrix\n",
    "\n",
    "classes = np.unique(Y_test)\n",
    "\n",
    "confusion_matrix_data = confusion_matrix(Y_test, predicted_blstm, labels=classes)\n",
    "conf_matrix(confusion_matrix_data)\n",
    "confusion_matrix_data"
   ],
   "outputs": []
  }
 ],
 "metadata": {
  "colab": {
   "collapsed_sections": [
    "-_VfMK7xkcgn",
    "ydyh-KnUWTNV",
    "VwrEQOWRAufE",
    "Zpez8nyOvPOF",
    "T_fkn3Mq1SP9"
   ],
   "machine_shape": "hm",
   "provenance": [],
   "toc_visible": true,
   "gpuClass": "premium"
  },
  "gpuClass": "premium",
  "kernelspec": {
   "display_name": "Python 3 (ipykernel)",
   "name": "python3",
   "language": "python"
  },
  "language_info": {
   "name": "python"
  }
 },
 "nbformat": 4,
 "nbformat_minor": 0
}
