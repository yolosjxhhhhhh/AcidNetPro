{
 "cells": [
  {
   "metadata": {
    "ExecuteTime": {
     "end_time": "2025-07-20T10:33:10.011356Z",
     "start_time": "2025-07-20T10:33:06.050040Z"
    }
   },
   "cell_type": "code",
   "source": [
    "import numpy as np\n",
    "import torch\n",
    "import torch.nn as nn\n",
    "from torch.utils.data import Dataset, DataLoader, Subset\n",
    "from sklearn.model_selection import StratifiedKFold\n",
    "from sklearn.metrics import (\n",
    "    accuracy_score, precision_score, recall_score, f1_score, matthews_corrcoef,\n",
    "    confusion_matrix, roc_auc_score, average_precision_score\n",
    ")\n",
    "import random\n",
    "import os\n",
    "from tqdm import tqdm\n",
    "\n",
    "def set_seed(seed=42):\n",
    "    random.seed(seed)\n",
    "    np.random.seed(seed)\n",
    "    torch.manual_seed(seed)\n",
    "    torch.cuda.manual_seed(seed)\n",
    "    torch.cuda.manual_seed_all(seed)\n",
    "    os.environ['PYTHONHASHSEED'] = str(seed)\n",
    "    torch.backends.cudnn.deterministic = True\n",
    "    torch.backends.cudnn.benchmark = False\n",
    "\n",
    "set_seed(42)"
   ],
   "id": "eb5523e38afccd49",
   "outputs": [],
   "execution_count": 1
  },
  {
   "metadata": {
    "ExecuteTime": {
     "end_time": "2025-07-20T10:33:10.023693Z",
     "start_time": "2025-07-20T10:33:10.013091Z"
    }
   },
   "cell_type": "code",
   "source": [
    "# 数据集类 - 使用平均池化\n",
    "class ProteinNPYDataset(Dataset):\n",
    "    def __init__(self, pos_path, neg_path):\n",
    "        self.pos = np.load(pos_path, mmap_mode='r')\n",
    "        self.neg = np.load(neg_path, mmap_mode='r')\n",
    "        self.lengths = [len(self.pos), len(self.neg)]\n",
    "        self.total_len = self.lengths[0] + self.lengths[1]\n",
    "\n",
    "    def __len__(self):\n",
    "        return self.total_len\n",
    "\n",
    "    def __getitem__(self, idx):\n",
    "        if idx < self.lengths[0]:\n",
    "            x = self.pos[idx]  # (300, 1152)\n",
    "            y = 1\n",
    "        else:\n",
    "            x = self.neg[idx - self.lengths[0]]  # (300, 1152)\n",
    "            y = 0\n",
    "        \n",
    "        # 平均池化：将(300, 1152) -> (1152,)\n",
    "        x_pooled = np.mean(x, axis=0)\n",
    "        \n",
    "        return torch.tensor(x_pooled, dtype=torch.float32), torch.tensor(y, dtype=torch.long)"
   ],
   "id": "9f63b4ab27330dbd",
   "outputs": [],
   "execution_count": 2
  },
  {
   "metadata": {
    "ExecuteTime": {
     "end_time": "2025-07-20T10:33:10.036848Z",
     "start_time": "2025-07-20T10:33:10.025561Z"
    }
   },
   "cell_type": "code",
   "source": [
    "# GPU加速的基线模型\n",
    "class LogisticRegressionGPU(nn.Module):\n",
    "    def __init__(self, input_dim=1152, num_classes=2):\n",
    "        super().__init__()\n",
    "        self.linear = nn.Linear(input_dim, num_classes)\n",
    "    \n",
    "    def forward(self, x):\n",
    "        return self.linear(x)\n",
    "\n",
    "class SVMGPU(nn.Module):\n",
    "    def __init__(self, input_dim=1152, hidden_dim=512, num_classes=2):\n",
    "        super().__init__()\n",
    "        self.classifier = nn.Sequential(\n",
    "            nn.Linear(input_dim, hidden_dim),\n",
    "            nn.ReLU(),\n",
    "            nn.Dropout(0.3),\n",
    "            nn.Linear(hidden_dim, hidden_dim//2),\n",
    "            nn.ReLU(),\n",
    "            nn.Dropout(0.3),\n",
    "            nn.Linear(hidden_dim//2, num_classes)\n",
    "        )\n",
    "    \n",
    "    def forward(self, x):\n",
    "        return self.classifier(x)\n",
    "\n",
    "class RandomForestGPU(nn.Module):\n",
    "    def __init__(self, input_dim=1152, hidden_dim=256, num_classes=2):\n",
    "        super().__init__()\n",
    "        self.classifier = nn.Sequential(\n",
    "            nn.Linear(input_dim, hidden_dim),\n",
    "            nn.ReLU(),\n",
    "            nn.Dropout(0.5),\n",
    "            nn.Linear(hidden_dim, hidden_dim),\n",
    "            nn.ReLU(),\n",
    "            nn.Dropout(0.5),\n",
    "            nn.Linear(hidden_dim, num_classes)\n",
    "        )\n",
    "    \n",
    "    def forward(self, x):\n",
    "        return self.classifier(x)\n",
    "\n",
    "class GradientBoostingGPU(nn.Module):\n",
    "    def __init__(self, input_dim=1152, hidden_dim=512, num_classes=2):\n",
    "        super().__init__()\n",
    "        self.classifier = nn.Sequential(\n",
    "            nn.Linear(input_dim, hidden_dim),\n",
    "            nn.ReLU(),\n",
    "            nn.Dropout(0.2),\n",
    "            nn.Linear(hidden_dim, hidden_dim//2),\n",
    "            nn.ReLU(),\n",
    "            nn.Dropout(0.2),\n",
    "            nn.Linear(hidden_dim//2, num_classes)\n",
    "        )\n",
    "    \n",
    "    def forward(self, x):\n",
    "        return self.classifier(x)"
   ],
   "id": "86c363605ff6d02",
   "outputs": [],
   "execution_count": 3
  },
  {
   "metadata": {},
   "cell_type": "markdown",
   "source": "",
   "id": "a5aab0196d353297"
  },
  {
   "metadata": {
    "ExecuteTime": {
     "end_time": "2025-07-20T10:33:10.063788Z",
     "start_time": "2025-07-20T10:33:10.041387Z"
    }
   },
   "cell_type": "code",
   "source": [
    "# 评估函数\n",
    "def calculate_all_metrics(y_true, y_pred, y_proba):\n",
    "    \"\"\"计算所有评估指标\"\"\"\n",
    "    # 基础指标\n",
    "    acc = accuracy_score(y_true, y_pred)\n",
    "    pre = precision_score(y_true, y_pred)\n",
    "    rec = recall_score(y_true, y_pred)\n",
    "    f1 = f1_score(y_true, y_pred)\n",
    "    mcc = matthews_corrcoef(y_true, y_pred)\n",
    "    \n",
    "    # 混淆矩阵计算SN和SP\n",
    "    tn, fp, fn, tp = confusion_matrix(y_true, y_pred).ravel()\n",
    "    sn = tp / (tp + fn) if (tp + fn) > 0 else 0  # 敏感性 (Sensitivity/Recall)\n",
    "    sp = tn / (tn + fp) if (tn + fp) > 0 else 0  # 特异性 (Specificity)\n",
    "    \n",
    "    # AUC和AUPRC\n",
    "    auc = roc_auc_score(y_true, y_proba)\n",
    "    auprc = average_precision_score(y_true, y_proba)\n",
    "    \n",
    "    return {\n",
    "        'ACC': acc, 'PRE': pre, 'REC': rec, 'F1': f1, 'MCC': mcc,\n",
    "        'SN': sn, 'SP': sp, 'AUC': auc, 'AUPRC': auprc\n",
    "    }\n",
    "\n",
    "def print_metrics(metrics, prefix=\"\"):\n",
    "    \"\"\"打印指标\"\"\"\n",
    "    print(f\"{prefix}ACC: {metrics['ACC']:.4f}, PRE: {metrics['PRE']:.4f}, REC: {metrics['REC']:.4f}, F1: {metrics['F1']:.4f}, MCC: {metrics['MCC']:.4f}\")\n",
    "    print(f\"{prefix}SN: {metrics['SN']:.4f}, SP: {metrics['SP']:.4f}, AUC: {metrics['AUC']:.4f}, AUPRC: {metrics['AUPRC']:.4f}\")"
   ],
   "id": "8a10feb12d5c6c09",
   "outputs": [],
   "execution_count": 4
  },
  {
   "metadata": {
    "ExecuteTime": {
     "end_time": "2025-07-20T10:33:10.167255Z",
     "start_time": "2025-07-20T10:33:10.066434Z"
    }
   },
   "cell_type": "code",
   "source": [
    "# 数据路径\n",
    "train_pos = '/exp_data/sjx/star/first_data/ESM-embedding/positive_train_embedding.npy'\n",
    "train_neg = '/exp_data/sjx/star/first_data/ESM-embedding/negative_train_embedding.npy'\n",
    "test_pos = '/exp_data/sjx/star/first_data/ESM-embedding/positive_test_embedding.npy'\n",
    "test_neg = '/exp_data/sjx/star/first_data/ESM-embedding/negative_test_embedding.npy'\n",
    "\n",
    "# 构建全体索引和标签（不加载数据）\n",
    "pos_len = np.load(train_pos, mmap_mode='r').shape[0]\n",
    "neg_len = np.load(train_neg, mmap_mode='r').shape[0]\n",
    "all_indices = np.concatenate([np.arange(pos_len), np.arange(neg_len) + pos_len])\n",
    "all_labels = np.concatenate([np.ones(pos_len, dtype=int), np.zeros(neg_len, dtype=int)])\n",
    "\n",
    "print(f\"训练集正样本: {pos_len}, 负样本: {neg_len}\")\n",
    "print(f\"总样本数: {len(all_indices)}\")\n",
    "\n",
    "# 数据集（只创建索引，不加载数据）\n",
    "full_dataset = ProteinNPYDataset(train_pos, train_neg)\n",
    "test_dataset = ProteinNPYDataset(test_pos, test_neg)\n",
    "\n",
    "print(f\"训练集大小: {len(full_dataset)}\")\n",
    "print(f\"测试集大小: {len(test_dataset)}\")\n",
    "print(f\"特征维度: 1152 (平均池化后)\")\n",
    "\n",
    "device = torch.device(\"cuda\" if torch.cuda.is_available() else \"cpu\")\n",
    "print(f\"使用设备: {device}\")"
   ],
   "id": "330dbb9da3f8e6b",
   "outputs": [
    {
     "name": "stdout",
     "output_type": "stream",
     "text": [
      "训练集正样本: 3271, 负样本: 1323\n",
      "总样本数: 4594\n",
      "训练集大小: 4594\n",
      "测试集大小: 1149\n",
      "特征维度: 1152 (平均池化后)\n",
      "使用设备: cuda\n"
     ]
    }
   ],
   "execution_count": 5
  },
  {
   "metadata": {
    "ExecuteTime": {
     "end_time": "2025-07-20T10:33:10.184578Z",
     "start_time": "2025-07-20T10:33:10.178198Z"
    }
   },
   "cell_type": "code",
   "source": "",
   "id": "b487d1381a654d1f",
   "outputs": [],
   "execution_count": 5
  },
  {
   "metadata": {
    "ExecuteTime": {
     "end_time": "2025-07-20T10:33:12.795313Z",
     "start_time": "2025-07-20T10:33:12.788348Z"
    }
   },
   "cell_type": "code",
   "source": [
    "# K折分层\n",
    "skf = StratifiedKFold(n_splits=10, shuffle=True, random_state=42)\n",
    "\n",
    "# 存储结果\n",
    "models_results = {\n",
    "    'LogisticRegression': {'cv': [], 'test': []},\n",
    "    'SVM': {'cv': [], 'test': []},\n",
    "    'RandomForest': {'cv': [], 'test': []},\n",
    "    'GradientBoosting': {'cv': [], 'test': []}\n",
    "}\n",
    "\n",
    "# 记录最佳测试ACC\n",
    "best_test_acc = {model: 0 for model in models_results.keys()}\n",
    "best_test_fold = {model: 0 for model in models_results.keys()}\n",
    "best_test_metrics = {model: None for model in models_results.keys()}\n",
    "device = torch.device(\"cuda\" if torch.cuda.is_available() else \"cpu\")\n",
    "print(\"开始十折交叉验证...\")"
   ],
   "id": "53e51dba41fe2f30",
   "outputs": [
    {
     "name": "stdout",
     "output_type": "stream",
     "text": [
      "开始十折交叉验证...\n"
     ]
    }
   ],
   "execution_count": 6
  },
  {
   "metadata": {
    "ExecuteTime": {
     "end_time": "2025-07-20T10:02:50.284455Z",
     "start_time": "2025-07-20T09:47:15.878271Z"
    }
   },
   "cell_type": "code",
   "source": [
    "for fold, (train_idx, val_idx) in enumerate(skf.split(all_indices, all_labels), 1):\n",
    "    print(f\"\\n{'='*60}\")\n",
    "    print(f\"========== Fold {fold}/10 ==========\")\n",
    "    print(f\"{'='*60}\")\n",
    "    \n",
    "    print(f\"训练集样本数: {len(train_idx)}, 验证集样本数: {len(val_idx)}\")\n",
    "    \n",
    "    # 准备数据加载器（只传索引，不加载数据）\n",
    "    train_loader = DataLoader(Subset(full_dataset, train_idx), batch_size=128, shuffle=True, num_workers=4)\n",
    "    val_loader = DataLoader(Subset(full_dataset, val_idx), batch_size=128, shuffle=False, num_workers=4)\n",
    "    test_loader = DataLoader(test_dataset, batch_size=128, shuffle=False, num_workers=4)\n",
    "    \n",
    "    # ========== 逻辑回归 ==========\n",
    "    print(f\"\\n--- 逻辑回归 Fold {fold} ---\")\n",
    "    \n",
    "    model = LogisticRegressionGPU().to(device)\n",
    "    optimizer = torch.optim.Adam(model.parameters(), lr=1e-3)\n",
    "    criterion = nn.CrossEntropyLoss()\n",
    "    \n",
    "    # 训练\n",
    "    model.train()\n",
    "    for epoch in range(20):\n",
    "        for x, y in tqdm(train_loader, desc=f\"逻辑回归训练 Epoch {epoch+1}\"):\n",
    "            x, y = x.to(device), y.to(device)\n",
    "            optimizer.zero_grad()\n",
    "            logits = model(x)\n",
    "            loss = criterion(logits, y)\n",
    "            loss.backward()\n",
    "            optimizer.step()\n",
    "    \n",
    "    # 验证\n",
    "    model.eval()\n",
    "    val_preds, val_labels, val_probs = [], [], []\n",
    "    with torch.no_grad():\n",
    "        for x, y in tqdm(val_loader, desc=\"逻辑回归验证\"):\n",
    "            x, y = x.to(device), y.to(device)\n",
    "            logits = model(x)\n",
    "            probs = torch.softmax(logits, dim=1)\n",
    "            preds = torch.argmax(logits, dim=1)\n",
    "            val_preds.extend(preds.cpu().numpy())\n",
    "            val_labels.extend(y.cpu().numpy())\n",
    "            val_probs.extend(probs[:, 1].cpu().numpy())\n",
    "    \n",
    "    val_metrics = calculate_all_metrics(val_labels, val_preds, val_probs)\n",
    "    print_metrics(val_metrics, \"验证集 \")\n",
    "    models_results['LogisticRegression']['cv'].append(val_metrics)\n",
    "    \n",
    "    # 测试\n",
    "    test_preds, test_labels, test_probs = [], [], []\n",
    "    with torch.no_grad():\n",
    "        for x, y in tqdm(test_loader, desc=\"逻辑回归测试\"):\n",
    "            x, y = x.to(device), y.to(device)\n",
    "            logits = model(x)\n",
    "            probs = torch.softmax(logits, dim=1)\n",
    "            preds = torch.argmax(logits, dim=1)\n",
    "            test_preds.extend(preds.cpu().numpy())\n",
    "            test_labels.extend(y.cpu().numpy())\n",
    "            test_probs.extend(probs[:, 1].cpu().numpy())\n",
    "    \n",
    "    test_metrics = calculate_all_metrics(test_labels, test_preds, test_probs)\n",
    "    print_metrics(test_metrics, \"测试集 \")\n",
    "    models_results['LogisticRegression']['test'].append(test_metrics)\n",
    "    \n",
    "    if test_metrics['ACC'] > best_test_acc['LogisticRegression']:\n",
    "        best_test_acc['LogisticRegression'] = test_metrics['ACC']\n",
    "        best_test_fold['LogisticRegression'] = fold\n",
    "        best_test_metrics['LogisticRegression'] = test_metrics\n",
    "    \n",
    "    # ========== SVM ==========\n",
    "    print(f\"\\n--- SVM Fold {fold} ---\")\n",
    "    \n",
    "    model = SVMGPU().to(device)\n",
    "    optimizer = torch.optim.Adam(model.parameters(), lr=1e-3)\n",
    "    criterion = nn.CrossEntropyLoss()\n",
    "    \n",
    "    # 训练\n",
    "    model.train()\n",
    "    for epoch in range(30):\n",
    "        for x, y in tqdm(train_loader, desc=f\"SVM训练 Epoch {epoch+1}\"):\n",
    "            x, y = x.to(device), y.to(device)\n",
    "            optimizer.zero_grad()\n",
    "            logits = model(x)\n",
    "            loss = criterion(logits, y)\n",
    "            loss.backward()\n",
    "            optimizer.step()\n",
    "    \n",
    "    # 验证\n",
    "    model.eval()\n",
    "    val_preds, val_labels, val_probs = [], [], []\n",
    "    with torch.no_grad():\n",
    "        for x, y in tqdm(val_loader, desc=\"SVM验证\"):\n",
    "            x, y = x.to(device), y.to(device)\n",
    "            logits = model(x)\n",
    "            probs = torch.softmax(logits, dim=1)\n",
    "            preds = torch.argmax(logits, dim=1)\n",
    "            val_preds.extend(preds.cpu().numpy())\n",
    "            val_labels.extend(y.cpu().numpy())\n",
    "            val_probs.extend(probs[:, 1].cpu().numpy())\n",
    "    \n",
    "    val_metrics = calculate_all_metrics(val_labels, val_preds, val_probs)\n",
    "    print_metrics(val_metrics, \"验证集 \")\n",
    "    models_results['SVM']['cv'].append(val_metrics)\n",
    "    \n",
    "    # 测试\n",
    "    test_preds, test_labels, test_probs = [], [], []\n",
    "    with torch.no_grad():\n",
    "        for x, y in tqdm(test_loader, desc=\"SVM测试\"):\n",
    "            x, y = x.to(device), y.to(device)\n",
    "            logits = model(x)\n",
    "            probs = torch.softmax(logits, dim=1)\n",
    "            preds = torch.argmax(logits, dim=1)\n",
    "            test_preds.extend(preds.cpu().numpy())\n",
    "            test_labels.extend(y.cpu().numpy())\n",
    "            test_probs.extend(probs[:, 1].cpu().numpy())\n",
    "    \n",
    "    test_metrics = calculate_all_metrics(test_labels, test_preds, test_probs)\n",
    "    print_metrics(test_metrics, \"测试集 \")\n",
    "    models_results['SVM']['test'].append(test_metrics)\n",
    "    \n",
    "    if test_metrics['ACC'] > best_test_acc['SVM']:\n",
    "        best_test_acc['SVM'] = test_metrics['ACC']\n",
    "        best_test_fold['SVM'] = fold\n",
    "        best_test_metrics['SVM'] = test_metrics\n",
    "    \n",
    "    # ========== 随机森林 ==========\n",
    "    print(f\"\\n--- 随机森林 Fold {fold} ---\")\n",
    "    \n",
    "    model = RandomForestGPU().to(device)\n",
    "    optimizer = torch.optim.Adam(model.parameters(), lr=1e-3)\n",
    "    criterion = nn.CrossEntropyLoss()\n",
    "    \n",
    "    # 训练\n",
    "    model.train()\n",
    "    for epoch in range(25):\n",
    "        for x, y in tqdm(train_loader, desc=f\"随机森林训练 Epoch {epoch+1}\"):\n",
    "            x, y = x.to(device), y.to(device)\n",
    "            optimizer.zero_grad()\n",
    "            logits = model(x)\n",
    "            loss = criterion(logits, y)\n",
    "            loss.backward()\n",
    "            optimizer.step()\n",
    "    \n",
    "    # 验证\n",
    "    model.eval()\n",
    "    val_preds, val_labels, val_probs = [], [], []\n",
    "    with torch.no_grad():\n",
    "        for x, y in tqdm(val_loader, desc=\"随机森林验证\"):\n",
    "            x, y = x.to(device), y.to(device)\n",
    "            logits = model(x)\n",
    "            probs = torch.softmax(logits, dim=1)\n",
    "            preds = torch.argmax(logits, dim=1)\n",
    "            val_preds.extend(preds.cpu().numpy())\n",
    "            val_labels.extend(y.cpu().numpy())\n",
    "            val_probs.extend(probs[:, 1].cpu().numpy())\n",
    "    \n",
    "    val_metrics = calculate_all_metrics(val_labels, val_preds, val_probs)\n",
    "    print_metrics(val_metrics, \"验证集 \")\n",
    "    models_results['RandomForest']['cv'].append(val_metrics)\n",
    "    \n",
    "    # 测试\n",
    "    test_preds, test_labels, test_probs = [], [], []\n",
    "    with torch.no_grad():\n",
    "        for x, y in tqdm(test_loader, desc=\"随机森林测试\"):\n",
    "            x, y = x.to(device), y.to(device)\n",
    "            logits = model(x)\n",
    "            probs = torch.softmax(logits, dim=1)\n",
    "            preds = torch.argmax(logits, dim=1)\n",
    "            test_preds.extend(preds.cpu().numpy())\n",
    "            test_labels.extend(y.cpu().numpy())\n",
    "            test_probs.extend(probs[:, 1].cpu().numpy())\n",
    "    \n",
    "    test_metrics = calculate_all_metrics(test_labels, test_preds, test_probs)\n",
    "    print_metrics(test_metrics, \"测试集 \")\n",
    "    models_results['RandomForest']['test'].append(test_metrics)\n",
    "    \n",
    "    if test_metrics['ACC'] > best_test_acc['RandomForest']:\n",
    "        best_test_acc['RandomForest'] = test_metrics['ACC']\n",
    "        best_test_fold['RandomForest'] = fold\n",
    "        best_test_metrics['RandomForest'] = test_metrics\n",
    "    \n",
    "    # ========== 梯度提升 ==========\n",
    "    print(f\"\\n--- 梯度提升 Fold {fold} ---\")\n",
    "    \n",
    "    model = GradientBoostingGPU().to(device)\n",
    "    optimizer = torch.optim.Adam(model.parameters(), lr=1e-3)\n",
    "    criterion = nn.CrossEntropyLoss()\n",
    "    \n",
    "    # 训练\n",
    "    model.train()\n",
    "    for epoch in range(35):\n",
    "        for x, y in tqdm(train_loader, desc=f\"梯度提升训练 Epoch {epoch+1}\"):\n",
    "            x, y = x.to(device), y.to(device)\n",
    "            optimizer.zero_grad()\n",
    "            logits = model(x)\n",
    "            loss = criterion(logits, y)\n",
    "            loss.backward()\n",
    "            optimizer.step()\n",
    "    \n",
    "    # 验证\n",
    "    model.eval()\n",
    "    val_preds, val_labels, val_probs = [], [], []\n",
    "    with torch.no_grad():\n",
    "        for x, y in tqdm(val_loader, desc=\"梯度提升验证\"):\n",
    "            x, y = x.to(device), y.to(device)\n",
    "            logits = model(x)\n",
    "            probs = torch.softmax(logits, dim=1)\n",
    "            preds = torch.argmax(logits, dim=1)\n",
    "            val_preds.extend(preds.cpu().numpy())\n",
    "            val_labels.extend(y.cpu().numpy())\n",
    "            val_probs.extend(probs[:, 1].cpu().numpy())\n",
    "    \n",
    "    val_metrics = calculate_all_metrics(val_labels, val_preds, val_probs)\n",
    "    print_metrics(val_metrics, \"验证集 \")\n",
    "    models_results['GradientBoosting']['cv'].append(val_metrics)\n",
    "    \n",
    "    # 测试\n",
    "    test_preds, test_labels, test_probs = [], [], []\n",
    "    with torch.no_grad():\n",
    "        for x, y in tqdm(test_loader, desc=\"梯度提升测试\"):\n",
    "            x, y = x.to(device), y.to(device)\n",
    "            logits = model(x)\n",
    "            probs = torch.softmax(logits, dim=1)\n",
    "            preds = torch.argmax(logits, dim=1)\n",
    "            test_preds.extend(preds.cpu().numpy())\n",
    "            test_labels.extend(y.cpu().numpy())\n",
    "            test_probs.extend(probs[:, 1].cpu().numpy())\n",
    "    \n",
    "    test_metrics = calculate_all_metrics(test_labels, test_preds, test_probs)\n",
    "    print_metrics(test_metrics, \"测试集 \")\n",
    "    models_results['GradientBoosting']['test'].append(test_metrics)\n",
    "    \n",
    "    if test_metrics['ACC'] > best_test_acc['GradientBoosting']:\n",
    "        best_test_acc['GradientBoosting'] = test_metrics['ACC']\n",
    "        best_test_fold['GradientBoosting'] = fold\n",
    "        best_test_metrics['GradientBoosting'] = test_metrics"
   ],
   "id": "c9b6550744e08ab7",
   "outputs": [
    {
     "name": "stdout",
     "output_type": "stream",
     "text": [
      "\n",
      "============================================================\n",
      "========== Fold 1/10 ==========\n",
      "============================================================\n",
      "训练集样本数: 4134, 验证集样本数: 460\n",
      "\n",
      "--- 逻辑回归 Fold 1 ---\n"
     ]
    },
    {
     "name": "stderr",
     "output_type": "stream",
     "text": [
      "逻辑回归训练 Epoch 1: 100%|██████████| 33/33 [00:01<00:00, 25.08it/s]\n",
      "逻辑回归训练 Epoch 2: 100%|██████████| 33/33 [00:00<00:00, 51.47it/s]\n",
      "逻辑回归训练 Epoch 3: 100%|██████████| 33/33 [00:00<00:00, 38.77it/s]\n",
      "逻辑回归训练 Epoch 4: 100%|██████████| 33/33 [00:00<00:00, 37.51it/s]\n",
      "逻辑回归训练 Epoch 5: 100%|██████████| 33/33 [00:00<00:00, 39.87it/s]\n",
      "逻辑回归训练 Epoch 6: 100%|██████████| 33/33 [00:00<00:00, 35.79it/s]\n",
      "逻辑回归训练 Epoch 7: 100%|██████████| 33/33 [00:00<00:00, 35.50it/s]\n",
      "逻辑回归训练 Epoch 8: 100%|██████████| 33/33 [00:00<00:00, 38.32it/s]\n",
      "逻辑回归训练 Epoch 9: 100%|██████████| 33/33 [00:00<00:00, 38.55it/s]\n",
      "逻辑回归训练 Epoch 10: 100%|██████████| 33/33 [00:01<00:00, 32.87it/s]\n",
      "逻辑回归训练 Epoch 11: 100%|██████████| 33/33 [00:00<00:00, 41.80it/s]\n",
      "逻辑回归训练 Epoch 12: 100%|██████████| 33/33 [00:00<00:00, 39.73it/s]\n",
      "逻辑回归训练 Epoch 13: 100%|██████████| 33/33 [00:00<00:00, 44.11it/s]\n",
      "逻辑回归训练 Epoch 14: 100%|██████████| 33/33 [00:00<00:00, 37.07it/s]\n",
      "逻辑回归训练 Epoch 15: 100%|██████████| 33/33 [00:00<00:00, 43.78it/s]\n",
      "逻辑回归训练 Epoch 16: 100%|██████████| 33/33 [00:00<00:00, 40.93it/s]\n",
      "逻辑回归训练 Epoch 17: 100%|██████████| 33/33 [00:00<00:00, 34.40it/s]\n",
      "逻辑回归训练 Epoch 18: 100%|██████████| 33/33 [00:00<00:00, 43.11it/s]\n",
      "逻辑回归训练 Epoch 19: 100%|██████████| 33/33 [00:00<00:00, 37.78it/s]\n",
      "逻辑回归训练 Epoch 20: 100%|██████████| 33/33 [00:00<00:00, 38.10it/s]\n",
      "逻辑回归验证: 100%|██████████| 4/4 [00:00<00:00, 16.20it/s]\n"
     ]
    },
    {
     "name": "stdout",
     "output_type": "stream",
     "text": [
      "验证集 ACC: 0.8761, PRE: 0.8817, REC: 0.9543, F1: 0.9165, MCC: 0.6855\n",
      "验证集 SN: 0.9543, SP: 0.6818, AUC: 0.9330, AUPRC: 0.9702\n"
     ]
    },
    {
     "name": "stderr",
     "output_type": "stream",
     "text": [
      "逻辑回归测试: 100%|██████████| 9/9 [00:00<00:00, 18.09it/s]\n"
     ]
    },
    {
     "name": "stdout",
     "output_type": "stream",
     "text": [
      "测试集 ACC: 0.8816, PRE: 0.8875, REC: 0.9548, F1: 0.9199, MCC: 0.7012\n",
      "测试集 SN: 0.9548, SP: 0.7009, AUC: 0.9287, AUPRC: 0.9633\n",
      "\n",
      "--- SVM Fold 1 ---\n"
     ]
    },
    {
     "name": "stderr",
     "output_type": "stream",
     "text": [
      "SVM训练 Epoch 1: 100%|██████████| 33/33 [00:01<00:00, 25.66it/s]\n",
      "SVM训练 Epoch 2: 100%|██████████| 33/33 [00:00<00:00, 41.60it/s]\n",
      "SVM训练 Epoch 3: 100%|██████████| 33/33 [00:00<00:00, 34.95it/s]\n",
      "SVM训练 Epoch 4: 100%|██████████| 33/33 [00:01<00:00, 30.46it/s]\n",
      "SVM训练 Epoch 5: 100%|██████████| 33/33 [00:00<00:00, 33.79it/s]\n",
      "SVM训练 Epoch 6: 100%|██████████| 33/33 [00:00<00:00, 47.65it/s]\n",
      "SVM训练 Epoch 7: 100%|██████████| 33/33 [00:00<00:00, 43.16it/s]\n",
      "SVM训练 Epoch 8: 100%|██████████| 33/33 [00:00<00:00, 53.13it/s]\n",
      "SVM训练 Epoch 9: 100%|██████████| 33/33 [00:00<00:00, 47.75it/s]\n",
      "SVM训练 Epoch 10: 100%|██████████| 33/33 [00:00<00:00, 35.30it/s]\n",
      "SVM训练 Epoch 11: 100%|██████████| 33/33 [00:00<00:00, 40.49it/s]\n",
      "SVM训练 Epoch 12: 100%|██████████| 33/33 [00:00<00:00, 44.45it/s]\n",
      "SVM训练 Epoch 13: 100%|██████████| 33/33 [00:00<00:00, 52.16it/s]\n",
      "SVM训练 Epoch 14: 100%|██████████| 33/33 [00:00<00:00, 49.10it/s]\n",
      "SVM训练 Epoch 15: 100%|██████████| 33/33 [00:00<00:00, 44.16it/s]\n",
      "SVM训练 Epoch 16: 100%|██████████| 33/33 [00:00<00:00, 42.78it/s]\n",
      "SVM训练 Epoch 17: 100%|██████████| 33/33 [00:00<00:00, 46.42it/s]\n",
      "SVM训练 Epoch 18: 100%|██████████| 33/33 [00:00<00:00, 39.98it/s]\n",
      "SVM训练 Epoch 19: 100%|██████████| 33/33 [00:00<00:00, 40.71it/s]\n",
      "SVM训练 Epoch 20: 100%|██████████| 33/33 [00:00<00:00, 39.48it/s]\n",
      "SVM训练 Epoch 21: 100%|██████████| 33/33 [00:00<00:00, 42.57it/s]\n",
      "SVM训练 Epoch 22: 100%|██████████| 33/33 [00:00<00:00, 40.68it/s]\n",
      "SVM训练 Epoch 23: 100%|██████████| 33/33 [00:00<00:00, 42.61it/s]\n",
      "SVM训练 Epoch 24: 100%|██████████| 33/33 [00:00<00:00, 39.78it/s]\n",
      "SVM训练 Epoch 25: 100%|██████████| 33/33 [00:00<00:00, 35.85it/s]\n",
      "SVM训练 Epoch 26: 100%|██████████| 33/33 [00:00<00:00, 60.15it/s]\n",
      "SVM训练 Epoch 27: 100%|██████████| 33/33 [00:00<00:00, 38.43it/s]\n",
      "SVM训练 Epoch 28: 100%|██████████| 33/33 [00:00<00:00, 45.89it/s]\n",
      "SVM训练 Epoch 29: 100%|██████████| 33/33 [00:00<00:00, 37.89it/s]\n",
      "SVM训练 Epoch 30: 100%|██████████| 33/33 [00:00<00:00, 39.14it/s]\n",
      "SVM验证: 100%|██████████| 4/4 [00:00<00:00, 13.66it/s]\n"
     ]
    },
    {
     "name": "stdout",
     "output_type": "stream",
     "text": [
      "验证集 ACC: 0.8717, PRE: 0.9113, REC: 0.9085, F1: 0.9099, MCC: 0.6873\n",
      "验证集 SN: 0.9085, SP: 0.7803, AUC: 0.9404, AUPRC: 0.9712\n"
     ]
    },
    {
     "name": "stderr",
     "output_type": "stream",
     "text": [
      "SVM测试: 100%|██████████| 9/9 [00:00<00:00, 21.63it/s]\n"
     ]
    },
    {
     "name": "stdout",
     "output_type": "stream",
     "text": [
      "测试集 ACC: 0.9199, PRE: 0.9504, REC: 0.9364, F1: 0.9433, MCC: 0.8071\n",
      "测试集 SN: 0.9364, SP: 0.8792, AUC: 0.9598, AUPRC: 0.9822\n",
      "\n",
      "--- 随机森林 Fold 1 ---\n"
     ]
    },
    {
     "name": "stderr",
     "output_type": "stream",
     "text": [
      "随机森林训练 Epoch 1: 100%|██████████| 33/33 [00:01<00:00, 32.25it/s]\n",
      "随机森林训练 Epoch 2: 100%|██████████| 33/33 [00:00<00:00, 40.94it/s]\n",
      "随机森林训练 Epoch 3: 100%|██████████| 33/33 [00:00<00:00, 40.37it/s]\n",
      "随机森林训练 Epoch 4: 100%|██████████| 33/33 [00:01<00:00, 31.59it/s]\n",
      "随机森林训练 Epoch 5: 100%|██████████| 33/33 [00:00<00:00, 49.21it/s]\n",
      "随机森林训练 Epoch 6: 100%|██████████| 33/33 [00:01<00:00, 29.95it/s]\n",
      "随机森林训练 Epoch 7: 100%|██████████| 33/33 [00:00<00:00, 47.24it/s]\n",
      "随机森林训练 Epoch 8: 100%|██████████| 33/33 [00:00<00:00, 36.47it/s]\n",
      "随机森林训练 Epoch 9: 100%|██████████| 33/33 [00:00<00:00, 38.81it/s]\n",
      "随机森林训练 Epoch 10: 100%|██████████| 33/33 [00:00<00:00, 34.89it/s]\n",
      "随机森林训练 Epoch 11: 100%|██████████| 33/33 [00:00<00:00, 36.72it/s]\n",
      "随机森林训练 Epoch 12: 100%|██████████| 33/33 [00:01<00:00, 28.85it/s]\n",
      "随机森林训练 Epoch 13: 100%|██████████| 33/33 [00:00<00:00, 43.19it/s]\n",
      "随机森林训练 Epoch 14: 100%|██████████| 33/33 [00:01<00:00, 28.29it/s]\n",
      "随机森林训练 Epoch 15: 100%|██████████| 33/33 [00:00<00:00, 48.29it/s]\n",
      "随机森林训练 Epoch 16: 100%|██████████| 33/33 [00:00<00:00, 52.40it/s]\n",
      "随机森林训练 Epoch 17: 100%|██████████| 33/33 [00:00<00:00, 38.76it/s]\n",
      "随机森林训练 Epoch 18: 100%|██████████| 33/33 [00:00<00:00, 51.48it/s]\n",
      "随机森林训练 Epoch 19: 100%|██████████| 33/33 [00:00<00:00, 42.03it/s]\n",
      "随机森林训练 Epoch 20: 100%|██████████| 33/33 [00:00<00:00, 43.08it/s]\n",
      "随机森林训练 Epoch 21: 100%|██████████| 33/33 [00:00<00:00, 33.33it/s]\n",
      "随机森林训练 Epoch 22: 100%|██████████| 33/33 [00:01<00:00, 29.27it/s]\n",
      "随机森林训练 Epoch 23: 100%|██████████| 33/33 [00:00<00:00, 36.45it/s]\n",
      "随机森林训练 Epoch 24: 100%|██████████| 33/33 [00:00<00:00, 47.19it/s]\n",
      "随机森林训练 Epoch 25: 100%|██████████| 33/33 [00:00<00:00, 54.27it/s]\n",
      "随机森林验证: 100%|██████████| 4/4 [00:00<00:00,  8.91it/s]\n"
     ]
    },
    {
     "name": "stdout",
     "output_type": "stream",
     "text": [
      "验证集 ACC: 0.8935, PRE: 0.9164, REC: 0.9360, F1: 0.9261, MCC: 0.7360\n",
      "验证集 SN: 0.9360, SP: 0.7879, AUC: 0.9540, AUPRC: 0.9800\n"
     ]
    },
    {
     "name": "stderr",
     "output_type": "stream",
     "text": [
      "随机森林测试: 100%|██████████| 9/9 [00:00<00:00, 32.81it/s]\n"
     ]
    },
    {
     "name": "stdout",
     "output_type": "stream",
     "text": [
      "测试集 ACC: 0.9182, PRE: 0.9425, REC: 0.9425, F1: 0.9425, MCC: 0.8005\n",
      "测试集 SN: 0.9425, SP: 0.8580, AUC: 0.9640, AUPRC: 0.9847\n",
      "\n",
      "--- 梯度提升 Fold 1 ---\n"
     ]
    },
    {
     "name": "stderr",
     "output_type": "stream",
     "text": [
      "梯度提升训练 Epoch 1: 100%|██████████| 33/33 [00:01<00:00, 28.89it/s]\n",
      "梯度提升训练 Epoch 2: 100%|██████████| 33/33 [00:00<00:00, 38.06it/s]\n",
      "梯度提升训练 Epoch 3: 100%|██████████| 33/33 [00:00<00:00, 34.96it/s]\n",
      "梯度提升训练 Epoch 4: 100%|██████████| 33/33 [00:00<00:00, 35.47it/s]\n",
      "梯度提升训练 Epoch 5: 100%|██████████| 33/33 [00:00<00:00, 36.24it/s]\n",
      "梯度提升训练 Epoch 6: 100%|██████████| 33/33 [00:00<00:00, 40.81it/s]\n",
      "梯度提升训练 Epoch 7: 100%|██████████| 33/33 [00:00<00:00, 41.29it/s]\n",
      "梯度提升训练 Epoch 8: 100%|██████████| 33/33 [00:00<00:00, 46.26it/s]\n",
      "梯度提升训练 Epoch 9: 100%|██████████| 33/33 [00:00<00:00, 43.30it/s]\n",
      "梯度提升训练 Epoch 10: 100%|██████████| 33/33 [00:00<00:00, 46.28it/s]\n",
      "梯度提升训练 Epoch 11: 100%|██████████| 33/33 [00:01<00:00, 31.00it/s]\n",
      "梯度提升训练 Epoch 12: 100%|██████████| 33/33 [00:00<00:00, 37.13it/s]\n",
      "梯度提升训练 Epoch 13: 100%|██████████| 33/33 [00:00<00:00, 57.29it/s]\n",
      "梯度提升训练 Epoch 14: 100%|██████████| 33/33 [00:00<00:00, 48.69it/s]\n",
      "梯度提升训练 Epoch 15: 100%|██████████| 33/33 [00:00<00:00, 40.42it/s]\n",
      "梯度提升训练 Epoch 16: 100%|██████████| 33/33 [00:00<00:00, 38.63it/s]\n",
      "梯度提升训练 Epoch 17: 100%|██████████| 33/33 [00:01<00:00, 32.49it/s]\n",
      "梯度提升训练 Epoch 18: 100%|██████████| 33/33 [00:00<00:00, 39.64it/s]\n",
      "梯度提升训练 Epoch 19: 100%|██████████| 33/33 [00:00<00:00, 41.09it/s]\n",
      "梯度提升训练 Epoch 20: 100%|██████████| 33/33 [00:00<00:00, 39.02it/s]\n",
      "梯度提升训练 Epoch 21: 100%|██████████| 33/33 [00:00<00:00, 41.28it/s]\n",
      "梯度提升训练 Epoch 22: 100%|██████████| 33/33 [00:00<00:00, 34.02it/s]\n",
      "梯度提升训练 Epoch 23: 100%|██████████| 33/33 [00:00<00:00, 37.45it/s]\n",
      "梯度提升训练 Epoch 24: 100%|██████████| 33/33 [00:01<00:00, 27.80it/s]\n",
      "梯度提升训练 Epoch 25: 100%|██████████| 33/33 [00:00<00:00, 61.21it/s]\n",
      "梯度提升训练 Epoch 26: 100%|██████████| 33/33 [00:00<00:00, 42.28it/s]\n",
      "梯度提升训练 Epoch 27: 100%|██████████| 33/33 [00:00<00:00, 41.12it/s]\n",
      "梯度提升训练 Epoch 28: 100%|██████████| 33/33 [00:00<00:00, 43.36it/s]\n",
      "梯度提升训练 Epoch 29: 100%|██████████| 33/33 [00:00<00:00, 62.09it/s]\n",
      "梯度提升训练 Epoch 30: 100%|██████████| 33/33 [00:00<00:00, 41.73it/s]\n",
      "梯度提升训练 Epoch 31: 100%|██████████| 33/33 [00:00<00:00, 36.69it/s]\n",
      "梯度提升训练 Epoch 32: 100%|██████████| 33/33 [00:00<00:00, 35.07it/s]\n",
      "梯度提升训练 Epoch 33: 100%|██████████| 33/33 [00:00<00:00, 39.12it/s]\n",
      "梯度提升训练 Epoch 34: 100%|██████████| 33/33 [00:00<00:00, 39.98it/s]\n",
      "梯度提升训练 Epoch 35: 100%|██████████| 33/33 [00:00<00:00, 45.20it/s]\n",
      "梯度提升验证: 100%|██████████| 4/4 [00:00<00:00, 17.22it/s]\n"
     ]
    },
    {
     "name": "stdout",
     "output_type": "stream",
     "text": [
      "验证集 ACC: 0.8761, PRE: 0.8883, REC: 0.9451, F1: 0.9158, MCC: 0.6868\n",
      "验证集 SN: 0.9451, SP: 0.7045, AUC: 0.9340, AUPRC: 0.9672\n"
     ]
    },
    {
     "name": "stderr",
     "output_type": "stream",
     "text": [
      "梯度提升测试: 100%|██████████| 9/9 [00:00<00:00, 31.61it/s]\n"
     ]
    },
    {
     "name": "stdout",
     "output_type": "stream",
     "text": [
      "测试集 ACC: 0.9130, PRE: 0.9294, REC: 0.9499, F1: 0.9395, MCC: 0.7849\n",
      "测试集 SN: 0.9499, SP: 0.8218, AUC: 0.9560, AUPRC: 0.9794\n",
      "\n",
      "============================================================\n",
      "========== Fold 2/10 ==========\n",
      "============================================================\n",
      "训练集样本数: 4134, 验证集样本数: 460\n",
      "\n",
      "--- 逻辑回归 Fold 2 ---\n"
     ]
    },
    {
     "name": "stderr",
     "output_type": "stream",
     "text": [
      "逻辑回归训练 Epoch 1: 100%|██████████| 33/33 [00:00<00:00, 35.92it/s]\n",
      "逻辑回归训练 Epoch 2: 100%|██████████| 33/33 [00:00<00:00, 40.94it/s]\n",
      "逻辑回归训练 Epoch 3: 100%|██████████| 33/33 [00:00<00:00, 39.17it/s]\n",
      "逻辑回归训练 Epoch 4: 100%|██████████| 33/33 [00:00<00:00, 37.47it/s]\n",
      "逻辑回归训练 Epoch 5: 100%|██████████| 33/33 [00:00<00:00, 39.84it/s]\n",
      "逻辑回归训练 Epoch 6: 100%|██████████| 33/33 [00:00<00:00, 40.51it/s]\n",
      "逻辑回归训练 Epoch 7: 100%|██████████| 33/33 [00:00<00:00, 35.24it/s]\n",
      "逻辑回归训练 Epoch 8: 100%|██████████| 33/33 [00:00<00:00, 41.25it/s]\n",
      "逻辑回归训练 Epoch 9: 100%|██████████| 33/33 [00:00<00:00, 41.48it/s]\n",
      "逻辑回归训练 Epoch 10: 100%|██████████| 33/33 [00:00<00:00, 37.30it/s]\n",
      "逻辑回归训练 Epoch 11: 100%|██████████| 33/33 [00:00<00:00, 34.18it/s]\n",
      "逻辑回归训练 Epoch 12: 100%|██████████| 33/33 [00:00<00:00, 43.25it/s]\n",
      "逻辑回归训练 Epoch 13: 100%|██████████| 33/33 [00:00<00:00, 41.39it/s]\n",
      "逻辑回归训练 Epoch 14: 100%|██████████| 33/33 [00:00<00:00, 39.71it/s]\n",
      "逻辑回归训练 Epoch 15: 100%|██████████| 33/33 [00:00<00:00, 46.61it/s]\n",
      "逻辑回归训练 Epoch 16: 100%|██████████| 33/33 [00:00<00:00, 46.23it/s]\n",
      "逻辑回归训练 Epoch 17: 100%|██████████| 33/33 [00:00<00:00, 48.61it/s]\n",
      "逻辑回归训练 Epoch 18: 100%|██████████| 33/33 [00:00<00:00, 50.97it/s]\n",
      "逻辑回归训练 Epoch 19: 100%|██████████| 33/33 [00:00<00:00, 44.47it/s]\n",
      "逻辑回归训练 Epoch 20: 100%|██████████| 33/33 [00:00<00:00, 37.44it/s]\n",
      "逻辑回归验证: 100%|██████████| 4/4 [00:00<00:00, 21.30it/s]\n"
     ]
    },
    {
     "name": "stdout",
     "output_type": "stream",
     "text": [
      "验证集 ACC: 0.8783, PRE: 0.8692, REC: 0.9755, F1: 0.9193, MCC: 0.6938\n",
      "验证集 SN: 0.9755, SP: 0.6391, AUC: 0.9361, AUPRC: 0.9624\n"
     ]
    },
    {
     "name": "stderr",
     "output_type": "stream",
     "text": [
      "逻辑回归测试: 100%|██████████| 9/9 [00:00<00:00, 20.92it/s]\n"
     ]
    },
    {
     "name": "stdout",
     "output_type": "stream",
     "text": [
      "测试集 ACC: 0.8834, PRE: 0.8878, REC: 0.9572, F1: 0.9212, MCC: 0.7057\n",
      "测试集 SN: 0.9572, SP: 0.7009, AUC: 0.9300, AUPRC: 0.9641\n",
      "\n",
      "--- SVM Fold 2 ---\n"
     ]
    },
    {
     "name": "stderr",
     "output_type": "stream",
     "text": [
      "SVM训练 Epoch 1: 100%|██████████| 33/33 [00:00<00:00, 42.86it/s]\n",
      "SVM训练 Epoch 2: 100%|██████████| 33/33 [00:00<00:00, 48.27it/s]\n",
      "SVM训练 Epoch 3: 100%|██████████| 33/33 [00:00<00:00, 45.37it/s]\n",
      "SVM训练 Epoch 4: 100%|██████████| 33/33 [00:01<00:00, 28.14it/s]\n",
      "SVM训练 Epoch 5: 100%|██████████| 33/33 [00:00<00:00, 48.30it/s]\n",
      "SVM训练 Epoch 6: 100%|██████████| 33/33 [00:00<00:00, 51.21it/s]\n",
      "SVM训练 Epoch 7: 100%|██████████| 33/33 [00:00<00:00, 51.10it/s]\n",
      "SVM训练 Epoch 8: 100%|██████████| 33/33 [00:00<00:00, 41.27it/s]\n",
      "SVM训练 Epoch 9: 100%|██████████| 33/33 [00:00<00:00, 38.72it/s]\n",
      "SVM训练 Epoch 10: 100%|██████████| 33/33 [00:00<00:00, 37.73it/s]\n",
      "SVM训练 Epoch 11: 100%|██████████| 33/33 [00:00<00:00, 40.21it/s]\n",
      "SVM训练 Epoch 12: 100%|██████████| 33/33 [00:00<00:00, 37.65it/s]\n",
      "SVM训练 Epoch 13: 100%|██████████| 33/33 [00:00<00:00, 33.90it/s]\n",
      "SVM训练 Epoch 14: 100%|██████████| 33/33 [00:00<00:00, 41.81it/s]\n",
      "SVM训练 Epoch 15: 100%|██████████| 33/33 [00:00<00:00, 39.35it/s]\n",
      "SVM训练 Epoch 16: 100%|██████████| 33/33 [00:00<00:00, 41.24it/s]\n",
      "SVM训练 Epoch 17: 100%|██████████| 33/33 [00:00<00:00, 41.92it/s]\n",
      "SVM训练 Epoch 18: 100%|██████████| 33/33 [00:00<00:00, 35.51it/s]\n",
      "SVM训练 Epoch 19: 100%|██████████| 33/33 [00:00<00:00, 34.75it/s]\n",
      "SVM训练 Epoch 20: 100%|██████████| 33/33 [00:00<00:00, 42.87it/s]\n",
      "SVM训练 Epoch 21: 100%|██████████| 33/33 [00:00<00:00, 50.85it/s]\n",
      "SVM训练 Epoch 22: 100%|██████████| 33/33 [00:00<00:00, 50.25it/s]\n",
      "SVM训练 Epoch 23: 100%|██████████| 33/33 [00:01<00:00, 32.04it/s]\n",
      "SVM训练 Epoch 24: 100%|██████████| 33/33 [00:00<00:00, 42.68it/s]\n",
      "SVM训练 Epoch 25: 100%|██████████| 33/33 [00:00<00:00, 39.26it/s]\n",
      "SVM训练 Epoch 26: 100%|██████████| 33/33 [00:00<00:00, 33.71it/s]\n",
      "SVM训练 Epoch 27: 100%|██████████| 33/33 [00:00<00:00, 39.68it/s]\n",
      "SVM训练 Epoch 28: 100%|██████████| 33/33 [00:00<00:00, 38.62it/s]\n",
      "SVM训练 Epoch 29: 100%|██████████| 33/33 [00:00<00:00, 37.89it/s]\n",
      "SVM训练 Epoch 30: 100%|██████████| 33/33 [00:00<00:00, 33.71it/s]\n",
      "SVM验证: 100%|██████████| 4/4 [00:00<00:00, 11.67it/s]\n"
     ]
    },
    {
     "name": "stdout",
     "output_type": "stream",
     "text": [
      "验证集 ACC: 0.8957, PRE: 0.9189, REC: 0.9358, F1: 0.9273, MCC: 0.7431\n",
      "验证集 SN: 0.9358, SP: 0.7970, AUC: 0.9563, AUPRC: 0.9814\n"
     ]
    },
    {
     "name": "stderr",
     "output_type": "stream",
     "text": [
      "SVM测试: 100%|██████████| 9/9 [00:00<00:00, 28.78it/s]\n"
     ]
    },
    {
     "name": "stdout",
     "output_type": "stream",
     "text": [
      "测试集 ACC: 0.9069, PRE: 0.9438, REC: 0.9242, F1: 0.9339, MCC: 0.7769\n",
      "测试集 SN: 0.9242, SP: 0.8640, AUC: 0.9628, AUPRC: 0.9838\n",
      "\n",
      "--- 随机森林 Fold 2 ---\n"
     ]
    },
    {
     "name": "stderr",
     "output_type": "stream",
     "text": [
      "随机森林训练 Epoch 1: 100%|██████████| 33/33 [00:00<00:00, 39.82it/s]\n",
      "随机森林训练 Epoch 2: 100%|██████████| 33/33 [00:00<00:00, 41.58it/s]\n",
      "随机森林训练 Epoch 3: 100%|██████████| 33/33 [00:00<00:00, 44.50it/s]\n",
      "随机森林训练 Epoch 4: 100%|██████████| 33/33 [00:00<00:00, 33.42it/s]\n",
      "随机森林训练 Epoch 5: 100%|██████████| 33/33 [00:00<00:00, 41.72it/s]\n",
      "随机森林训练 Epoch 6: 100%|██████████| 33/33 [00:00<00:00, 37.70it/s]\n",
      "随机森林训练 Epoch 7: 100%|██████████| 33/33 [00:00<00:00, 40.92it/s]\n",
      "随机森林训练 Epoch 8: 100%|██████████| 33/33 [00:00<00:00, 41.95it/s]\n",
      "随机森林训练 Epoch 9: 100%|██████████| 33/33 [00:00<00:00, 37.68it/s]\n",
      "随机森林训练 Epoch 10: 100%|██████████| 33/33 [00:00<00:00, 39.83it/s]\n",
      "随机森林训练 Epoch 11: 100%|██████████| 33/33 [00:00<00:00, 42.27it/s]\n",
      "随机森林训练 Epoch 12: 100%|██████████| 33/33 [00:00<00:00, 41.91it/s]\n",
      "随机森林训练 Epoch 13: 100%|██████████| 33/33 [00:00<00:00, 39.53it/s]\n",
      "随机森林训练 Epoch 14: 100%|██████████| 33/33 [00:00<00:00, 39.40it/s]\n",
      "随机森林训练 Epoch 15: 100%|██████████| 33/33 [00:00<00:00, 42.13it/s]\n",
      "随机森林训练 Epoch 16: 100%|██████████| 33/33 [00:00<00:00, 35.67it/s]\n",
      "随机森林训练 Epoch 17: 100%|██████████| 33/33 [00:00<00:00, 39.17it/s]\n",
      "随机森林训练 Epoch 18: 100%|██████████| 33/33 [00:00<00:00, 38.30it/s]\n",
      "随机森林训练 Epoch 19: 100%|██████████| 33/33 [00:00<00:00, 38.59it/s]\n",
      "随机森林训练 Epoch 20: 100%|██████████| 33/33 [00:00<00:00, 35.52it/s]\n",
      "随机森林训练 Epoch 21: 100%|██████████| 33/33 [00:00<00:00, 35.44it/s]\n",
      "随机森林训练 Epoch 22: 100%|██████████| 33/33 [00:00<00:00, 40.08it/s]\n",
      "随机森林训练 Epoch 23: 100%|██████████| 33/33 [00:00<00:00, 52.03it/s]\n",
      "随机森林训练 Epoch 24: 100%|██████████| 33/33 [00:00<00:00, 50.38it/s]\n",
      "随机森林训练 Epoch 25: 100%|██████████| 33/33 [00:00<00:00, 42.18it/s]\n",
      "随机森林验证: 100%|██████████| 4/4 [00:00<00:00, 17.34it/s]\n"
     ]
    },
    {
     "name": "stdout",
     "output_type": "stream",
     "text": [
      "验证集 ACC: 0.9065, PRE: 0.9128, REC: 0.9602, F1: 0.9359, MCC: 0.7670\n",
      "验证集 SN: 0.9602, SP: 0.7744, AUC: 0.9624, AUPRC: 0.9844\n"
     ]
    },
    {
     "name": "stderr",
     "output_type": "stream",
     "text": [
      "随机森林测试: 100%|██████████| 9/9 [00:00<00:00, 19.58it/s]\n"
     ]
    },
    {
     "name": "stdout",
     "output_type": "stream",
     "text": [
      "测试集 ACC: 0.9173, PRE: 0.9403, REC: 0.9438, F1: 0.9420, MCC: 0.7979\n",
      "测试集 SN: 0.9438, SP: 0.8520, AUC: 0.9666, AUPRC: 0.9857\n",
      "\n",
      "--- 梯度提升 Fold 2 ---\n"
     ]
    },
    {
     "name": "stderr",
     "output_type": "stream",
     "text": [
      "梯度提升训练 Epoch 1: 100%|██████████| 33/33 [00:00<00:00, 44.13it/s]\n",
      "梯度提升训练 Epoch 2: 100%|██████████| 33/33 [00:00<00:00, 45.56it/s]\n",
      "梯度提升训练 Epoch 3: 100%|██████████| 33/33 [00:00<00:00, 41.08it/s]\n",
      "梯度提升训练 Epoch 4: 100%|██████████| 33/33 [00:00<00:00, 35.94it/s]\n",
      "梯度提升训练 Epoch 5: 100%|██████████| 33/33 [00:00<00:00, 36.51it/s]\n",
      "梯度提升训练 Epoch 6: 100%|██████████| 33/33 [00:00<00:00, 53.02it/s]\n",
      "梯度提升训练 Epoch 7: 100%|██████████| 33/33 [00:00<00:00, 34.62it/s]\n",
      "梯度提升训练 Epoch 8: 100%|██████████| 33/33 [00:00<00:00, 51.23it/s]\n",
      "梯度提升训练 Epoch 9: 100%|██████████| 33/33 [00:00<00:00, 50.49it/s]\n",
      "梯度提升训练 Epoch 10: 100%|██████████| 33/33 [00:00<00:00, 44.26it/s]\n",
      "梯度提升训练 Epoch 11: 100%|██████████| 33/33 [00:00<00:00, 41.67it/s]\n",
      "梯度提升训练 Epoch 12: 100%|██████████| 33/33 [00:00<00:00, 41.42it/s]\n",
      "梯度提升训练 Epoch 13: 100%|██████████| 33/33 [00:00<00:00, 41.60it/s]\n",
      "梯度提升训练 Epoch 14: 100%|██████████| 33/33 [00:00<00:00, 36.83it/s]\n",
      "梯度提升训练 Epoch 15: 100%|██████████| 33/33 [00:00<00:00, 37.42it/s]\n",
      "梯度提升训练 Epoch 16: 100%|██████████| 33/33 [00:00<00:00, 39.15it/s]\n",
      "梯度提升训练 Epoch 17: 100%|██████████| 33/33 [00:00<00:00, 43.44it/s]\n",
      "梯度提升训练 Epoch 18: 100%|██████████| 33/33 [00:00<00:00, 43.52it/s]\n",
      "梯度提升训练 Epoch 19: 100%|██████████| 33/33 [00:00<00:00, 43.71it/s]\n",
      "梯度提升训练 Epoch 20: 100%|██████████| 33/33 [00:00<00:00, 54.00it/s]\n",
      "梯度提升训练 Epoch 21: 100%|██████████| 33/33 [00:00<00:00, 50.17it/s]\n",
      "梯度提升训练 Epoch 22: 100%|██████████| 33/33 [00:00<00:00, 38.46it/s]\n",
      "梯度提升训练 Epoch 23: 100%|██████████| 33/33 [00:00<00:00, 37.35it/s]\n",
      "梯度提升训练 Epoch 24: 100%|██████████| 33/33 [00:00<00:00, 37.25it/s]\n",
      "梯度提升训练 Epoch 25: 100%|██████████| 33/33 [00:00<00:00, 37.53it/s]\n",
      "梯度提升训练 Epoch 26: 100%|██████████| 33/33 [00:00<00:00, 45.29it/s]\n",
      "梯度提升训练 Epoch 27: 100%|██████████| 33/33 [00:00<00:00, 48.13it/s]\n",
      "梯度提升训练 Epoch 28: 100%|██████████| 33/33 [00:00<00:00, 37.92it/s]\n",
      "梯度提升训练 Epoch 29: 100%|██████████| 33/33 [00:00<00:00, 60.38it/s]\n",
      "梯度提升训练 Epoch 30: 100%|██████████| 33/33 [00:00<00:00, 42.26it/s]\n",
      "梯度提升训练 Epoch 31: 100%|██████████| 33/33 [00:00<00:00, 40.07it/s]\n",
      "梯度提升训练 Epoch 32: 100%|██████████| 33/33 [00:01<00:00, 30.17it/s]\n",
      "梯度提升训练 Epoch 33: 100%|██████████| 33/33 [00:00<00:00, 45.25it/s]\n",
      "梯度提升训练 Epoch 34: 100%|██████████| 33/33 [00:00<00:00, 40.17it/s]\n",
      "梯度提升训练 Epoch 35: 100%|██████████| 33/33 [00:00<00:00, 44.38it/s]\n",
      "梯度提升验证: 100%|██████████| 4/4 [00:00<00:00,  9.21it/s]\n"
     ]
    },
    {
     "name": "stdout",
     "output_type": "stream",
     "text": [
      "验证集 ACC: 0.8913, PRE: 0.8946, REC: 0.9602, F1: 0.9263, MCC: 0.7272\n",
      "验证集 SN: 0.9602, SP: 0.7218, AUC: 0.9381, AUPRC: 0.9717\n"
     ]
    },
    {
     "name": "stderr",
     "output_type": "stream",
     "text": [
      "梯度提升测试: 100%|██████████| 9/9 [00:00<00:00, 33.83it/s]\n"
     ]
    },
    {
     "name": "stdout",
     "output_type": "stream",
     "text": [
      "测试集 ACC: 0.9077, PRE: 0.9218, REC: 0.9511, F1: 0.9362, MCC: 0.7709\n",
      "测试集 SN: 0.9511, SP: 0.8006, AUC: 0.9552, AUPRC: 0.9785\n",
      "\n",
      "============================================================\n",
      "========== Fold 3/10 ==========\n",
      "============================================================\n",
      "训练集样本数: 4134, 验证集样本数: 460\n",
      "\n",
      "--- 逻辑回归 Fold 3 ---\n"
     ]
    },
    {
     "name": "stderr",
     "output_type": "stream",
     "text": [
      "逻辑回归训练 Epoch 1: 100%|██████████| 33/33 [00:00<00:00, 40.53it/s]\n",
      "逻辑回归训练 Epoch 2: 100%|██████████| 33/33 [00:00<00:00, 41.40it/s]\n",
      "逻辑回归训练 Epoch 3: 100%|██████████| 33/33 [00:00<00:00, 40.14it/s]\n",
      "逻辑回归训练 Epoch 4: 100%|██████████| 33/33 [00:01<00:00, 32.92it/s]\n",
      "逻辑回归训练 Epoch 5: 100%|██████████| 33/33 [00:00<00:00, 44.37it/s]\n",
      "逻辑回归训练 Epoch 6: 100%|██████████| 33/33 [00:00<00:00, 45.38it/s]\n",
      "逻辑回归训练 Epoch 7: 100%|██████████| 33/33 [00:00<00:00, 41.88it/s]\n",
      "逻辑回归训练 Epoch 8: 100%|██████████| 33/33 [00:00<00:00, 39.55it/s]\n",
      "逻辑回归训练 Epoch 9: 100%|██████████| 33/33 [00:00<00:00, 44.28it/s]\n",
      "逻辑回归训练 Epoch 10: 100%|██████████| 33/33 [00:00<00:00, 43.45it/s]\n",
      "逻辑回归训练 Epoch 11: 100%|██████████| 33/33 [00:00<00:00, 57.70it/s]\n",
      "逻辑回归训练 Epoch 12: 100%|██████████| 33/33 [00:00<00:00, 36.70it/s]\n",
      "逻辑回归训练 Epoch 13: 100%|██████████| 33/33 [00:00<00:00, 54.81it/s]\n",
      "逻辑回归训练 Epoch 14: 100%|██████████| 33/33 [00:00<00:00, 33.41it/s]\n",
      "逻辑回归训练 Epoch 15: 100%|██████████| 33/33 [00:00<00:00, 41.69it/s]\n",
      "逻辑回归训练 Epoch 16: 100%|██████████| 33/33 [00:01<00:00, 32.85it/s]\n",
      "逻辑回归训练 Epoch 17: 100%|██████████| 33/33 [00:00<00:00, 41.76it/s]\n",
      "逻辑回归训练 Epoch 18: 100%|██████████| 33/33 [00:00<00:00, 40.16it/s]\n",
      "逻辑回归训练 Epoch 19: 100%|██████████| 33/33 [00:00<00:00, 35.22it/s]\n",
      "逻辑回归训练 Epoch 20: 100%|██████████| 33/33 [00:00<00:00, 38.68it/s]\n",
      "逻辑回归验证: 100%|██████████| 4/4 [00:00<00:00, 20.95it/s]\n"
     ]
    },
    {
     "name": "stdout",
     "output_type": "stream",
     "text": [
      "验证集 ACC: 0.8761, PRE: 0.8857, REC: 0.9480, F1: 0.9158, MCC: 0.6879\n",
      "验证集 SN: 0.9480, SP: 0.6992, AUC: 0.9049, AUPRC: 0.9303\n"
     ]
    },
    {
     "name": "stderr",
     "output_type": "stream",
     "text": [
      "逻辑回归测试: 100%|██████████| 9/9 [00:00<00:00, 19.98it/s]\n"
     ]
    },
    {
     "name": "stdout",
     "output_type": "stream",
     "text": [
      "测试集 ACC: 0.8816, PRE: 0.8866, REC: 0.9560, F1: 0.9200, MCC: 0.7011\n",
      "测试集 SN: 0.9560, SP: 0.6979, AUC: 0.9287, AUPRC: 0.9631\n",
      "\n",
      "--- SVM Fold 3 ---\n"
     ]
    },
    {
     "name": "stderr",
     "output_type": "stream",
     "text": [
      "SVM训练 Epoch 1: 100%|██████████| 33/33 [00:00<00:00, 34.34it/s]\n",
      "SVM训练 Epoch 2: 100%|██████████| 33/33 [00:00<00:00, 41.39it/s]\n",
      "SVM训练 Epoch 3: 100%|██████████| 33/33 [00:00<00:00, 41.80it/s]\n",
      "SVM训练 Epoch 4: 100%|██████████| 33/33 [00:00<00:00, 39.88it/s]\n",
      "SVM训练 Epoch 5: 100%|██████████| 33/33 [00:00<00:00, 50.30it/s]\n",
      "SVM训练 Epoch 6: 100%|██████████| 33/33 [00:00<00:00, 55.01it/s]\n",
      "SVM训练 Epoch 7: 100%|██████████| 33/33 [00:00<00:00, 44.06it/s]\n",
      "SVM训练 Epoch 8: 100%|██████████| 33/33 [00:00<00:00, 42.60it/s]\n",
      "SVM训练 Epoch 9: 100%|██████████| 33/33 [00:00<00:00, 40.32it/s]\n",
      "SVM训练 Epoch 10: 100%|██████████| 33/33 [00:00<00:00, 40.04it/s]\n",
      "SVM训练 Epoch 11: 100%|██████████| 33/33 [00:00<00:00, 49.78it/s]\n",
      "SVM训练 Epoch 12: 100%|██████████| 33/33 [00:00<00:00, 41.30it/s]\n",
      "SVM训练 Epoch 13: 100%|██████████| 33/33 [00:00<00:00, 42.69it/s]\n",
      "SVM训练 Epoch 14: 100%|██████████| 33/33 [00:00<00:00, 33.90it/s]\n",
      "SVM训练 Epoch 15: 100%|██████████| 33/33 [00:00<00:00, 44.37it/s]\n",
      "SVM训练 Epoch 16: 100%|██████████| 33/33 [00:00<00:00, 37.13it/s]\n",
      "SVM训练 Epoch 17: 100%|██████████| 33/33 [00:01<00:00, 27.36it/s]\n",
      "SVM训练 Epoch 18: 100%|██████████| 33/33 [00:01<00:00, 30.22it/s]\n",
      "SVM训练 Epoch 19: 100%|██████████| 33/33 [00:00<00:00, 61.16it/s]\n",
      "SVM训练 Epoch 20: 100%|██████████| 33/33 [00:00<00:00, 40.97it/s]\n",
      "SVM训练 Epoch 21: 100%|██████████| 33/33 [00:01<00:00, 25.07it/s]\n",
      "SVM训练 Epoch 22: 100%|██████████| 33/33 [00:00<00:00, 55.47it/s]\n",
      "SVM训练 Epoch 23: 100%|██████████| 33/33 [00:00<00:00, 40.68it/s]\n",
      "SVM训练 Epoch 24: 100%|██████████| 33/33 [00:00<00:00, 43.03it/s]\n",
      "SVM训练 Epoch 25: 100%|██████████| 33/33 [00:00<00:00, 43.78it/s]\n",
      "SVM训练 Epoch 26: 100%|██████████| 33/33 [00:00<00:00, 60.98it/s]\n",
      "SVM训练 Epoch 27: 100%|██████████| 33/33 [00:01<00:00, 27.34it/s]\n",
      "SVM训练 Epoch 28: 100%|██████████| 33/33 [00:01<00:00, 29.68it/s]\n",
      "SVM训练 Epoch 29: 100%|██████████| 33/33 [00:00<00:00, 39.36it/s]\n",
      "SVM训练 Epoch 30: 100%|██████████| 33/33 [00:00<00:00, 45.11it/s]\n",
      "SVM验证: 100%|██████████| 4/4 [00:00<00:00, 15.25it/s]\n"
     ]
    },
    {
     "name": "stdout",
     "output_type": "stream",
     "text": [
      "验证集 ACC: 0.8978, PRE: 0.9023, REC: 0.9602, F1: 0.9304, MCC: 0.7443\n",
      "验证集 SN: 0.9602, SP: 0.7444, AUC: 0.9219, AUPRC: 0.9607\n"
     ]
    },
    {
     "name": "stderr",
     "output_type": "stream",
     "text": [
      "SVM测试: 100%|██████████| 9/9 [00:00<00:00, 30.72it/s]\n"
     ]
    },
    {
     "name": "stdout",
     "output_type": "stream",
     "text": [
      "测试集 ACC: 0.9095, PRE: 0.9132, REC: 0.9645, F1: 0.9382, MCC: 0.7738\n",
      "测试集 SN: 0.9645, SP: 0.7734, AUC: 0.9563, AUPRC: 0.9788\n",
      "\n",
      "--- 随机森林 Fold 3 ---\n"
     ]
    },
    {
     "name": "stderr",
     "output_type": "stream",
     "text": [
      "随机森林训练 Epoch 1: 100%|██████████| 33/33 [00:00<00:00, 41.69it/s]\n",
      "随机森林训练 Epoch 2: 100%|██████████| 33/33 [00:01<00:00, 32.98it/s]\n",
      "随机森林训练 Epoch 3: 100%|██████████| 33/33 [00:00<00:00, 36.73it/s]\n",
      "随机森林训练 Epoch 4: 100%|██████████| 33/33 [00:00<00:00, 39.03it/s]\n",
      "随机森林训练 Epoch 5: 100%|██████████| 33/33 [00:00<00:00, 41.44it/s]\n",
      "随机森林训练 Epoch 6: 100%|██████████| 33/33 [00:00<00:00, 41.38it/s]\n",
      "随机森林训练 Epoch 7: 100%|██████████| 33/33 [00:00<00:00, 38.08it/s]\n",
      "随机森林训练 Epoch 8: 100%|██████████| 33/33 [00:00<00:00, 48.07it/s]\n",
      "随机森林训练 Epoch 9: 100%|██████████| 33/33 [00:00<00:00, 44.20it/s]\n",
      "随机森林训练 Epoch 10: 100%|██████████| 33/33 [00:00<00:00, 61.18it/s]\n",
      "随机森林训练 Epoch 11: 100%|██████████| 33/33 [00:00<00:00, 43.50it/s]\n",
      "随机森林训练 Epoch 12: 100%|██████████| 33/33 [00:00<00:00, 41.87it/s]\n",
      "随机森林训练 Epoch 13: 100%|██████████| 33/33 [00:00<00:00, 38.94it/s]\n",
      "随机森林训练 Epoch 14: 100%|██████████| 33/33 [00:00<00:00, 41.30it/s]\n",
      "随机森林训练 Epoch 15: 100%|██████████| 33/33 [00:00<00:00, 42.58it/s]\n",
      "随机森林训练 Epoch 16: 100%|██████████| 33/33 [00:00<00:00, 39.04it/s]\n",
      "随机森林训练 Epoch 17: 100%|██████████| 33/33 [00:00<00:00, 43.01it/s]\n",
      "随机森林训练 Epoch 18: 100%|██████████| 33/33 [00:01<00:00, 29.71it/s]\n",
      "随机森林训练 Epoch 19: 100%|██████████| 33/33 [00:00<00:00, 50.87it/s]\n",
      "随机森林训练 Epoch 20: 100%|██████████| 33/33 [00:00<00:00, 37.86it/s]\n",
      "随机森林训练 Epoch 21: 100%|██████████| 33/33 [00:00<00:00, 46.38it/s]\n",
      "随机森林训练 Epoch 22: 100%|██████████| 33/33 [00:00<00:00, 46.92it/s]\n",
      "随机森林训练 Epoch 23: 100%|██████████| 33/33 [00:00<00:00, 40.02it/s]\n",
      "随机森林训练 Epoch 24: 100%|██████████| 33/33 [00:00<00:00, 41.06it/s]\n",
      "随机森林训练 Epoch 25: 100%|██████████| 33/33 [00:00<00:00, 40.35it/s]\n",
      "随机森林验证: 100%|██████████| 4/4 [00:00<00:00, 20.91it/s]\n"
     ]
    },
    {
     "name": "stdout",
     "output_type": "stream",
     "text": [
      "验证集 ACC: 0.8978, PRE: 0.9192, REC: 0.9388, F1: 0.9289, MCC: 0.7480\n",
      "验证集 SN: 0.9388, SP: 0.7970, AUC: 0.9355, AUPRC: 0.9684\n"
     ]
    },
    {
     "name": "stderr",
     "output_type": "stream",
     "text": [
      "随机森林测试: 100%|██████████| 9/9 [00:00<00:00, 20.17it/s]\n"
     ]
    },
    {
     "name": "stdout",
     "output_type": "stream",
     "text": [
      "测试集 ACC: 0.9217, PRE: 0.9354, REC: 0.9560, F1: 0.9456, MCC: 0.8065\n",
      "测试集 SN: 0.9560, SP: 0.8369, AUC: 0.9683, AUPRC: 0.9867\n",
      "\n",
      "--- 梯度提升 Fold 3 ---\n"
     ]
    },
    {
     "name": "stderr",
     "output_type": "stream",
     "text": [
      "梯度提升训练 Epoch 1: 100%|██████████| 33/33 [00:00<00:00, 42.31it/s]\n",
      "梯度提升训练 Epoch 2: 100%|██████████| 33/33 [00:00<00:00, 42.30it/s]\n",
      "梯度提升训练 Epoch 3: 100%|██████████| 33/33 [00:00<00:00, 41.46it/s]\n",
      "梯度提升训练 Epoch 4: 100%|██████████| 33/33 [00:00<00:00, 52.11it/s]\n",
      "梯度提升训练 Epoch 5: 100%|██████████| 33/33 [00:00<00:00, 52.37it/s]\n",
      "梯度提升训练 Epoch 6: 100%|██████████| 33/33 [00:00<00:00, 45.15it/s]\n",
      "梯度提升训练 Epoch 7: 100%|██████████| 33/33 [00:00<00:00, 44.26it/s]\n",
      "梯度提升训练 Epoch 8: 100%|██████████| 33/33 [00:00<00:00, 44.65it/s]\n",
      "梯度提升训练 Epoch 9: 100%|██████████| 33/33 [00:00<00:00, 63.00it/s]\n",
      "梯度提升训练 Epoch 10: 100%|██████████| 33/33 [00:00<00:00, 44.13it/s]\n",
      "梯度提升训练 Epoch 11: 100%|██████████| 33/33 [00:00<00:00, 36.02it/s]\n",
      "梯度提升训练 Epoch 12: 100%|██████████| 33/33 [00:00<00:00, 41.35it/s]\n",
      "梯度提升训练 Epoch 13: 100%|██████████| 33/33 [00:00<00:00, 50.05it/s]\n",
      "梯度提升训练 Epoch 14: 100%|██████████| 33/33 [00:00<00:00, 55.51it/s]\n",
      "梯度提升训练 Epoch 15: 100%|██████████| 33/33 [00:00<00:00, 42.49it/s]\n",
      "梯度提升训练 Epoch 16: 100%|██████████| 33/33 [00:00<00:00, 41.21it/s]\n",
      "梯度提升训练 Epoch 17: 100%|██████████| 33/33 [00:00<00:00, 45.17it/s]\n",
      "梯度提升训练 Epoch 18: 100%|██████████| 33/33 [00:00<00:00, 39.48it/s]\n",
      "梯度提升训练 Epoch 19: 100%|██████████| 33/33 [00:01<00:00, 31.33it/s]\n",
      "梯度提升训练 Epoch 20: 100%|██████████| 33/33 [00:00<00:00, 41.45it/s]\n",
      "梯度提升训练 Epoch 21: 100%|██████████| 33/33 [00:00<00:00, 39.27it/s]\n",
      "梯度提升训练 Epoch 22: 100%|██████████| 33/33 [00:00<00:00, 38.76it/s]\n",
      "梯度提升训练 Epoch 23: 100%|██████████| 33/33 [00:00<00:00, 40.84it/s]\n",
      "梯度提升训练 Epoch 24: 100%|██████████| 33/33 [00:00<00:00, 39.41it/s]\n",
      "梯度提升训练 Epoch 25: 100%|██████████| 33/33 [00:00<00:00, 44.41it/s]\n",
      "梯度提升训练 Epoch 26: 100%|██████████| 33/33 [00:00<00:00, 53.91it/s]\n",
      "梯度提升训练 Epoch 27: 100%|██████████| 33/33 [00:00<00:00, 48.72it/s]\n",
      "梯度提升训练 Epoch 28: 100%|██████████| 33/33 [00:00<00:00, 43.52it/s]\n",
      "梯度提升训练 Epoch 29: 100%|██████████| 33/33 [00:00<00:00, 44.69it/s]\n",
      "梯度提升训练 Epoch 30: 100%|██████████| 33/33 [00:00<00:00, 39.67it/s]\n",
      "梯度提升训练 Epoch 31: 100%|██████████| 33/33 [00:00<00:00, 46.32it/s]\n",
      "梯度提升训练 Epoch 32: 100%|██████████| 33/33 [00:00<00:00, 50.86it/s]\n",
      "梯度提升训练 Epoch 33: 100%|██████████| 33/33 [00:00<00:00, 49.56it/s]\n",
      "梯度提升训练 Epoch 34: 100%|██████████| 33/33 [00:00<00:00, 37.18it/s]\n",
      "梯度提升训练 Epoch 35: 100%|██████████| 33/33 [00:00<00:00, 35.50it/s]\n",
      "梯度提升验证: 100%|██████████| 4/4 [00:00<00:00, 16.20it/s]\n"
     ]
    },
    {
     "name": "stdout",
     "output_type": "stream",
     "text": [
      "验证集 ACC: 0.8870, PRE: 0.9056, REC: 0.9388, F1: 0.9219, MCC: 0.7190\n",
      "验证集 SN: 0.9388, SP: 0.7594, AUC: 0.9222, AUPRC: 0.9603\n"
     ]
    },
    {
     "name": "stderr",
     "output_type": "stream",
     "text": [
      "梯度提升测试: 100%|██████████| 9/9 [00:00<00:00, 19.58it/s]\n"
     ]
    },
    {
     "name": "stdout",
     "output_type": "stream",
     "text": [
      "测试集 ACC: 0.9182, PRE: 0.9361, REC: 0.9499, F1: 0.9430, MCC: 0.7986\n",
      "测试集 SN: 0.9499, SP: 0.8399, AUC: 0.9625, AUPRC: 0.9824\n",
      "\n",
      "============================================================\n",
      "========== Fold 4/10 ==========\n",
      "============================================================\n",
      "训练集样本数: 4134, 验证集样本数: 460\n",
      "\n",
      "--- 逻辑回归 Fold 4 ---\n"
     ]
    },
    {
     "name": "stderr",
     "output_type": "stream",
     "text": [
      "逻辑回归训练 Epoch 1: 100%|██████████| 33/33 [00:00<00:00, 33.47it/s]\n",
      "逻辑回归训练 Epoch 2: 100%|██████████| 33/33 [00:00<00:00, 41.37it/s]\n",
      "逻辑回归训练 Epoch 3: 100%|██████████| 33/33 [00:00<00:00, 37.84it/s]\n",
      "逻辑回归训练 Epoch 4: 100%|██████████| 33/33 [00:00<00:00, 34.09it/s]\n",
      "逻辑回归训练 Epoch 5: 100%|██████████| 33/33 [00:01<00:00, 29.95it/s]\n",
      "逻辑回归训练 Epoch 6: 100%|██████████| 33/33 [00:00<00:00, 40.18it/s]\n",
      "逻辑回归训练 Epoch 7: 100%|██████████| 33/33 [00:00<00:00, 38.49it/s]\n",
      "逻辑回归训练 Epoch 8: 100%|██████████| 33/33 [00:00<00:00, 51.18it/s]\n",
      "逻辑回归训练 Epoch 9: 100%|██████████| 33/33 [00:00<00:00, 43.71it/s]\n",
      "逻辑回归训练 Epoch 10: 100%|██████████| 33/33 [00:00<00:00, 46.90it/s]\n",
      "逻辑回归训练 Epoch 11: 100%|██████████| 33/33 [00:00<00:00, 36.33it/s]\n",
      "逻辑回归训练 Epoch 12: 100%|██████████| 33/33 [00:00<00:00, 37.23it/s]\n",
      "逻辑回归训练 Epoch 13: 100%|██████████| 33/33 [00:00<00:00, 43.51it/s]\n",
      "逻辑回归训练 Epoch 14: 100%|██████████| 33/33 [00:00<00:00, 38.38it/s]\n",
      "逻辑回归训练 Epoch 15: 100%|██████████| 33/33 [00:00<00:00, 37.77it/s]\n",
      "逻辑回归训练 Epoch 16: 100%|██████████| 33/33 [00:01<00:00, 32.34it/s]\n",
      "逻辑回归训练 Epoch 17: 100%|██████████| 33/33 [00:00<00:00, 42.06it/s]\n",
      "逻辑回归训练 Epoch 18: 100%|██████████| 33/33 [00:00<00:00, 40.37it/s]\n",
      "逻辑回归训练 Epoch 19: 100%|██████████| 33/33 [00:00<00:00, 36.57it/s]\n",
      "逻辑回归训练 Epoch 20: 100%|██████████| 33/33 [00:00<00:00, 40.57it/s]\n",
      "逻辑回归验证: 100%|██████████| 4/4 [00:00<00:00, 15.54it/s]\n"
     ]
    },
    {
     "name": "stdout",
     "output_type": "stream",
     "text": [
      "验证集 ACC: 0.8935, PRE: 0.8927, REC: 0.9664, F1: 0.9280, MCC: 0.7328\n",
      "验证集 SN: 0.9664, SP: 0.7143, AUC: 0.9298, AUPRC: 0.9575\n"
     ]
    },
    {
     "name": "stderr",
     "output_type": "stream",
     "text": [
      "逻辑回归测试: 100%|██████████| 9/9 [00:00<00:00, 21.10it/s]\n"
     ]
    },
    {
     "name": "stdout",
     "output_type": "stream",
     "text": [
      "测试集 ACC: 0.8851, PRE: 0.8898, REC: 0.9572, F1: 0.9223, MCC: 0.7103\n",
      "测试集 SN: 0.9572, SP: 0.7069, AUC: 0.9292, AUPRC: 0.9637\n",
      "\n",
      "--- SVM Fold 4 ---\n"
     ]
    },
    {
     "name": "stderr",
     "output_type": "stream",
     "text": [
      "SVM训练 Epoch 1: 100%|██████████| 33/33 [00:00<00:00, 49.41it/s]\n",
      "SVM训练 Epoch 2: 100%|██████████| 33/33 [00:00<00:00, 43.99it/s]\n",
      "SVM训练 Epoch 3: 100%|██████████| 33/33 [00:00<00:00, 44.17it/s]\n",
      "SVM训练 Epoch 4: 100%|██████████| 33/33 [00:00<00:00, 39.75it/s]\n",
      "SVM训练 Epoch 5: 100%|██████████| 33/33 [00:00<00:00, 44.72it/s]\n",
      "SVM训练 Epoch 6: 100%|██████████| 33/33 [00:00<00:00, 49.54it/s]\n",
      "SVM训练 Epoch 7: 100%|██████████| 33/33 [00:00<00:00, 36.27it/s]\n",
      "SVM训练 Epoch 8: 100%|██████████| 33/33 [00:00<00:00, 43.29it/s]\n",
      "SVM训练 Epoch 9: 100%|██████████| 33/33 [00:00<00:00, 56.23it/s]\n",
      "SVM训练 Epoch 10: 100%|██████████| 33/33 [00:00<00:00, 38.14it/s]\n",
      "SVM训练 Epoch 11: 100%|██████████| 33/33 [00:00<00:00, 43.82it/s]\n",
      "SVM训练 Epoch 12: 100%|██████████| 33/33 [00:01<00:00, 32.36it/s]\n",
      "SVM训练 Epoch 13: 100%|██████████| 33/33 [00:00<00:00, 39.38it/s]\n",
      "SVM训练 Epoch 14: 100%|██████████| 33/33 [00:00<00:00, 39.24it/s]\n",
      "SVM训练 Epoch 15: 100%|██████████| 33/33 [00:00<00:00, 39.01it/s]\n",
      "SVM训练 Epoch 16: 100%|██████████| 33/33 [00:00<00:00, 37.01it/s]\n",
      "SVM训练 Epoch 17: 100%|██████████| 33/33 [00:00<00:00, 42.83it/s]\n",
      "SVM训练 Epoch 18: 100%|██████████| 33/33 [00:00<00:00, 37.54it/s]\n",
      "SVM训练 Epoch 19: 100%|██████████| 33/33 [00:00<00:00, 46.17it/s]\n",
      "SVM训练 Epoch 20: 100%|██████████| 33/33 [00:00<00:00, 44.68it/s]\n",
      "SVM训练 Epoch 21: 100%|██████████| 33/33 [00:01<00:00, 32.69it/s]\n",
      "SVM训练 Epoch 22: 100%|██████████| 33/33 [00:00<00:00, 41.36it/s]\n",
      "SVM训练 Epoch 23: 100%|██████████| 33/33 [00:00<00:00, 46.26it/s]\n",
      "SVM训练 Epoch 24: 100%|██████████| 33/33 [00:00<00:00, 44.15it/s]\n",
      "SVM训练 Epoch 25: 100%|██████████| 33/33 [00:00<00:00, 36.74it/s]\n",
      "SVM训练 Epoch 26: 100%|██████████| 33/33 [00:00<00:00, 38.44it/s]\n",
      "SVM训练 Epoch 27: 100%|██████████| 33/33 [00:00<00:00, 42.70it/s]\n",
      "SVM训练 Epoch 28: 100%|██████████| 33/33 [00:00<00:00, 37.05it/s]\n",
      "SVM训练 Epoch 29: 100%|██████████| 33/33 [00:00<00:00, 40.64it/s]\n",
      "SVM训练 Epoch 30: 100%|██████████| 33/33 [00:00<00:00, 36.50it/s]\n",
      "SVM验证: 100%|██████████| 4/4 [00:00<00:00, 14.58it/s]\n"
     ]
    },
    {
     "name": "stdout",
     "output_type": "stream",
     "text": [
      "验证集 ACC: 0.9087, PRE: 0.9228, REC: 0.9511, F1: 0.9367, MCC: 0.7740\n",
      "验证集 SN: 0.9511, SP: 0.8045, AUC: 0.9578, AUPRC: 0.9759\n"
     ]
    },
    {
     "name": "stderr",
     "output_type": "stream",
     "text": [
      "SVM测试: 100%|██████████| 9/9 [00:00<00:00, 33.80it/s]\n"
     ]
    },
    {
     "name": "stdout",
     "output_type": "stream",
     "text": [
      "测试集 ACC: 0.9182, PRE: 0.9351, REC: 0.9511, F1: 0.9430, MCC: 0.7984\n",
      "测试集 SN: 0.9511, SP: 0.8369, AUC: 0.9598, AUPRC: 0.9812\n",
      "\n",
      "--- 随机森林 Fold 4 ---\n"
     ]
    },
    {
     "name": "stderr",
     "output_type": "stream",
     "text": [
      "随机森林训练 Epoch 1: 100%|██████████| 33/33 [00:00<00:00, 36.70it/s]\n",
      "随机森林训练 Epoch 2: 100%|██████████| 33/33 [00:00<00:00, 35.56it/s]\n",
      "随机森林训练 Epoch 3: 100%|██████████| 33/33 [00:00<00:00, 54.13it/s]\n",
      "随机森林训练 Epoch 4: 100%|██████████| 33/33 [00:00<00:00, 38.58it/s]\n",
      "随机森林训练 Epoch 5: 100%|██████████| 33/33 [00:00<00:00, 36.96it/s]\n",
      "随机森林训练 Epoch 6: 100%|██████████| 33/33 [00:00<00:00, 40.63it/s]\n",
      "随机森林训练 Epoch 7: 100%|██████████| 33/33 [00:01<00:00, 30.29it/s]\n",
      "随机森林训练 Epoch 8: 100%|██████████| 33/33 [00:00<00:00, 51.11it/s]\n",
      "随机森林训练 Epoch 9: 100%|██████████| 33/33 [00:00<00:00, 33.29it/s]\n",
      "随机森林训练 Epoch 10: 100%|██████████| 33/33 [00:00<00:00, 43.38it/s]\n",
      "随机森林训练 Epoch 11: 100%|██████████| 33/33 [00:00<00:00, 34.03it/s]\n",
      "随机森林训练 Epoch 12: 100%|██████████| 33/33 [00:00<00:00, 39.08it/s]\n",
      "随机森林训练 Epoch 13: 100%|██████████| 33/33 [00:00<00:00, 35.11it/s]\n",
      "随机森林训练 Epoch 14: 100%|██████████| 33/33 [00:00<00:00, 35.86it/s]\n",
      "随机森林训练 Epoch 15: 100%|██████████| 33/33 [00:00<00:00, 38.08it/s]\n",
      "随机森林训练 Epoch 16: 100%|██████████| 33/33 [00:00<00:00, 42.19it/s]\n",
      "随机森林训练 Epoch 17: 100%|██████████| 33/33 [00:00<00:00, 45.71it/s]\n",
      "随机森林训练 Epoch 18: 100%|██████████| 33/33 [00:00<00:00, 50.51it/s]\n",
      "随机森林训练 Epoch 19: 100%|██████████| 33/33 [00:00<00:00, 41.57it/s]\n",
      "随机森林训练 Epoch 20: 100%|██████████| 33/33 [00:00<00:00, 50.79it/s]\n",
      "随机森林训练 Epoch 21: 100%|██████████| 33/33 [00:00<00:00, 44.32it/s]\n",
      "随机森林训练 Epoch 22: 100%|██████████| 33/33 [00:00<00:00, 41.26it/s]\n",
      "随机森林训练 Epoch 23: 100%|██████████| 33/33 [00:00<00:00, 40.60it/s]\n",
      "随机森林训练 Epoch 24: 100%|██████████| 33/33 [00:00<00:00, 38.59it/s]\n",
      "随机森林训练 Epoch 25: 100%|██████████| 33/33 [00:00<00:00, 34.99it/s]\n",
      "随机森林验证: 100%|██████████| 4/4 [00:00<00:00, 11.93it/s]\n"
     ]
    },
    {
     "name": "stdout",
     "output_type": "stream",
     "text": [
      "验证集 ACC: 0.9239, PRE: 0.9506, REC: 0.9419, F1: 0.9462, MCC: 0.8162\n",
      "验证集 SN: 0.9419, SP: 0.8797, AUC: 0.9649, AUPRC: 0.9829\n"
     ]
    },
    {
     "name": "stderr",
     "output_type": "stream",
     "text": [
      "随机森林测试: 100%|██████████| 9/9 [00:00<00:00, 19.13it/s]\n"
     ]
    },
    {
     "name": "stdout",
     "output_type": "stream",
     "text": [
      "测试集 ACC: 0.9173, PRE: 0.9403, REC: 0.9438, F1: 0.9420, MCC: 0.7979\n",
      "测试集 SN: 0.9438, SP: 0.8520, AUC: 0.9649, AUPRC: 0.9852\n",
      "\n",
      "--- 梯度提升 Fold 4 ---\n"
     ]
    },
    {
     "name": "stderr",
     "output_type": "stream",
     "text": [
      "梯度提升训练 Epoch 1: 100%|██████████| 33/33 [00:00<00:00, 36.06it/s]\n",
      "梯度提升训练 Epoch 2: 100%|██████████| 33/33 [00:00<00:00, 48.21it/s]\n",
      "梯度提升训练 Epoch 3: 100%|██████████| 33/33 [00:00<00:00, 35.66it/s]\n",
      "梯度提升训练 Epoch 4: 100%|██████████| 33/33 [00:00<00:00, 34.75it/s]\n",
      "梯度提升训练 Epoch 5: 100%|██████████| 33/33 [00:00<00:00, 37.82it/s]\n",
      "梯度提升训练 Epoch 6: 100%|██████████| 33/33 [00:00<00:00, 38.63it/s]\n",
      "梯度提升训练 Epoch 7: 100%|██████████| 33/33 [00:00<00:00, 50.74it/s]\n",
      "梯度提升训练 Epoch 8: 100%|██████████| 33/33 [00:00<00:00, 36.72it/s]\n",
      "梯度提升训练 Epoch 9: 100%|██████████| 33/33 [00:00<00:00, 40.97it/s]\n",
      "梯度提升训练 Epoch 10: 100%|██████████| 33/33 [00:00<00:00, 48.25it/s]\n",
      "梯度提升训练 Epoch 11: 100%|██████████| 33/33 [00:00<00:00, 54.95it/s]\n",
      "梯度提升训练 Epoch 12: 100%|██████████| 33/33 [00:00<00:00, 43.45it/s]\n",
      "梯度提升训练 Epoch 13: 100%|██████████| 33/33 [00:00<00:00, 39.59it/s]\n",
      "梯度提升训练 Epoch 14: 100%|██████████| 33/33 [00:00<00:00, 34.05it/s]\n",
      "梯度提升训练 Epoch 15: 100%|██████████| 33/33 [00:00<00:00, 36.02it/s]\n",
      "梯度提升训练 Epoch 16: 100%|██████████| 33/33 [00:00<00:00, 40.57it/s]\n",
      "梯度提升训练 Epoch 17: 100%|██████████| 33/33 [00:00<00:00, 45.82it/s]\n",
      "梯度提升训练 Epoch 18: 100%|██████████| 33/33 [00:00<00:00, 57.63it/s]\n",
      "梯度提升训练 Epoch 19: 100%|██████████| 33/33 [00:00<00:00, 43.61it/s]\n",
      "梯度提升训练 Epoch 20: 100%|██████████| 33/33 [00:00<00:00, 41.06it/s]\n",
      "梯度提升训练 Epoch 21: 100%|██████████| 33/33 [00:00<00:00, 39.81it/s]\n",
      "梯度提升训练 Epoch 22: 100%|██████████| 33/33 [00:00<00:00, 40.25it/s]\n",
      "梯度提升训练 Epoch 23: 100%|██████████| 33/33 [00:00<00:00, 33.97it/s]\n",
      "梯度提升训练 Epoch 24: 100%|██████████| 33/33 [00:00<00:00, 40.16it/s]\n",
      "梯度提升训练 Epoch 25: 100%|██████████| 33/33 [00:00<00:00, 53.80it/s]\n",
      "梯度提升训练 Epoch 26: 100%|██████████| 33/33 [00:00<00:00, 37.05it/s]\n",
      "梯度提升训练 Epoch 27: 100%|██████████| 33/33 [00:00<00:00, 41.27it/s]\n",
      "梯度提升训练 Epoch 28: 100%|██████████| 33/33 [00:00<00:00, 51.05it/s]\n",
      "梯度提升训练 Epoch 29: 100%|██████████| 33/33 [00:00<00:00, 52.53it/s]\n",
      "梯度提升训练 Epoch 30: 100%|██████████| 33/33 [00:00<00:00, 41.58it/s]\n",
      "梯度提升训练 Epoch 31: 100%|██████████| 33/33 [00:00<00:00, 42.33it/s]\n",
      "梯度提升训练 Epoch 32: 100%|██████████| 33/33 [00:00<00:00, 43.88it/s]\n",
      "梯度提升训练 Epoch 33: 100%|██████████| 33/33 [00:00<00:00, 37.76it/s]\n",
      "梯度提升训练 Epoch 34: 100%|██████████| 33/33 [00:00<00:00, 35.18it/s]\n",
      "梯度提升训练 Epoch 35: 100%|██████████| 33/33 [00:00<00:00, 45.69it/s]\n",
      "梯度提升验证: 100%|██████████| 4/4 [00:00<00:00, 17.25it/s]\n"
     ]
    },
    {
     "name": "stdout",
     "output_type": "stream",
     "text": [
      "验证集 ACC: 0.9109, PRE: 0.9333, REC: 0.9419, F1: 0.9376, MCC: 0.7818\n",
      "验证集 SN: 0.9419, SP: 0.8346, AUC: 0.9533, AUPRC: 0.9694\n"
     ]
    },
    {
     "name": "stderr",
     "output_type": "stream",
     "text": [
      "梯度提升测试: 100%|██████████| 9/9 [00:00<00:00, 33.14it/s]\n"
     ]
    },
    {
     "name": "stdout",
     "output_type": "stream",
     "text": [
      "测试集 ACC: 0.9164, PRE: 0.9392, REC: 0.9438, F1: 0.9415, MCC: 0.7956\n",
      "测试集 SN: 0.9438, SP: 0.8489, AUC: 0.9588, AUPRC: 0.9808\n",
      "\n",
      "============================================================\n",
      "========== Fold 5/10 ==========\n",
      "============================================================\n",
      "训练集样本数: 4135, 验证集样本数: 459\n",
      "\n",
      "--- 逻辑回归 Fold 5 ---\n"
     ]
    },
    {
     "name": "stderr",
     "output_type": "stream",
     "text": [
      "逻辑回归训练 Epoch 1: 100%|██████████| 33/33 [00:01<00:00, 29.35it/s]\n",
      "逻辑回归训练 Epoch 2: 100%|██████████| 33/33 [00:00<00:00, 36.34it/s]\n",
      "逻辑回归训练 Epoch 3: 100%|██████████| 33/33 [00:00<00:00, 39.59it/s]\n",
      "逻辑回归训练 Epoch 4: 100%|██████████| 33/33 [00:00<00:00, 36.56it/s]\n",
      "逻辑回归训练 Epoch 5: 100%|██████████| 33/33 [00:00<00:00, 41.16it/s]\n",
      "逻辑回归训练 Epoch 6: 100%|██████████| 33/33 [00:01<00:00, 29.07it/s]\n",
      "逻辑回归训练 Epoch 7: 100%|██████████| 33/33 [00:00<00:00, 39.32it/s]\n",
      "逻辑回归训练 Epoch 8: 100%|██████████| 33/33 [00:00<00:00, 44.74it/s]\n",
      "逻辑回归训练 Epoch 9: 100%|██████████| 33/33 [00:00<00:00, 48.48it/s]\n",
      "逻辑回归训练 Epoch 10: 100%|██████████| 33/33 [00:00<00:00, 58.69it/s]\n",
      "逻辑回归训练 Epoch 11: 100%|██████████| 33/33 [00:00<00:00, 39.47it/s]\n",
      "逻辑回归训练 Epoch 12: 100%|██████████| 33/33 [00:00<00:00, 43.18it/s]\n",
      "逻辑回归训练 Epoch 13: 100%|██████████| 33/33 [00:00<00:00, 40.81it/s]\n",
      "逻辑回归训练 Epoch 14: 100%|██████████| 33/33 [00:01<00:00, 32.43it/s]\n",
      "逻辑回归训练 Epoch 15: 100%|██████████| 33/33 [00:01<00:00, 29.71it/s]\n",
      "逻辑回归训练 Epoch 16: 100%|██████████| 33/33 [00:00<00:00, 55.67it/s]\n",
      "逻辑回归训练 Epoch 17: 100%|██████████| 33/33 [00:00<00:00, 48.02it/s]\n",
      "逻辑回归训练 Epoch 18: 100%|██████████| 33/33 [00:00<00:00, 40.73it/s]\n",
      "逻辑回归训练 Epoch 19: 100%|██████████| 33/33 [00:01<00:00, 30.89it/s]\n",
      "逻辑回归训练 Epoch 20: 100%|██████████| 33/33 [00:00<00:00, 36.67it/s]\n",
      "逻辑回归验证: 100%|██████████| 4/4 [00:00<00:00, 16.04it/s]\n"
     ]
    },
    {
     "name": "stdout",
     "output_type": "stream",
     "text": [
      "验证集 ACC: 0.8758, PRE: 0.8729, REC: 0.9664, F1: 0.9173, MCC: 0.6850\n",
      "验证集 SN: 0.9664, SP: 0.6515, AUC: 0.9369, AUPRC: 0.9688\n"
     ]
    },
    {
     "name": "stderr",
     "output_type": "stream",
     "text": [
      "逻辑回归测试: 100%|██████████| 9/9 [00:00<00:00, 20.14it/s]\n"
     ]
    },
    {
     "name": "stdout",
     "output_type": "stream",
     "text": [
      "测试集 ACC: 0.8816, PRE: 0.8857, REC: 0.9572, F1: 0.9201, MCC: 0.7010\n",
      "测试集 SN: 0.9572, SP: 0.6949, AUC: 0.9298, AUPRC: 0.9641\n",
      "\n",
      "--- SVM Fold 5 ---\n"
     ]
    },
    {
     "name": "stderr",
     "output_type": "stream",
     "text": [
      "SVM训练 Epoch 1: 100%|██████████| 33/33 [00:00<00:00, 36.32it/s]\n",
      "SVM训练 Epoch 2: 100%|██████████| 33/33 [00:00<00:00, 42.18it/s]\n",
      "SVM训练 Epoch 3: 100%|██████████| 33/33 [00:00<00:00, 40.07it/s]\n",
      "SVM训练 Epoch 4: 100%|██████████| 33/33 [00:00<00:00, 39.61it/s]\n",
      "SVM训练 Epoch 5: 100%|██████████| 33/33 [00:00<00:00, 42.13it/s]\n",
      "SVM训练 Epoch 6: 100%|██████████| 33/33 [00:00<00:00, 43.07it/s]\n",
      "SVM训练 Epoch 7: 100%|██████████| 33/33 [00:00<00:00, 40.73it/s]\n",
      "SVM训练 Epoch 8: 100%|██████████| 33/33 [00:00<00:00, 42.08it/s]\n",
      "SVM训练 Epoch 9: 100%|██████████| 33/33 [00:00<00:00, 45.07it/s]\n",
      "SVM训练 Epoch 10: 100%|██████████| 33/33 [00:00<00:00, 42.38it/s]\n",
      "SVM训练 Epoch 11: 100%|██████████| 33/33 [00:00<00:00, 37.43it/s]\n",
      "SVM训练 Epoch 12: 100%|██████████| 33/33 [00:00<00:00, 33.80it/s]\n",
      "SVM训练 Epoch 13: 100%|██████████| 33/33 [00:00<00:00, 44.17it/s]\n",
      "SVM训练 Epoch 14: 100%|██████████| 33/33 [00:00<00:00, 55.95it/s]\n",
      "SVM训练 Epoch 15: 100%|██████████| 33/33 [00:00<00:00, 50.79it/s]\n",
      "SVM训练 Epoch 16: 100%|██████████| 33/33 [00:00<00:00, 41.27it/s]\n",
      "SVM训练 Epoch 17: 100%|██████████| 33/33 [00:00<00:00, 37.76it/s]\n",
      "SVM训练 Epoch 18: 100%|██████████| 33/33 [00:01<00:00, 32.00it/s]\n",
      "SVM训练 Epoch 19: 100%|██████████| 33/33 [00:00<00:00, 36.78it/s]\n",
      "SVM训练 Epoch 20: 100%|██████████| 33/33 [00:00<00:00, 35.09it/s]\n",
      "SVM训练 Epoch 21: 100%|██████████| 33/33 [00:00<00:00, 43.37it/s]\n",
      "SVM训练 Epoch 22: 100%|██████████| 33/33 [00:00<00:00, 46.22it/s]\n",
      "SVM训练 Epoch 23: 100%|██████████| 33/33 [00:00<00:00, 40.01it/s]\n",
      "SVM训练 Epoch 24: 100%|██████████| 33/33 [00:00<00:00, 41.74it/s]\n",
      "SVM训练 Epoch 25: 100%|██████████| 33/33 [00:00<00:00, 33.22it/s]\n",
      "SVM训练 Epoch 26: 100%|██████████| 33/33 [00:00<00:00, 48.60it/s]\n",
      "SVM训练 Epoch 27: 100%|██████████| 33/33 [00:01<00:00, 29.10it/s]\n",
      "SVM训练 Epoch 28: 100%|██████████| 33/33 [00:01<00:00, 28.27it/s]\n",
      "SVM训练 Epoch 29: 100%|██████████| 33/33 [00:00<00:00, 40.63it/s]\n",
      "SVM训练 Epoch 30: 100%|██████████| 33/33 [00:00<00:00, 37.53it/s]\n",
      "SVM验证: 100%|██████████| 4/4 [00:00<00:00, 19.08it/s]\n"
     ]
    },
    {
     "name": "stdout",
     "output_type": "stream",
     "text": [
      "验证集 ACC: 0.8998, PRE: 0.9096, REC: 0.9541, F1: 0.9313, MCC: 0.7492\n",
      "验证集 SN: 0.9541, SP: 0.7652, AUC: 0.9455, AUPRC: 0.9729\n"
     ]
    },
    {
     "name": "stderr",
     "output_type": "stream",
     "text": [
      "SVM测试: 100%|██████████| 9/9 [00:00<00:00, 19.24it/s]\n"
     ]
    },
    {
     "name": "stdout",
     "output_type": "stream",
     "text": [
      "测试集 ACC: 0.9104, PRE: 0.9261, REC: 0.9499, F1: 0.9378, MCC: 0.7780\n",
      "测试集 SN: 0.9499, SP: 0.8127, AUC: 0.9619, AUPRC: 0.9828\n",
      "\n",
      "--- 随机森林 Fold 5 ---\n"
     ]
    },
    {
     "name": "stderr",
     "output_type": "stream",
     "text": [
      "随机森林训练 Epoch 1: 100%|██████████| 33/33 [00:01<00:00, 29.66it/s]\n",
      "随机森林训练 Epoch 2: 100%|██████████| 33/33 [00:00<00:00, 39.75it/s]\n",
      "随机森林训练 Epoch 3: 100%|██████████| 33/33 [00:00<00:00, 42.56it/s]\n",
      "随机森林训练 Epoch 4: 100%|██████████| 33/33 [00:00<00:00, 39.21it/s]\n",
      "随机森林训练 Epoch 5: 100%|██████████| 33/33 [00:00<00:00, 48.85it/s]\n",
      "随机森林训练 Epoch 6: 100%|██████████| 33/33 [00:00<00:00, 37.13it/s]\n",
      "随机森林训练 Epoch 7: 100%|██████████| 33/33 [00:00<00:00, 33.83it/s]\n",
      "随机森林训练 Epoch 8: 100%|██████████| 33/33 [00:01<00:00, 31.47it/s]\n",
      "随机森林训练 Epoch 9: 100%|██████████| 33/33 [00:00<00:00, 39.00it/s]\n",
      "随机森林训练 Epoch 10: 100%|██████████| 33/33 [00:00<00:00, 38.42it/s]\n",
      "随机森林训练 Epoch 11: 100%|██████████| 33/33 [00:00<00:00, 40.89it/s]\n",
      "随机森林训练 Epoch 12: 100%|██████████| 33/33 [00:00<00:00, 38.63it/s]\n",
      "随机森林训练 Epoch 13: 100%|██████████| 33/33 [00:00<00:00, 35.81it/s]\n",
      "随机森林训练 Epoch 14: 100%|██████████| 33/33 [00:00<00:00, 35.47it/s]\n",
      "随机森林训练 Epoch 15: 100%|██████████| 33/33 [00:00<00:00, 41.71it/s]\n",
      "随机森林训练 Epoch 16: 100%|██████████| 33/33 [00:00<00:00, 48.12it/s]\n",
      "随机森林训练 Epoch 17: 100%|██████████| 33/33 [00:00<00:00, 57.93it/s]\n",
      "随机森林训练 Epoch 18: 100%|██████████| 33/33 [00:00<00:00, 42.40it/s]\n",
      "随机森林训练 Epoch 19: 100%|██████████| 33/33 [00:00<00:00, 40.99it/s]\n",
      "随机森林训练 Epoch 20: 100%|██████████| 33/33 [00:00<00:00, 43.73it/s]\n",
      "随机森林训练 Epoch 21: 100%|██████████| 33/33 [00:00<00:00, 39.85it/s]\n",
      "随机森林训练 Epoch 22: 100%|██████████| 33/33 [00:00<00:00, 39.48it/s]\n",
      "随机森林训练 Epoch 23: 100%|██████████| 33/33 [00:00<00:00, 47.16it/s]\n",
      "随机森林训练 Epoch 24: 100%|██████████| 33/33 [00:00<00:00, 50.50it/s]\n",
      "随机森林训练 Epoch 25: 100%|██████████| 33/33 [00:00<00:00, 50.01it/s]\n",
      "随机森林验证: 100%|██████████| 4/4 [00:00<00:00, 11.25it/s]\n"
     ]
    },
    {
     "name": "stdout",
     "output_type": "stream",
     "text": [
      "验证集 ACC: 0.9129, PRE: 0.9362, REC: 0.9419, F1: 0.9390, MCC: 0.7864\n",
      "验证集 SN: 0.9419, SP: 0.8409, AUC: 0.9575, AUPRC: 0.9814\n"
     ]
    },
    {
     "name": "stderr",
     "output_type": "stream",
     "text": [
      "随机森林测试: 100%|██████████| 9/9 [00:00<00:00, 26.99it/s]\n"
     ]
    },
    {
     "name": "stdout",
     "output_type": "stream",
     "text": [
      "测试集 ACC: 0.9191, PRE: 0.9481, REC: 0.9377, F1: 0.9428, MCC: 0.8044\n",
      "测试集 SN: 0.9377, SP: 0.8731, AUC: 0.9649, AUPRC: 0.9847\n",
      "\n",
      "--- 梯度提升 Fold 5 ---\n"
     ]
    },
    {
     "name": "stderr",
     "output_type": "stream",
     "text": [
      "梯度提升训练 Epoch 1: 100%|██████████| 33/33 [00:00<00:00, 44.04it/s]\n",
      "梯度提升训练 Epoch 2: 100%|██████████| 33/33 [00:00<00:00, 44.96it/s]\n",
      "梯度提升训练 Epoch 3: 100%|██████████| 33/33 [00:00<00:00, 45.34it/s]\n",
      "梯度提升训练 Epoch 4: 100%|██████████| 33/33 [00:00<00:00, 52.02it/s]\n",
      "梯度提升训练 Epoch 5: 100%|██████████| 33/33 [00:00<00:00, 51.29it/s]\n",
      "梯度提升训练 Epoch 6: 100%|██████████| 33/33 [00:00<00:00, 40.99it/s]\n",
      "梯度提升训练 Epoch 7: 100%|██████████| 33/33 [00:00<00:00, 43.47it/s]\n",
      "梯度提升训练 Epoch 8: 100%|██████████| 33/33 [00:00<00:00, 34.89it/s]\n",
      "梯度提升训练 Epoch 9: 100%|██████████| 33/33 [00:00<00:00, 40.69it/s]\n",
      "梯度提升训练 Epoch 10: 100%|██████████| 33/33 [00:00<00:00, 39.49it/s]\n",
      "梯度提升训练 Epoch 11: 100%|██████████| 33/33 [00:00<00:00, 49.65it/s]\n",
      "梯度提升训练 Epoch 12: 100%|██████████| 33/33 [00:00<00:00, 36.87it/s]\n",
      "梯度提升训练 Epoch 13: 100%|██████████| 33/33 [00:00<00:00, 48.03it/s]\n",
      "梯度提升训练 Epoch 14: 100%|██████████| 33/33 [00:00<00:00, 44.47it/s]\n",
      "梯度提升训练 Epoch 15: 100%|██████████| 33/33 [00:00<00:00, 34.17it/s]\n",
      "梯度提升训练 Epoch 16: 100%|██████████| 33/33 [00:00<00:00, 40.20it/s]\n",
      "梯度提升训练 Epoch 17: 100%|██████████| 33/33 [00:00<00:00, 39.67it/s]\n",
      "梯度提升训练 Epoch 18: 100%|██████████| 33/33 [00:00<00:00, 36.27it/s]\n",
      "梯度提升训练 Epoch 19: 100%|██████████| 33/33 [00:01<00:00, 30.75it/s]\n",
      "梯度提升训练 Epoch 20: 100%|██████████| 33/33 [00:00<00:00, 37.52it/s]\n",
      "梯度提升训练 Epoch 21: 100%|██████████| 33/33 [00:00<00:00, 39.13it/s]\n",
      "梯度提升训练 Epoch 22: 100%|██████████| 33/33 [00:00<00:00, 57.08it/s]\n",
      "梯度提升训练 Epoch 23: 100%|██████████| 33/33 [00:00<00:00, 38.21it/s]\n",
      "梯度提升训练 Epoch 24: 100%|██████████| 33/33 [00:00<00:00, 39.93it/s]\n",
      "梯度提升训练 Epoch 25: 100%|██████████| 33/33 [00:00<00:00, 35.11it/s]\n",
      "梯度提升训练 Epoch 26: 100%|██████████| 33/33 [00:00<00:00, 38.43it/s]\n",
      "梯度提升训练 Epoch 27: 100%|██████████| 33/33 [00:01<00:00, 29.89it/s]\n",
      "梯度提升训练 Epoch 28: 100%|██████████| 33/33 [00:00<00:00, 57.15it/s]\n",
      "梯度提升训练 Epoch 29: 100%|██████████| 33/33 [00:00<00:00, 46.87it/s]\n",
      "梯度提升训练 Epoch 30: 100%|██████████| 33/33 [00:00<00:00, 41.36it/s]\n",
      "梯度提升训练 Epoch 31: 100%|██████████| 33/33 [00:00<00:00, 34.68it/s]\n",
      "梯度提升训练 Epoch 32: 100%|██████████| 33/33 [00:00<00:00, 45.15it/s]\n",
      "梯度提升训练 Epoch 33: 100%|██████████| 33/33 [00:01<00:00, 32.36it/s]\n",
      "梯度提升训练 Epoch 34: 100%|██████████| 33/33 [00:00<00:00, 37.58it/s]\n",
      "梯度提升训练 Epoch 35: 100%|██████████| 33/33 [00:00<00:00, 40.00it/s]\n",
      "梯度提升验证: 100%|██████████| 4/4 [00:00<00:00, 17.52it/s]\n"
     ]
    },
    {
     "name": "stdout",
     "output_type": "stream",
     "text": [
      "验证集 ACC: 0.8911, PRE: 0.8968, REC: 0.9572, F1: 0.9260, MCC: 0.7258\n",
      "验证集 SN: 0.9572, SP: 0.7273, AUC: 0.9403, AUPRC: 0.9691\n"
     ]
    },
    {
     "name": "stderr",
     "output_type": "stream",
     "text": [
      "梯度提升测试: 100%|██████████| 9/9 [00:00<00:00, 18.90it/s]\n"
     ]
    },
    {
     "name": "stdout",
     "output_type": "stream",
     "text": [
      "测试集 ACC: 0.9156, PRE: 0.9276, REC: 0.9560, F1: 0.9416, MCC: 0.7906\n",
      "测试集 SN: 0.9560, SP: 0.8157, AUC: 0.9569, AUPRC: 0.9802\n",
      "\n",
      "============================================================\n",
      "========== Fold 6/10 ==========\n",
      "============================================================\n",
      "训练集样本数: 4135, 验证集样本数: 459\n",
      "\n",
      "--- 逻辑回归 Fold 6 ---\n"
     ]
    },
    {
     "name": "stderr",
     "output_type": "stream",
     "text": [
      "逻辑回归训练 Epoch 1: 100%|██████████| 33/33 [00:00<00:00, 39.26it/s]\n",
      "逻辑回归训练 Epoch 2: 100%|██████████| 33/33 [00:00<00:00, 45.35it/s]\n",
      "逻辑回归训练 Epoch 3: 100%|██████████| 33/33 [00:01<00:00, 32.70it/s]\n",
      "逻辑回归训练 Epoch 4: 100%|██████████| 33/33 [00:01<00:00, 31.79it/s]\n",
      "逻辑回归训练 Epoch 5: 100%|██████████| 33/33 [00:00<00:00, 36.21it/s]\n",
      "逻辑回归训练 Epoch 6: 100%|██████████| 33/33 [00:00<00:00, 40.30it/s]\n",
      "逻辑回归训练 Epoch 7: 100%|██████████| 33/33 [00:00<00:00, 37.53it/s]\n",
      "逻辑回归训练 Epoch 8: 100%|██████████| 33/33 [00:00<00:00, 33.01it/s]\n",
      "逻辑回归训练 Epoch 9: 100%|██████████| 33/33 [00:00<00:00, 41.58it/s]\n",
      "逻辑回归训练 Epoch 10: 100%|██████████| 33/33 [00:00<00:00, 43.50it/s]\n",
      "逻辑回归训练 Epoch 11: 100%|██████████| 33/33 [00:00<00:00, 38.36it/s]\n",
      "逻辑回归训练 Epoch 12: 100%|██████████| 33/33 [00:01<00:00, 24.23it/s]\n",
      "逻辑回归训练 Epoch 13: 100%|██████████| 33/33 [00:00<00:00, 35.27it/s]\n",
      "逻辑回归训练 Epoch 14: 100%|██████████| 33/33 [00:00<00:00, 38.80it/s]\n",
      "逻辑回归训练 Epoch 15: 100%|██████████| 33/33 [00:00<00:00, 38.56it/s]\n",
      "逻辑回归训练 Epoch 16: 100%|██████████| 33/33 [00:00<00:00, 33.26it/s]\n",
      "逻辑回归训练 Epoch 17: 100%|██████████| 33/33 [00:00<00:00, 36.98it/s]\n",
      "逻辑回归训练 Epoch 18: 100%|██████████| 33/33 [00:00<00:00, 42.38it/s]\n",
      "逻辑回归训练 Epoch 19: 100%|██████████| 33/33 [00:00<00:00, 41.57it/s]\n",
      "逻辑回归训练 Epoch 20: 100%|██████████| 33/33 [00:00<00:00, 37.74it/s]\n",
      "逻辑回归验证: 100%|██████████| 4/4 [00:00<00:00, 21.31it/s]\n"
     ]
    },
    {
     "name": "stdout",
     "output_type": "stream",
     "text": [
      "验证集 ACC: 0.8758, PRE: 0.8902, REC: 0.9419, F1: 0.9153, MCC: 0.6872\n",
      "验证集 SN: 0.9419, SP: 0.7121, AUC: 0.9105, AUPRC: 0.9486\n"
     ]
    },
    {
     "name": "stderr",
     "output_type": "stream",
     "text": [
      "逻辑回归测试: 100%|██████████| 9/9 [00:00<00:00, 19.06it/s]\n"
     ]
    },
    {
     "name": "stdout",
     "output_type": "stream",
     "text": [
      "测试集 ACC: 0.8834, PRE: 0.8895, REC: 0.9548, F1: 0.9210, MCC: 0.7059\n",
      "测试集 SN: 0.9548, SP: 0.7069, AUC: 0.9292, AUPRC: 0.9636\n",
      "\n",
      "--- SVM Fold 6 ---\n"
     ]
    },
    {
     "name": "stderr",
     "output_type": "stream",
     "text": [
      "SVM训练 Epoch 1: 100%|██████████| 33/33 [00:00<00:00, 40.91it/s]\n",
      "SVM训练 Epoch 2: 100%|██████████| 33/33 [00:00<00:00, 38.67it/s]\n",
      "SVM训练 Epoch 3: 100%|██████████| 33/33 [00:00<00:00, 43.68it/s]\n",
      "SVM训练 Epoch 4: 100%|██████████| 33/33 [00:00<00:00, 51.11it/s]\n",
      "SVM训练 Epoch 5: 100%|██████████| 33/33 [00:01<00:00, 32.33it/s]\n",
      "SVM训练 Epoch 6: 100%|██████████| 33/33 [00:01<00:00, 28.24it/s]\n",
      "SVM训练 Epoch 7: 100%|██████████| 33/33 [00:00<00:00, 43.70it/s]\n",
      "SVM训练 Epoch 8: 100%|██████████| 33/33 [00:00<00:00, 50.27it/s]\n",
      "SVM训练 Epoch 9: 100%|██████████| 33/33 [00:00<00:00, 47.32it/s]\n",
      "SVM训练 Epoch 10: 100%|██████████| 33/33 [00:00<00:00, 37.96it/s]\n",
      "SVM训练 Epoch 11: 100%|██████████| 33/33 [00:00<00:00, 41.32it/s]\n",
      "SVM训练 Epoch 12: 100%|██████████| 33/33 [00:00<00:00, 40.71it/s]\n",
      "SVM训练 Epoch 13: 100%|██████████| 33/33 [00:00<00:00, 49.82it/s]\n",
      "SVM训练 Epoch 14: 100%|██████████| 33/33 [00:00<00:00, 33.87it/s]\n",
      "SVM训练 Epoch 15: 100%|██████████| 33/33 [00:00<00:00, 38.99it/s]\n",
      "SVM训练 Epoch 16: 100%|██████████| 33/33 [00:00<00:00, 46.18it/s]\n",
      "SVM训练 Epoch 17: 100%|██████████| 33/33 [00:00<00:00, 49.34it/s]\n",
      "SVM训练 Epoch 18: 100%|██████████| 33/33 [00:00<00:00, 38.16it/s]\n",
      "SVM训练 Epoch 19: 100%|██████████| 33/33 [00:01<00:00, 32.56it/s]\n",
      "SVM训练 Epoch 20: 100%|██████████| 33/33 [00:00<00:00, 34.01it/s]\n",
      "SVM训练 Epoch 21: 100%|██████████| 33/33 [00:00<00:00, 42.55it/s]\n",
      "SVM训练 Epoch 22: 100%|██████████| 33/33 [00:00<00:00, 40.83it/s]\n",
      "SVM训练 Epoch 23: 100%|██████████| 33/33 [00:00<00:00, 39.76it/s]\n",
      "SVM训练 Epoch 24: 100%|██████████| 33/33 [00:00<00:00, 41.01it/s]\n",
      "SVM训练 Epoch 25: 100%|██████████| 33/33 [00:00<00:00, 36.26it/s]\n",
      "SVM训练 Epoch 26: 100%|██████████| 33/33 [00:00<00:00, 47.82it/s]\n",
      "SVM训练 Epoch 27: 100%|██████████| 33/33 [00:00<00:00, 35.86it/s]\n",
      "SVM训练 Epoch 28: 100%|██████████| 33/33 [00:00<00:00, 59.54it/s]\n",
      "SVM训练 Epoch 29: 100%|██████████| 33/33 [00:01<00:00, 32.54it/s]\n",
      "SVM训练 Epoch 30: 100%|██████████| 33/33 [00:00<00:00, 48.65it/s]\n",
      "SVM验证: 100%|██████████| 4/4 [00:00<00:00,  9.39it/s]\n"
     ]
    },
    {
     "name": "stdout",
     "output_type": "stream",
     "text": [
      "验证集 ACC: 0.8954, PRE: 0.9292, REC: 0.9235, F1: 0.9264, MCC: 0.7460\n",
      "验证集 SN: 0.9235, SP: 0.8258, AUC: 0.9484, AUPRC: 0.9714\n"
     ]
    },
    {
     "name": "stderr",
     "output_type": "stream",
     "text": [
      "SVM测试: 100%|██████████| 9/9 [00:00<00:00, 17.80it/s]\n"
     ]
    },
    {
     "name": "stdout",
     "output_type": "stream",
     "text": [
      "测试集 ACC: 0.9191, PRE: 0.9448, REC: 0.9413, F1: 0.9430, MCC: 0.8032\n",
      "测试集 SN: 0.9413, SP: 0.8640, AUC: 0.9621, AUPRC: 0.9826\n",
      "\n",
      "--- 随机森林 Fold 6 ---\n"
     ]
    },
    {
     "name": "stderr",
     "output_type": "stream",
     "text": [
      "随机森林训练 Epoch 1: 100%|██████████| 33/33 [00:00<00:00, 40.71it/s]\n",
      "随机森林训练 Epoch 2: 100%|██████████| 33/33 [00:00<00:00, 57.68it/s]\n",
      "随机森林训练 Epoch 3: 100%|██████████| 33/33 [00:00<00:00, 40.46it/s]\n",
      "随机森林训练 Epoch 4: 100%|██████████| 33/33 [00:00<00:00, 33.40it/s]\n",
      "随机森林训练 Epoch 5: 100%|██████████| 33/33 [00:01<00:00, 32.50it/s]\n",
      "随机森林训练 Epoch 6: 100%|██████████| 33/33 [00:00<00:00, 35.89it/s]\n",
      "随机森林训练 Epoch 7: 100%|██████████| 33/33 [00:00<00:00, 37.40it/s]\n",
      "随机森林训练 Epoch 8: 100%|██████████| 33/33 [00:00<00:00, 40.08it/s]\n",
      "随机森林训练 Epoch 9: 100%|██████████| 33/33 [00:00<00:00, 38.27it/s]\n",
      "随机森林训练 Epoch 10: 100%|██████████| 33/33 [00:00<00:00, 43.89it/s]\n",
      "随机森林训练 Epoch 11: 100%|██████████| 33/33 [00:01<00:00, 31.74it/s]\n",
      "随机森林训练 Epoch 12: 100%|██████████| 33/33 [00:00<00:00, 35.59it/s]\n",
      "随机森林训练 Epoch 13: 100%|██████████| 33/33 [00:00<00:00, 43.44it/s]\n",
      "随机森林训练 Epoch 14: 100%|██████████| 33/33 [00:00<00:00, 40.89it/s]\n",
      "随机森林训练 Epoch 15: 100%|██████████| 33/33 [00:00<00:00, 40.11it/s]\n",
      "随机森林训练 Epoch 16: 100%|██████████| 33/33 [00:00<00:00, 40.44it/s]\n",
      "随机森林训练 Epoch 17: 100%|██████████| 33/33 [00:00<00:00, 48.25it/s]\n",
      "随机森林训练 Epoch 18: 100%|██████████| 33/33 [00:01<00:00, 30.58it/s]\n",
      "随机森林训练 Epoch 19: 100%|██████████| 33/33 [00:00<00:00, 40.09it/s]\n",
      "随机森林训练 Epoch 20: 100%|██████████| 33/33 [00:00<00:00, 45.31it/s]\n",
      "随机森林训练 Epoch 21: 100%|██████████| 33/33 [00:01<00:00, 28.12it/s]\n",
      "随机森林训练 Epoch 22: 100%|██████████| 33/33 [00:01<00:00, 32.49it/s]\n",
      "随机森林训练 Epoch 23: 100%|██████████| 33/33 [00:00<00:00, 38.25it/s]\n",
      "随机森林训练 Epoch 24: 100%|██████████| 33/33 [00:00<00:00, 36.88it/s]\n",
      "随机森林训练 Epoch 25: 100%|██████████| 33/33 [00:00<00:00, 33.54it/s]\n",
      "随机森林验证: 100%|██████████| 4/4 [00:00<00:00, 10.25it/s]\n"
     ]
    },
    {
     "name": "stdout",
     "output_type": "stream",
     "text": [
      "验证集 ACC: 0.9041, PRE: 0.9224, REC: 0.9450, F1: 0.9335, MCC: 0.7625\n",
      "验证集 SN: 0.9450, SP: 0.8030, AUC: 0.9487, AUPRC: 0.9718\n"
     ]
    },
    {
     "name": "stderr",
     "output_type": "stream",
     "text": [
      "随机森林测试: 100%|██████████| 9/9 [00:00<00:00, 21.72it/s]\n"
     ]
    },
    {
     "name": "stdout",
     "output_type": "stream",
     "text": [
      "测试集 ACC: 0.9199, PRE: 0.9363, REC: 0.9523, F1: 0.9442, MCC: 0.8027\n",
      "测试集 SN: 0.9523, SP: 0.8399, AUC: 0.9656, AUPRC: 0.9848\n",
      "\n",
      "--- 梯度提升 Fold 6 ---\n"
     ]
    },
    {
     "name": "stderr",
     "output_type": "stream",
     "text": [
      "梯度提升训练 Epoch 1: 100%|██████████| 33/33 [00:00<00:00, 33.06it/s]\n",
      "梯度提升训练 Epoch 2: 100%|██████████| 33/33 [00:00<00:00, 37.44it/s]\n",
      "梯度提升训练 Epoch 3: 100%|██████████| 33/33 [00:00<00:00, 43.64it/s]\n",
      "梯度提升训练 Epoch 4: 100%|██████████| 33/33 [00:00<00:00, 38.48it/s]\n",
      "梯度提升训练 Epoch 5: 100%|██████████| 33/33 [00:00<00:00, 39.32it/s]\n",
      "梯度提升训练 Epoch 6: 100%|██████████| 33/33 [00:00<00:00, 38.62it/s]\n",
      "梯度提升训练 Epoch 7: 100%|██████████| 33/33 [00:00<00:00, 37.41it/s]\n",
      "梯度提升训练 Epoch 8: 100%|██████████| 33/33 [00:00<00:00, 36.96it/s]\n",
      "梯度提升训练 Epoch 9: 100%|██████████| 33/33 [00:00<00:00, 40.96it/s]\n",
      "梯度提升训练 Epoch 10: 100%|██████████| 33/33 [00:00<00:00, 34.58it/s]\n",
      "梯度提升训练 Epoch 11: 100%|██████████| 33/33 [00:00<00:00, 38.80it/s]\n",
      "梯度提升训练 Epoch 12: 100%|██████████| 33/33 [00:00<00:00, 38.49it/s]\n",
      "梯度提升训练 Epoch 13: 100%|██████████| 33/33 [00:00<00:00, 42.71it/s]\n",
      "梯度提升训练 Epoch 14: 100%|██████████| 33/33 [00:00<00:00, 42.23it/s]\n",
      "梯度提升训练 Epoch 15: 100%|██████████| 33/33 [00:00<00:00, 38.56it/s]\n",
      "梯度提升训练 Epoch 16: 100%|██████████| 33/33 [00:01<00:00, 31.06it/s]\n",
      "梯度提升训练 Epoch 17: 100%|██████████| 33/33 [00:00<00:00, 49.58it/s]\n",
      "梯度提升训练 Epoch 18: 100%|██████████| 33/33 [00:00<00:00, 39.45it/s]\n",
      "梯度提升训练 Epoch 19: 100%|██████████| 33/33 [00:00<00:00, 40.81it/s]\n",
      "梯度提升训练 Epoch 20: 100%|██████████| 33/33 [00:00<00:00, 54.43it/s]\n",
      "梯度提升训练 Epoch 21: 100%|██████████| 33/33 [00:00<00:00, 44.39it/s]\n",
      "梯度提升训练 Epoch 22: 100%|██████████| 33/33 [00:00<00:00, 35.90it/s]\n",
      "梯度提升训练 Epoch 23: 100%|██████████| 33/33 [00:00<00:00, 33.88it/s]\n",
      "梯度提升训练 Epoch 24: 100%|██████████| 33/33 [00:00<00:00, 40.30it/s]\n",
      "梯度提升训练 Epoch 25: 100%|██████████| 33/33 [00:00<00:00, 42.52it/s]\n",
      "梯度提升训练 Epoch 26: 100%|██████████| 33/33 [00:00<00:00, 40.96it/s]\n",
      "梯度提升训练 Epoch 27: 100%|██████████| 33/33 [00:00<00:00, 50.18it/s]\n",
      "梯度提升训练 Epoch 28: 100%|██████████| 33/33 [00:00<00:00, 43.67it/s]\n",
      "梯度提升训练 Epoch 29: 100%|██████████| 33/33 [00:00<00:00, 35.75it/s]\n",
      "梯度提升训练 Epoch 30: 100%|██████████| 33/33 [00:01<00:00, 32.68it/s]\n",
      "梯度提升训练 Epoch 31: 100%|██████████| 33/33 [00:00<00:00, 42.98it/s]\n",
      "梯度提升训练 Epoch 32: 100%|██████████| 33/33 [00:00<00:00, 43.29it/s]\n",
      "梯度提升训练 Epoch 33: 100%|██████████| 33/33 [00:00<00:00, 47.37it/s]\n",
      "梯度提升训练 Epoch 34: 100%|██████████| 33/33 [00:00<00:00, 52.21it/s]\n",
      "梯度提升训练 Epoch 35: 100%|██████████| 33/33 [00:01<00:00, 29.35it/s]\n",
      "梯度提升验证: 100%|██████████| 4/4 [00:00<00:00, 11.78it/s]\n"
     ]
    },
    {
     "name": "stdout",
     "output_type": "stream",
     "text": [
      "验证集 ACC: 0.9063, PRE: 0.9356, REC: 0.9327, F1: 0.9342, MCC: 0.7719\n",
      "验证集 SN: 0.9327, SP: 0.8409, AUC: 0.9482, AUPRC: 0.9716\n"
     ]
    },
    {
     "name": "stderr",
     "output_type": "stream",
     "text": [
      "梯度提升测试: 100%|██████████| 9/9 [00:00<00:00, 19.13it/s]\n"
     ]
    },
    {
     "name": "stdout",
     "output_type": "stream",
     "text": [
      "测试集 ACC: 0.9182, PRE: 0.9404, REC: 0.9450, F1: 0.9427, MCC: 0.7999\n",
      "测试集 SN: 0.9450, SP: 0.8520, AUC: 0.9582, AUPRC: 0.9799\n",
      "\n",
      "============================================================\n",
      "========== Fold 7/10 ==========\n",
      "============================================================\n",
      "训练集样本数: 4135, 验证集样本数: 459\n",
      "\n",
      "--- 逻辑回归 Fold 7 ---\n"
     ]
    },
    {
     "name": "stderr",
     "output_type": "stream",
     "text": [
      "逻辑回归训练 Epoch 1: 100%|██████████| 33/33 [00:01<00:00, 31.91it/s]\n",
      "逻辑回归训练 Epoch 2: 100%|██████████| 33/33 [00:00<00:00, 41.17it/s]\n",
      "逻辑回归训练 Epoch 3: 100%|██████████| 33/33 [00:00<00:00, 40.50it/s]\n",
      "逻辑回归训练 Epoch 4: 100%|██████████| 33/33 [00:00<00:00, 37.70it/s]\n",
      "逻辑回归训练 Epoch 5: 100%|██████████| 33/33 [00:00<00:00, 40.00it/s]\n",
      "逻辑回归训练 Epoch 6: 100%|██████████| 33/33 [00:00<00:00, 39.12it/s]\n",
      "逻辑回归训练 Epoch 7: 100%|██████████| 33/33 [00:00<00:00, 41.69it/s]\n",
      "逻辑回归训练 Epoch 8: 100%|██████████| 33/33 [00:00<00:00, 44.70it/s]\n",
      "逻辑回归训练 Epoch 9: 100%|██████████| 33/33 [00:00<00:00, 46.98it/s]\n",
      "逻辑回归训练 Epoch 10: 100%|██████████| 33/33 [00:00<00:00, 51.01it/s]\n",
      "逻辑回归训练 Epoch 11: 100%|██████████| 33/33 [00:00<00:00, 43.56it/s]\n",
      "逻辑回归训练 Epoch 12: 100%|██████████| 33/33 [00:00<00:00, 51.14it/s]\n",
      "逻辑回归训练 Epoch 13: 100%|██████████| 33/33 [00:00<00:00, 35.78it/s]\n",
      "逻辑回归训练 Epoch 14: 100%|██████████| 33/33 [00:00<00:00, 37.62it/s]\n",
      "逻辑回归训练 Epoch 15: 100%|██████████| 33/33 [00:00<00:00, 35.60it/s]\n",
      "逻辑回归训练 Epoch 16: 100%|██████████| 33/33 [00:01<00:00, 32.43it/s]\n",
      "逻辑回归训练 Epoch 17: 100%|██████████| 33/33 [00:00<00:00, 42.44it/s]\n",
      "逻辑回归训练 Epoch 18: 100%|██████████| 33/33 [00:00<00:00, 50.79it/s]\n",
      "逻辑回归训练 Epoch 19: 100%|██████████| 33/33 [00:00<00:00, 51.69it/s]\n",
      "逻辑回归训练 Epoch 20: 100%|██████████| 33/33 [00:00<00:00, 39.52it/s]\n",
      "逻辑回归验证: 100%|██████████| 4/4 [00:00<00:00, 10.18it/s]\n"
     ]
    },
    {
     "name": "stdout",
     "output_type": "stream",
     "text": [
      "验证集 ACC: 0.8758, PRE: 0.8835, REC: 0.9511, F1: 0.9161, MCC: 0.6856\n",
      "验证集 SN: 0.9511, SP: 0.6894, AUC: 0.9292, AUPRC: 0.9631\n"
     ]
    },
    {
     "name": "stderr",
     "output_type": "stream",
     "text": [
      "逻辑回归测试: 100%|██████████| 9/9 [00:00<00:00, 29.87it/s]\n"
     ]
    },
    {
     "name": "stdout",
     "output_type": "stream",
     "text": [
      "测试集 ACC: 0.8851, PRE: 0.8898, REC: 0.9572, F1: 0.9223, MCC: 0.7103\n",
      "测试集 SN: 0.9572, SP: 0.7069, AUC: 0.9291, AUPRC: 0.9636\n",
      "\n",
      "--- SVM Fold 7 ---\n"
     ]
    },
    {
     "name": "stderr",
     "output_type": "stream",
     "text": [
      "SVM训练 Epoch 1: 100%|██████████| 33/33 [00:00<00:00, 40.34it/s]\n",
      "SVM训练 Epoch 2: 100%|██████████| 33/33 [00:00<00:00, 38.17it/s]\n",
      "SVM训练 Epoch 3: 100%|██████████| 33/33 [00:00<00:00, 53.74it/s]\n",
      "SVM训练 Epoch 4: 100%|██████████| 33/33 [00:00<00:00, 40.23it/s]\n",
      "SVM训练 Epoch 5: 100%|██████████| 33/33 [00:00<00:00, 36.32it/s]\n",
      "SVM训练 Epoch 6: 100%|██████████| 33/33 [00:00<00:00, 34.85it/s]\n",
      "SVM训练 Epoch 7: 100%|██████████| 33/33 [00:01<00:00, 32.63it/s]\n",
      "SVM训练 Epoch 8: 100%|██████████| 33/33 [00:00<00:00, 36.33it/s]\n",
      "SVM训练 Epoch 9: 100%|██████████| 33/33 [00:00<00:00, 42.08it/s]\n",
      "SVM训练 Epoch 10: 100%|██████████| 33/33 [00:00<00:00, 40.69it/s]\n",
      "SVM训练 Epoch 11: 100%|██████████| 33/33 [00:00<00:00, 44.51it/s]\n",
      "SVM训练 Epoch 12: 100%|██████████| 33/33 [00:00<00:00, 51.72it/s]\n",
      "SVM训练 Epoch 13: 100%|██████████| 33/33 [00:00<00:00, 52.19it/s]\n",
      "SVM训练 Epoch 14: 100%|██████████| 33/33 [00:01<00:00, 31.45it/s]\n",
      "SVM训练 Epoch 15: 100%|██████████| 33/33 [00:00<00:00, 33.26it/s]\n",
      "SVM训练 Epoch 16: 100%|██████████| 33/33 [00:00<00:00, 44.38it/s]\n",
      "SVM训练 Epoch 17: 100%|██████████| 33/33 [00:00<00:00, 51.45it/s]\n",
      "SVM训练 Epoch 18: 100%|██████████| 33/33 [00:00<00:00, 34.95it/s]\n",
      "SVM训练 Epoch 19: 100%|██████████| 33/33 [00:00<00:00, 36.00it/s]\n",
      "SVM训练 Epoch 20: 100%|██████████| 33/33 [00:00<00:00, 43.70it/s]\n",
      "SVM训练 Epoch 21: 100%|██████████| 33/33 [00:01<00:00, 32.78it/s]\n",
      "SVM训练 Epoch 22: 100%|██████████| 33/33 [00:00<00:00, 41.05it/s]\n",
      "SVM训练 Epoch 23: 100%|██████████| 33/33 [00:00<00:00, 47.61it/s]\n",
      "SVM训练 Epoch 24: 100%|██████████| 33/33 [00:00<00:00, 49.66it/s]\n",
      "SVM训练 Epoch 25: 100%|██████████| 33/33 [00:00<00:00, 51.63it/s]\n",
      "SVM训练 Epoch 26: 100%|██████████| 33/33 [00:00<00:00, 42.59it/s]\n",
      "SVM训练 Epoch 27: 100%|██████████| 33/33 [00:00<00:00, 42.29it/s]\n",
      "SVM训练 Epoch 28: 100%|██████████| 33/33 [00:00<00:00, 42.11it/s]\n",
      "SVM训练 Epoch 29: 100%|██████████| 33/33 [00:00<00:00, 37.53it/s]\n",
      "SVM训练 Epoch 30: 100%|██████████| 33/33 [00:00<00:00, 40.06it/s]\n",
      "SVM验证: 100%|██████████| 4/4 [00:00<00:00, 16.04it/s]\n"
     ]
    },
    {
     "name": "stdout",
     "output_type": "stream",
     "text": [
      "验证集 ACC: 0.9194, PRE: 0.9560, REC: 0.9297, F1: 0.9426, MCC: 0.8081\n",
      "验证集 SN: 0.9297, SP: 0.8939, AUC: 0.9643, AUPRC: 0.9836\n"
     ]
    },
    {
     "name": "stderr",
     "output_type": "stream",
     "text": [
      "SVM测试: 100%|██████████| 9/9 [00:00<00:00, 19.34it/s]\n"
     ]
    },
    {
     "name": "stdout",
     "output_type": "stream",
     "text": [
      "测试集 ACC: 0.9130, PRE: 0.9487, REC: 0.9279, F1: 0.9382, MCC: 0.7918\n",
      "测试集 SN: 0.9279, SP: 0.8761, AUC: 0.9650, AUPRC: 0.9850\n",
      "\n",
      "--- 随机森林 Fold 7 ---\n"
     ]
    },
    {
     "name": "stderr",
     "output_type": "stream",
     "text": [
      "随机森林训练 Epoch 1: 100%|██████████| 33/33 [00:00<00:00, 38.88it/s]\n",
      "随机森林训练 Epoch 2: 100%|██████████| 33/33 [00:00<00:00, 41.22it/s]\n",
      "随机森林训练 Epoch 3: 100%|██████████| 33/33 [00:00<00:00, 51.33it/s]\n",
      "随机森林训练 Epoch 4: 100%|██████████| 33/33 [00:01<00:00, 29.64it/s]\n",
      "随机森林训练 Epoch 5: 100%|██████████| 33/33 [00:00<00:00, 35.84it/s]\n",
      "随机森林训练 Epoch 6: 100%|██████████| 33/33 [00:00<00:00, 46.75it/s]\n",
      "随机森林训练 Epoch 7: 100%|██████████| 33/33 [00:00<00:00, 39.04it/s]\n",
      "随机森林训练 Epoch 8: 100%|██████████| 33/33 [00:00<00:00, 51.91it/s]\n",
      "随机森林训练 Epoch 9: 100%|██████████| 33/33 [00:01<00:00, 27.55it/s]\n",
      "随机森林训练 Epoch 10: 100%|██████████| 33/33 [00:01<00:00, 29.58it/s]\n",
      "随机森林训练 Epoch 11: 100%|██████████| 33/33 [00:00<00:00, 37.26it/s]\n",
      "随机森林训练 Epoch 12: 100%|██████████| 33/33 [00:00<00:00, 38.69it/s]\n",
      "随机森林训练 Epoch 13: 100%|██████████| 33/33 [00:00<00:00, 33.90it/s]\n",
      "随机森林训练 Epoch 14: 100%|██████████| 33/33 [00:01<00:00, 27.01it/s]\n",
      "随机森林训练 Epoch 15: 100%|██████████| 33/33 [00:00<00:00, 40.17it/s]\n",
      "随机森林训练 Epoch 16: 100%|██████████| 33/33 [00:00<00:00, 37.32it/s]\n",
      "随机森林训练 Epoch 17: 100%|██████████| 33/33 [00:00<00:00, 38.14it/s]\n",
      "随机森林训练 Epoch 18: 100%|██████████| 33/33 [00:00<00:00, 39.20it/s]\n",
      "随机森林训练 Epoch 19: 100%|██████████| 33/33 [00:01<00:00, 28.68it/s]\n",
      "随机森林训练 Epoch 20: 100%|██████████| 33/33 [00:01<00:00, 30.95it/s]\n",
      "随机森林训练 Epoch 21: 100%|██████████| 33/33 [00:01<00:00, 30.61it/s]\n",
      "随机森林训练 Epoch 22: 100%|██████████| 33/33 [00:01<00:00, 32.67it/s]\n",
      "随机森林训练 Epoch 23: 100%|██████████| 33/33 [00:01<00:00, 31.76it/s]\n",
      "随机森林训练 Epoch 24: 100%|██████████| 33/33 [00:01<00:00, 22.99it/s]\n",
      "随机森林训练 Epoch 25: 100%|██████████| 33/33 [00:00<00:00, 45.05it/s]\n",
      "随机森林验证: 100%|██████████| 4/4 [00:00<00:00,  9.17it/s]\n"
     ]
    },
    {
     "name": "stdout",
     "output_type": "stream",
     "text": [
      "验证集 ACC: 0.9216, PRE: 0.9561, REC: 0.9327, F1: 0.9443, MCC: 0.8127\n",
      "验证集 SN: 0.9327, SP: 0.8939, AUC: 0.9686, AUPRC: 0.9858\n"
     ]
    },
    {
     "name": "stderr",
     "output_type": "stream",
     "text": [
      "随机森林测试: 100%|██████████| 9/9 [00:00<00:00, 22.75it/s]\n"
     ]
    },
    {
     "name": "stdout",
     "output_type": "stream",
     "text": [
      "测试集 ACC: 0.9182, PRE: 0.9436, REC: 0.9413, F1: 0.9425, MCC: 0.8009\n",
      "测试集 SN: 0.9413, SP: 0.8610, AUC: 0.9661, AUPRC: 0.9856\n",
      "\n",
      "--- 梯度提升 Fold 7 ---\n"
     ]
    },
    {
     "name": "stderr",
     "output_type": "stream",
     "text": [
      "梯度提升训练 Epoch 1: 100%|██████████| 33/33 [00:00<00:00, 42.66it/s]\n",
      "梯度提升训练 Epoch 2: 100%|██████████| 33/33 [00:00<00:00, 41.59it/s]\n",
      "梯度提升训练 Epoch 3: 100%|██████████| 33/33 [00:01<00:00, 30.91it/s]\n",
      "梯度提升训练 Epoch 4: 100%|██████████| 33/33 [00:00<00:00, 40.32it/s]\n",
      "梯度提升训练 Epoch 5: 100%|██████████| 33/33 [00:00<00:00, 37.08it/s]\n",
      "梯度提升训练 Epoch 6: 100%|██████████| 33/33 [00:01<00:00, 32.10it/s]\n",
      "梯度提升训练 Epoch 7: 100%|██████████| 33/33 [00:00<00:00, 39.52it/s]\n",
      "梯度提升训练 Epoch 8: 100%|██████████| 33/33 [00:00<00:00, 38.30it/s]\n",
      "梯度提升训练 Epoch 9: 100%|██████████| 33/33 [00:01<00:00, 31.73it/s]\n",
      "梯度提升训练 Epoch 10: 100%|██████████| 33/33 [00:00<00:00, 41.46it/s]\n",
      "梯度提升训练 Epoch 11: 100%|██████████| 33/33 [00:00<00:00, 34.53it/s]\n",
      "梯度提升训练 Epoch 12: 100%|██████████| 33/33 [00:00<00:00, 34.05it/s]\n",
      "梯度提升训练 Epoch 13: 100%|██████████| 33/33 [00:00<00:00, 43.95it/s]\n",
      "梯度提升训练 Epoch 14: 100%|██████████| 33/33 [00:00<00:00, 39.19it/s]\n",
      "梯度提升训练 Epoch 15: 100%|██████████| 33/33 [00:01<00:00, 32.86it/s]\n",
      "梯度提升训练 Epoch 16: 100%|██████████| 33/33 [00:00<00:00, 38.37it/s]\n",
      "梯度提升训练 Epoch 17: 100%|██████████| 33/33 [00:00<00:00, 39.67it/s]\n",
      "梯度提升训练 Epoch 18: 100%|██████████| 33/33 [00:00<00:00, 48.25it/s]\n",
      "梯度提升训练 Epoch 19: 100%|██████████| 33/33 [00:00<00:00, 35.36it/s]\n",
      "梯度提升训练 Epoch 20: 100%|██████████| 33/33 [00:00<00:00, 43.38it/s]\n",
      "梯度提升训练 Epoch 21: 100%|██████████| 33/33 [00:00<00:00, 35.35it/s]\n",
      "梯度提升训练 Epoch 22: 100%|██████████| 33/33 [00:01<00:00, 27.89it/s]\n",
      "梯度提升训练 Epoch 23: 100%|██████████| 33/33 [00:00<00:00, 37.48it/s]\n",
      "梯度提升训练 Epoch 24: 100%|██████████| 33/33 [00:00<00:00, 37.72it/s]\n",
      "梯度提升训练 Epoch 25: 100%|██████████| 33/33 [00:01<00:00, 29.83it/s]\n",
      "梯度提升训练 Epoch 26: 100%|██████████| 33/33 [00:00<00:00, 45.76it/s]\n",
      "梯度提升训练 Epoch 27: 100%|██████████| 33/33 [00:00<00:00, 36.36it/s]\n",
      "梯度提升训练 Epoch 28: 100%|██████████| 33/33 [00:00<00:00, 46.69it/s]\n",
      "梯度提升训练 Epoch 29: 100%|██████████| 33/33 [00:00<00:00, 36.55it/s]\n",
      "梯度提升训练 Epoch 30: 100%|██████████| 33/33 [00:01<00:00, 32.52it/s]\n",
      "梯度提升训练 Epoch 31: 100%|██████████| 33/33 [00:00<00:00, 46.99it/s]\n",
      "梯度提升训练 Epoch 32: 100%|██████████| 33/33 [00:00<00:00, 37.01it/s]\n",
      "梯度提升训练 Epoch 33: 100%|██████████| 33/33 [00:00<00:00, 35.76it/s]\n",
      "梯度提升训练 Epoch 34: 100%|██████████| 33/33 [00:00<00:00, 37.48it/s]\n",
      "梯度提升训练 Epoch 35: 100%|██████████| 33/33 [00:01<00:00, 29.74it/s]\n",
      "梯度提升验证: 100%|██████████| 4/4 [00:00<00:00, 20.31it/s]\n"
     ]
    },
    {
     "name": "stdout",
     "output_type": "stream",
     "text": [
      "验证集 ACC: 0.9150, PRE: 0.9528, REC: 0.9266, F1: 0.9395, MCC: 0.7976\n",
      "验证集 SN: 0.9266, SP: 0.8864, AUC: 0.9591, AUPRC: 0.9810\n"
     ]
    },
    {
     "name": "stderr",
     "output_type": "stream",
     "text": [
      "梯度提升测试: 100%|██████████| 9/9 [00:00<00:00, 16.66it/s]\n"
     ]
    },
    {
     "name": "stdout",
     "output_type": "stream",
     "text": [
      "测试集 ACC: 0.9130, PRE: 0.9443, REC: 0.9328, F1: 0.9385, MCC: 0.7899\n",
      "测试集 SN: 0.9328, SP: 0.8640, AUC: 0.9621, AUPRC: 0.9832\n",
      "\n",
      "============================================================\n",
      "========== Fold 8/10 ==========\n",
      "============================================================\n",
      "训练集样本数: 4135, 验证集样本数: 459\n",
      "\n",
      "--- 逻辑回归 Fold 8 ---\n"
     ]
    },
    {
     "name": "stderr",
     "output_type": "stream",
     "text": [
      "逻辑回归训练 Epoch 1: 100%|██████████| 33/33 [00:00<00:00, 41.76it/s]\n",
      "逻辑回归训练 Epoch 2: 100%|██████████| 33/33 [00:00<00:00, 34.20it/s]\n",
      "逻辑回归训练 Epoch 3: 100%|██████████| 33/33 [00:00<00:00, 49.83it/s]\n",
      "逻辑回归训练 Epoch 4: 100%|██████████| 33/33 [00:00<00:00, 51.64it/s]\n",
      "逻辑回归训练 Epoch 5: 100%|██████████| 33/33 [00:00<00:00, 38.61it/s]\n",
      "逻辑回归训练 Epoch 6: 100%|██████████| 33/33 [00:00<00:00, 37.13it/s]\n",
      "逻辑回归训练 Epoch 7: 100%|██████████| 33/33 [00:00<00:00, 45.14it/s]\n",
      "逻辑回归训练 Epoch 8: 100%|██████████| 33/33 [00:00<00:00, 39.64it/s]\n",
      "逻辑回归训练 Epoch 9: 100%|██████████| 33/33 [00:00<00:00, 38.42it/s]\n",
      "逻辑回归训练 Epoch 10: 100%|██████████| 33/33 [00:00<00:00, 52.68it/s]\n",
      "逻辑回归训练 Epoch 11: 100%|██████████| 33/33 [00:00<00:00, 35.28it/s]\n",
      "逻辑回归训练 Epoch 12: 100%|██████████| 33/33 [00:00<00:00, 44.09it/s]\n",
      "逻辑回归训练 Epoch 13: 100%|██████████| 33/33 [00:00<00:00, 38.51it/s]\n",
      "逻辑回归训练 Epoch 14: 100%|██████████| 33/33 [00:00<00:00, 53.89it/s]\n",
      "逻辑回归训练 Epoch 15: 100%|██████████| 33/33 [00:01<00:00, 31.74it/s]\n",
      "逻辑回归训练 Epoch 16: 100%|██████████| 33/33 [00:00<00:00, 37.59it/s]\n",
      "逻辑回归训练 Epoch 17: 100%|██████████| 33/33 [00:00<00:00, 40.16it/s]\n",
      "逻辑回归训练 Epoch 18: 100%|██████████| 33/33 [00:01<00:00, 32.89it/s]\n",
      "逻辑回归训练 Epoch 19: 100%|██████████| 33/33 [00:00<00:00, 37.82it/s]\n",
      "逻辑回归训练 Epoch 20: 100%|██████████| 33/33 [00:00<00:00, 43.57it/s]\n",
      "逻辑回归验证: 100%|██████████| 4/4 [00:00<00:00, 11.88it/s]\n"
     ]
    },
    {
     "name": "stdout",
     "output_type": "stream",
     "text": [
      "验证集 ACC: 0.8845, PRE: 0.8870, REC: 0.9602, F1: 0.9222, MCC: 0.7082\n",
      "验证集 SN: 0.9602, SP: 0.6970, AUC: 0.9028, AUPRC: 0.9340\n"
     ]
    },
    {
     "name": "stderr",
     "output_type": "stream",
     "text": [
      "逻辑回归测试: 100%|██████████| 9/9 [00:00<00:00, 27.69it/s]\n"
     ]
    },
    {
     "name": "stdout",
     "output_type": "stream",
     "text": [
      "测试集 ACC: 0.8834, PRE: 0.8886, REC: 0.9560, F1: 0.9211, MCC: 0.7058\n",
      "测试集 SN: 0.9560, SP: 0.7039, AUC: 0.9282, AUPRC: 0.9629\n",
      "\n",
      "--- SVM Fold 8 ---\n"
     ]
    },
    {
     "name": "stderr",
     "output_type": "stream",
     "text": [
      "SVM训练 Epoch 1: 100%|██████████| 33/33 [00:00<00:00, 34.67it/s]\n",
      "SVM训练 Epoch 2: 100%|██████████| 33/33 [00:00<00:00, 37.22it/s]\n",
      "SVM训练 Epoch 3: 100%|██████████| 33/33 [00:00<00:00, 42.07it/s]\n",
      "SVM训练 Epoch 4: 100%|██████████| 33/33 [00:00<00:00, 37.76it/s]\n",
      "SVM训练 Epoch 5: 100%|██████████| 33/33 [00:00<00:00, 39.75it/s]\n",
      "SVM训练 Epoch 6: 100%|██████████| 33/33 [00:00<00:00, 35.92it/s]\n",
      "SVM训练 Epoch 7: 100%|██████████| 33/33 [00:00<00:00, 39.21it/s]\n",
      "SVM训练 Epoch 8: 100%|██████████| 33/33 [00:00<00:00, 40.45it/s]\n",
      "SVM训练 Epoch 9: 100%|██████████| 33/33 [00:00<00:00, 45.49it/s]\n",
      "SVM训练 Epoch 10: 100%|██████████| 33/33 [00:00<00:00, 50.61it/s]\n",
      "SVM训练 Epoch 11: 100%|██████████| 33/33 [00:00<00:00, 49.75it/s]\n",
      "SVM训练 Epoch 12: 100%|██████████| 33/33 [00:00<00:00, 33.27it/s]\n",
      "SVM训练 Epoch 13: 100%|██████████| 33/33 [00:00<00:00, 46.18it/s]\n",
      "SVM训练 Epoch 14: 100%|██████████| 33/33 [00:00<00:00, 38.43it/s]\n",
      "SVM训练 Epoch 15: 100%|██████████| 33/33 [00:00<00:00, 34.44it/s]\n",
      "SVM训练 Epoch 16: 100%|██████████| 33/33 [00:00<00:00, 44.99it/s]\n",
      "SVM训练 Epoch 17: 100%|██████████| 33/33 [00:00<00:00, 42.32it/s]\n",
      "SVM训练 Epoch 18: 100%|██████████| 33/33 [00:00<00:00, 54.52it/s]\n",
      "SVM训练 Epoch 19: 100%|██████████| 33/33 [00:00<00:00, 55.16it/s]\n",
      "SVM训练 Epoch 20: 100%|██████████| 33/33 [00:00<00:00, 36.72it/s]\n",
      "SVM训练 Epoch 21: 100%|██████████| 33/33 [00:00<00:00, 34.37it/s]\n",
      "SVM训练 Epoch 22: 100%|██████████| 33/33 [00:00<00:00, 37.98it/s]\n",
      "SVM训练 Epoch 23: 100%|██████████| 33/33 [00:00<00:00, 40.78it/s]\n",
      "SVM训练 Epoch 24: 100%|██████████| 33/33 [00:00<00:00, 37.09it/s]\n",
      "SVM训练 Epoch 25: 100%|██████████| 33/33 [00:00<00:00, 42.24it/s]\n",
      "SVM训练 Epoch 26: 100%|██████████| 33/33 [00:00<00:00, 41.92it/s]\n",
      "SVM训练 Epoch 27: 100%|██████████| 33/33 [00:00<00:00, 39.43it/s]\n",
      "SVM训练 Epoch 28: 100%|██████████| 33/33 [00:00<00:00, 44.66it/s]\n",
      "SVM训练 Epoch 29: 100%|██████████| 33/33 [00:00<00:00, 41.55it/s]\n",
      "SVM训练 Epoch 30: 100%|██████████| 33/33 [00:00<00:00, 37.91it/s]\n",
      "SVM验证: 100%|██████████| 4/4 [00:00<00:00, 19.65it/s]\n"
     ]
    },
    {
     "name": "stdout",
     "output_type": "stream",
     "text": [
      "验证集 ACC: 0.9281, PRE: 0.9349, REC: 0.9664, F1: 0.9504, MCC: 0.8215\n",
      "验证集 SN: 0.9664, SP: 0.8333, AUC: 0.9542, AUPRC: 0.9770\n"
     ]
    },
    {
     "name": "stderr",
     "output_type": "stream",
     "text": [
      "SVM测试: 100%|██████████| 9/9 [00:00<00:00, 19.02it/s]\n"
     ]
    },
    {
     "name": "stdout",
     "output_type": "stream",
     "text": [
      "测试集 ACC: 0.9095, PRE: 0.9270, REC: 0.9474, F1: 0.9371, MCC: 0.7763\n",
      "测试集 SN: 0.9474, SP: 0.8157, AUC: 0.9603, AUPRC: 0.9819\n",
      "\n",
      "--- 随机森林 Fold 8 ---\n"
     ]
    },
    {
     "name": "stderr",
     "output_type": "stream",
     "text": [
      "随机森林训练 Epoch 1: 100%|██████████| 33/33 [00:00<00:00, 50.94it/s]\n",
      "随机森林训练 Epoch 2: 100%|██████████| 33/33 [00:01<00:00, 30.13it/s]\n",
      "随机森林训练 Epoch 3: 100%|██████████| 33/33 [00:00<00:00, 39.98it/s]\n",
      "随机森林训练 Epoch 4: 100%|██████████| 33/33 [00:00<00:00, 38.96it/s]\n",
      "随机森林训练 Epoch 5: 100%|██████████| 33/33 [00:00<00:00, 36.62it/s]\n",
      "随机森林训练 Epoch 6: 100%|██████████| 33/33 [00:01<00:00, 32.94it/s]\n",
      "随机森林训练 Epoch 7: 100%|██████████| 33/33 [00:00<00:00, 43.09it/s]\n",
      "随机森林训练 Epoch 8: 100%|██████████| 33/33 [00:00<00:00, 42.53it/s]\n",
      "随机森林训练 Epoch 9: 100%|██████████| 33/33 [00:00<00:00, 49.87it/s]\n",
      "随机森林训练 Epoch 10: 100%|██████████| 33/33 [00:00<00:00, 49.88it/s]\n",
      "随机森林训练 Epoch 11: 100%|██████████| 33/33 [00:00<00:00, 34.36it/s]\n",
      "随机森林训练 Epoch 12: 100%|██████████| 33/33 [00:00<00:00, 47.62it/s]\n",
      "随机森林训练 Epoch 13: 100%|██████████| 33/33 [00:00<00:00, 60.49it/s]\n",
      "随机森林训练 Epoch 14: 100%|██████████| 33/33 [00:00<00:00, 40.93it/s]\n",
      "随机森林训练 Epoch 15: 100%|██████████| 33/33 [00:00<00:00, 35.52it/s]\n",
      "随机森林训练 Epoch 16: 100%|██████████| 33/33 [00:00<00:00, 41.29it/s]\n",
      "随机森林训练 Epoch 17: 100%|██████████| 33/33 [00:00<00:00, 45.66it/s]\n",
      "随机森林训练 Epoch 18: 100%|██████████| 33/33 [00:00<00:00, 41.59it/s]\n",
      "随机森林训练 Epoch 19: 100%|██████████| 33/33 [00:01<00:00, 31.39it/s]\n",
      "随机森林训练 Epoch 20: 100%|██████████| 33/33 [00:00<00:00, 51.23it/s]\n",
      "随机森林训练 Epoch 21: 100%|██████████| 33/33 [00:00<00:00, 43.47it/s]\n",
      "随机森林训练 Epoch 22: 100%|██████████| 33/33 [00:00<00:00, 43.27it/s]\n",
      "随机森林训练 Epoch 23: 100%|██████████| 33/33 [00:00<00:00, 38.29it/s]\n",
      "随机森林训练 Epoch 24: 100%|██████████| 33/33 [00:01<00:00, 31.59it/s]\n",
      "随机森林训练 Epoch 25: 100%|██████████| 33/33 [00:00<00:00, 35.41it/s]\n",
      "随机森林验证: 100%|██████████| 4/4 [00:00<00:00, 11.65it/s]\n"
     ]
    },
    {
     "name": "stdout",
     "output_type": "stream",
     "text": [
      "验证集 ACC: 0.9216, PRE: 0.9292, REC: 0.9633, F1: 0.9459, MCC: 0.8050\n",
      "验证集 SN: 0.9633, SP: 0.8182, AUC: 0.9650, AUPRC: 0.9801\n"
     ]
    },
    {
     "name": "stderr",
     "output_type": "stream",
     "text": [
      "随机森林测试: 100%|██████████| 9/9 [00:00<00:00, 25.98it/s]\n"
     ]
    },
    {
     "name": "stdout",
     "output_type": "stream",
     "text": [
      "测试集 ACC: 0.9217, PRE: 0.9303, REC: 0.9621, F1: 0.9459, MCC: 0.8056\n",
      "测试集 SN: 0.9621, SP: 0.8218, AUC: 0.9652, AUPRC: 0.9847\n",
      "\n",
      "--- 梯度提升 Fold 8 ---\n"
     ]
    },
    {
     "name": "stderr",
     "output_type": "stream",
     "text": [
      "梯度提升训练 Epoch 1: 100%|██████████| 33/33 [00:00<00:00, 41.20it/s]\n",
      "梯度提升训练 Epoch 2: 100%|██████████| 33/33 [00:00<00:00, 48.44it/s]\n",
      "梯度提升训练 Epoch 3: 100%|██████████| 33/33 [00:00<00:00, 38.10it/s]\n",
      "梯度提升训练 Epoch 4: 100%|██████████| 33/33 [00:00<00:00, 40.15it/s]\n",
      "梯度提升训练 Epoch 5: 100%|██████████| 33/33 [00:00<00:00, 50.28it/s]\n",
      "梯度提升训练 Epoch 6: 100%|██████████| 33/33 [00:00<00:00, 48.72it/s]\n",
      "梯度提升训练 Epoch 7: 100%|██████████| 33/33 [00:00<00:00, 36.58it/s]\n",
      "梯度提升训练 Epoch 8: 100%|██████████| 33/33 [00:00<00:00, 43.20it/s]\n",
      "梯度提升训练 Epoch 9: 100%|██████████| 33/33 [00:00<00:00, 34.20it/s]\n",
      "梯度提升训练 Epoch 10: 100%|██████████| 33/33 [00:01<00:00, 28.62it/s]\n",
      "梯度提升训练 Epoch 11: 100%|██████████| 33/33 [00:00<00:00, 36.26it/s]\n",
      "梯度提升训练 Epoch 12: 100%|██████████| 33/33 [00:00<00:00, 40.03it/s]\n",
      "梯度提升训练 Epoch 13: 100%|██████████| 33/33 [00:00<00:00, 36.84it/s]\n",
      "梯度提升训练 Epoch 14: 100%|██████████| 33/33 [00:00<00:00, 46.68it/s]\n",
      "梯度提升训练 Epoch 15: 100%|██████████| 33/33 [00:00<00:00, 34.68it/s]\n",
      "梯度提升训练 Epoch 16: 100%|██████████| 33/33 [00:00<00:00, 39.25it/s]\n",
      "梯度提升训练 Epoch 17: 100%|██████████| 33/33 [00:00<00:00, 40.45it/s]\n",
      "梯度提升训练 Epoch 18: 100%|██████████| 33/33 [00:00<00:00, 52.15it/s]\n",
      "梯度提升训练 Epoch 19: 100%|██████████| 33/33 [00:00<00:00, 46.70it/s]\n",
      "梯度提升训练 Epoch 20: 100%|██████████| 33/33 [00:00<00:00, 47.93it/s]\n",
      "梯度提升训练 Epoch 21: 100%|██████████| 33/33 [00:00<00:00, 41.32it/s]\n",
      "梯度提升训练 Epoch 22: 100%|██████████| 33/33 [00:00<00:00, 40.18it/s]\n",
      "梯度提升训练 Epoch 23: 100%|██████████| 33/33 [00:00<00:00, 37.03it/s]\n",
      "梯度提升训练 Epoch 24: 100%|██████████| 33/33 [00:00<00:00, 38.03it/s]\n",
      "梯度提升训练 Epoch 25: 100%|██████████| 33/33 [00:00<00:00, 59.51it/s]\n",
      "梯度提升训练 Epoch 26: 100%|██████████| 33/33 [00:00<00:00, 35.67it/s]\n",
      "梯度提升训练 Epoch 27: 100%|██████████| 33/33 [00:00<00:00, 42.22it/s]\n",
      "梯度提升训练 Epoch 28: 100%|██████████| 33/33 [00:00<00:00, 39.49it/s]\n",
      "梯度提升训练 Epoch 29: 100%|██████████| 33/33 [00:00<00:00, 39.38it/s]\n",
      "梯度提升训练 Epoch 30: 100%|██████████| 33/33 [00:00<00:00, 37.83it/s]\n",
      "梯度提升训练 Epoch 31: 100%|██████████| 33/33 [00:00<00:00, 42.90it/s]\n",
      "梯度提升训练 Epoch 32: 100%|██████████| 33/33 [00:00<00:00, 38.40it/s]\n",
      "梯度提升训练 Epoch 33: 100%|██████████| 33/33 [00:00<00:00, 36.16it/s]\n",
      "梯度提升训练 Epoch 34: 100%|██████████| 33/33 [00:00<00:00, 39.86it/s]\n",
      "梯度提升训练 Epoch 35: 100%|██████████| 33/33 [00:00<00:00, 43.45it/s]\n",
      "梯度提升验证: 100%|██████████| 4/4 [00:00<00:00, 20.78it/s]\n"
     ]
    },
    {
     "name": "stdout",
     "output_type": "stream",
     "text": [
      "验证集 ACC: 0.9020, PRE: 0.9006, REC: 0.9694, F1: 0.9337, MCC: 0.7539\n",
      "验证集 SN: 0.9694, SP: 0.7348, AUC: 0.9335, AUPRC: 0.9638\n"
     ]
    },
    {
     "name": "stderr",
     "output_type": "stream",
     "text": [
      "梯度提升测试: 100%|██████████| 9/9 [00:00<00:00, 34.29it/s]\n"
     ]
    },
    {
     "name": "stdout",
     "output_type": "stream",
     "text": [
      "测试集 ACC: 0.9112, PRE: 0.9182, REC: 0.9609, F1: 0.9391, MCC: 0.7786\n",
      "测试集 SN: 0.9609, SP: 0.7885, AUC: 0.9499, AUPRC: 0.9751\n",
      "\n",
      "============================================================\n",
      "========== Fold 9/10 ==========\n",
      "============================================================\n",
      "训练集样本数: 4135, 验证集样本数: 459\n",
      "\n",
      "--- 逻辑回归 Fold 9 ---\n"
     ]
    },
    {
     "name": "stderr",
     "output_type": "stream",
     "text": [
      "逻辑回归训练 Epoch 1: 100%|██████████| 33/33 [00:00<00:00, 38.59it/s]\n",
      "逻辑回归训练 Epoch 2: 100%|██████████| 33/33 [00:00<00:00, 39.38it/s]\n",
      "逻辑回归训练 Epoch 3: 100%|██████████| 33/33 [00:00<00:00, 45.73it/s]\n",
      "逻辑回归训练 Epoch 4: 100%|██████████| 33/33 [00:00<00:00, 37.95it/s]\n",
      "逻辑回归训练 Epoch 5: 100%|██████████| 33/33 [00:00<00:00, 35.80it/s]\n",
      "逻辑回归训练 Epoch 6: 100%|██████████| 33/33 [00:00<00:00, 40.78it/s]\n",
      "逻辑回归训练 Epoch 7: 100%|██████████| 33/33 [00:00<00:00, 42.94it/s]\n",
      "逻辑回归训练 Epoch 8: 100%|██████████| 33/33 [00:00<00:00, 45.22it/s]\n",
      "逻辑回归训练 Epoch 9: 100%|██████████| 33/33 [00:00<00:00, 47.20it/s]\n",
      "逻辑回归训练 Epoch 10: 100%|██████████| 33/33 [00:00<00:00, 38.22it/s]\n",
      "逻辑回归训练 Epoch 11: 100%|██████████| 33/33 [00:00<00:00, 51.38it/s]\n",
      "逻辑回归训练 Epoch 12: 100%|██████████| 33/33 [00:00<00:00, 56.26it/s]\n",
      "逻辑回归训练 Epoch 13: 100%|██████████| 33/33 [00:00<00:00, 38.68it/s]\n",
      "逻辑回归训练 Epoch 14: 100%|██████████| 33/33 [00:00<00:00, 38.45it/s]\n",
      "逻辑回归训练 Epoch 15: 100%|██████████| 33/33 [00:00<00:00, 40.01it/s]\n",
      "逻辑回归训练 Epoch 16: 100%|██████████| 33/33 [00:00<00:00, 33.44it/s]\n",
      "逻辑回归训练 Epoch 17: 100%|██████████| 33/33 [00:01<00:00, 30.68it/s]\n",
      "逻辑回归训练 Epoch 18: 100%|██████████| 33/33 [00:00<00:00, 46.00it/s]\n",
      "逻辑回归训练 Epoch 19: 100%|██████████| 33/33 [00:00<00:00, 53.58it/s]\n",
      "逻辑回归训练 Epoch 20: 100%|██████████| 33/33 [00:00<00:00, 47.11it/s]\n",
      "逻辑回归验证: 100%|██████████| 4/4 [00:00<00:00, 17.99it/s]\n"
     ]
    },
    {
     "name": "stdout",
     "output_type": "stream",
     "text": [
      "验证集 ACC: 0.8824, PRE: 0.8867, REC: 0.9572, F1: 0.9206, MCC: 0.7026\n",
      "验证集 SN: 0.9572, SP: 0.6970, AUC: 0.9317, AUPRC: 0.9640\n"
     ]
    },
    {
     "name": "stderr",
     "output_type": "stream",
     "text": [
      "逻辑回归测试: 100%|██████████| 9/9 [00:00<00:00, 23.79it/s]\n"
     ]
    },
    {
     "name": "stdout",
     "output_type": "stream",
     "text": [
      "测试集 ACC: 0.8816, PRE: 0.8875, REC: 0.9548, F1: 0.9199, MCC: 0.7012\n",
      "测试集 SN: 0.9548, SP: 0.7009, AUC: 0.9294, AUPRC: 0.9638\n",
      "\n",
      "--- SVM Fold 9 ---\n"
     ]
    },
    {
     "name": "stderr",
     "output_type": "stream",
     "text": [
      "SVM训练 Epoch 1: 100%|██████████| 33/33 [00:00<00:00, 41.25it/s]\n",
      "SVM训练 Epoch 2: 100%|██████████| 33/33 [00:00<00:00, 42.59it/s]\n",
      "SVM训练 Epoch 3: 100%|██████████| 33/33 [00:00<00:00, 40.00it/s]\n",
      "SVM训练 Epoch 4: 100%|██████████| 33/33 [00:00<00:00, 37.15it/s]\n",
      "SVM训练 Epoch 5: 100%|██████████| 33/33 [00:00<00:00, 43.60it/s]\n",
      "SVM训练 Epoch 6: 100%|██████████| 33/33 [00:00<00:00, 42.50it/s]\n",
      "SVM训练 Epoch 7: 100%|██████████| 33/33 [00:00<00:00, 48.54it/s]\n",
      "SVM训练 Epoch 8: 100%|██████████| 33/33 [00:00<00:00, 38.40it/s]\n",
      "SVM训练 Epoch 9: 100%|██████████| 33/33 [00:00<00:00, 47.12it/s]\n",
      "SVM训练 Epoch 10: 100%|██████████| 33/33 [00:00<00:00, 50.81it/s]\n",
      "SVM训练 Epoch 11: 100%|██████████| 33/33 [00:00<00:00, 36.37it/s]\n",
      "SVM训练 Epoch 12: 100%|██████████| 33/33 [00:00<00:00, 45.71it/s]\n",
      "SVM训练 Epoch 13: 100%|██████████| 33/33 [00:00<00:00, 38.88it/s]\n",
      "SVM训练 Epoch 14: 100%|██████████| 33/33 [00:00<00:00, 37.55it/s]\n",
      "SVM训练 Epoch 15: 100%|██████████| 33/33 [00:01<00:00, 30.64it/s]\n",
      "SVM训练 Epoch 16: 100%|██████████| 33/33 [00:00<00:00, 35.90it/s]\n",
      "SVM训练 Epoch 17: 100%|██████████| 33/33 [00:00<00:00, 38.02it/s]\n",
      "SVM训练 Epoch 18: 100%|██████████| 33/33 [00:00<00:00, 40.78it/s]\n",
      "SVM训练 Epoch 19: 100%|██████████| 33/33 [00:00<00:00, 39.13it/s]\n",
      "SVM训练 Epoch 20: 100%|██████████| 33/33 [00:00<00:00, 40.42it/s]\n",
      "SVM训练 Epoch 21: 100%|██████████| 33/33 [00:00<00:00, 40.83it/s]\n",
      "SVM训练 Epoch 22: 100%|██████████| 33/33 [00:00<00:00, 35.95it/s]\n",
      "SVM训练 Epoch 23: 100%|██████████| 33/33 [00:00<00:00, 34.74it/s]\n",
      "SVM训练 Epoch 24: 100%|██████████| 33/33 [00:00<00:00, 40.53it/s]\n",
      "SVM训练 Epoch 25: 100%|██████████| 33/33 [00:00<00:00, 35.15it/s]\n",
      "SVM训练 Epoch 26: 100%|██████████| 33/33 [00:00<00:00, 49.83it/s]\n",
      "SVM训练 Epoch 27: 100%|██████████| 33/33 [00:00<00:00, 44.88it/s]\n",
      "SVM训练 Epoch 28: 100%|██████████| 33/33 [00:00<00:00, 41.20it/s]\n",
      "SVM训练 Epoch 29: 100%|██████████| 33/33 [00:00<00:00, 38.16it/s]\n",
      "SVM训练 Epoch 30: 100%|██████████| 33/33 [00:00<00:00, 36.84it/s]\n",
      "SVM验证: 100%|██████████| 4/4 [00:00<00:00, 11.91it/s]\n"
     ]
    },
    {
     "name": "stdout",
     "output_type": "stream",
     "text": [
      "验证集 ACC: 0.9129, PRE: 0.9585, REC: 0.9174, F1: 0.9375, MCC: 0.7959\n",
      "验证集 SN: 0.9174, SP: 0.9015, AUC: 0.9636, AUPRC: 0.9811\n"
     ]
    },
    {
     "name": "stderr",
     "output_type": "stream",
     "text": [
      "SVM测试: 100%|██████████| 9/9 [00:00<00:00, 26.82it/s]\n"
     ]
    },
    {
     "name": "stdout",
     "output_type": "stream",
     "text": [
      "测试集 ACC: 0.9077, PRE: 0.9472, REC: 0.9218, F1: 0.9343, MCC: 0.7803\n",
      "测试集 SN: 0.9218, SP: 0.8731, AUC: 0.9632, AUPRC: 0.9840\n",
      "\n",
      "--- 随机森林 Fold 9 ---\n"
     ]
    },
    {
     "name": "stderr",
     "output_type": "stream",
     "text": [
      "随机森林训练 Epoch 1: 100%|██████████| 33/33 [00:00<00:00, 35.01it/s]\n",
      "随机森林训练 Epoch 2: 100%|██████████| 33/33 [00:01<00:00, 28.25it/s]\n",
      "随机森林训练 Epoch 3: 100%|██████████| 33/33 [00:00<00:00, 61.07it/s]\n",
      "随机森林训练 Epoch 4: 100%|██████████| 33/33 [00:00<00:00, 42.90it/s]\n",
      "随机森林训练 Epoch 5: 100%|██████████| 33/33 [00:00<00:00, 34.86it/s]\n",
      "随机森林训练 Epoch 6: 100%|██████████| 33/33 [00:00<00:00, 33.22it/s]\n",
      "随机森林训练 Epoch 7: 100%|██████████| 33/33 [00:00<00:00, 41.69it/s]\n",
      "随机森林训练 Epoch 8: 100%|██████████| 33/33 [00:00<00:00, 35.60it/s]\n",
      "随机森林训练 Epoch 9: 100%|██████████| 33/33 [00:00<00:00, 37.38it/s]\n",
      "随机森林训练 Epoch 10: 100%|██████████| 33/33 [00:00<00:00, 41.42it/s]\n",
      "随机森林训练 Epoch 11: 100%|██████████| 33/33 [00:00<00:00, 45.24it/s]\n",
      "随机森林训练 Epoch 12: 100%|██████████| 33/33 [00:00<00:00, 41.00it/s]\n",
      "随机森林训练 Epoch 13: 100%|██████████| 33/33 [00:00<00:00, 42.74it/s]\n",
      "随机森林训练 Epoch 14: 100%|██████████| 33/33 [00:00<00:00, 53.77it/s]\n",
      "随机森林训练 Epoch 15: 100%|██████████| 33/33 [00:00<00:00, 38.46it/s]\n",
      "随机森林训练 Epoch 16: 100%|██████████| 33/33 [00:01<00:00, 32.66it/s]\n",
      "随机森林训练 Epoch 17: 100%|██████████| 33/33 [00:00<00:00, 41.18it/s]\n",
      "随机森林训练 Epoch 18: 100%|██████████| 33/33 [00:00<00:00, 45.85it/s]\n",
      "随机森林训练 Epoch 19: 100%|██████████| 33/33 [00:00<00:00, 38.97it/s]\n",
      "随机森林训练 Epoch 20: 100%|██████████| 33/33 [00:00<00:00, 45.50it/s]\n",
      "随机森林训练 Epoch 21: 100%|██████████| 33/33 [00:00<00:00, 34.48it/s]\n",
      "随机森林训练 Epoch 22: 100%|██████████| 33/33 [00:00<00:00, 57.63it/s]\n",
      "随机森林训练 Epoch 23: 100%|██████████| 33/33 [00:00<00:00, 45.30it/s]\n",
      "随机森林训练 Epoch 24: 100%|██████████| 33/33 [00:00<00:00, 44.31it/s]\n",
      "随机森林训练 Epoch 25: 100%|██████████| 33/33 [00:01<00:00, 32.88it/s]\n",
      "随机森林验证: 100%|██████████| 4/4 [00:00<00:00, 20.82it/s]\n"
     ]
    },
    {
     "name": "stdout",
     "output_type": "stream",
     "text": [
      "验证集 ACC: 0.9107, PRE: 0.9643, REC: 0.9083, F1: 0.9354, MCC: 0.7947\n",
      "验证集 SN: 0.9083, SP: 0.9167, AUC: 0.9655, AUPRC: 0.9843\n"
     ]
    },
    {
     "name": "stderr",
     "output_type": "stream",
     "text": [
      "随机森林测试: 100%|██████████| 9/9 [00:00<00:00, 30.59it/s]\n"
     ]
    },
    {
     "name": "stdout",
     "output_type": "stream",
     "text": [
      "测试集 ACC: 0.9217, PRE: 0.9573, REC: 0.9315, F1: 0.9442, MCC: 0.8136\n",
      "测试集 SN: 0.9315, SP: 0.8973, AUC: 0.9669, AUPRC: 0.9860\n",
      "\n",
      "--- 梯度提升 Fold 9 ---\n"
     ]
    },
    {
     "name": "stderr",
     "output_type": "stream",
     "text": [
      "梯度提升训练 Epoch 1: 100%|██████████| 33/33 [00:00<00:00, 50.33it/s]\n",
      "梯度提升训练 Epoch 2: 100%|██████████| 33/33 [00:00<00:00, 42.41it/s]\n",
      "梯度提升训练 Epoch 3: 100%|██████████| 33/33 [00:00<00:00, 33.10it/s]\n",
      "梯度提升训练 Epoch 4: 100%|██████████| 33/33 [00:01<00:00, 30.53it/s]\n",
      "梯度提升训练 Epoch 5: 100%|██████████| 33/33 [00:00<00:00, 39.17it/s]\n",
      "梯度提升训练 Epoch 6: 100%|██████████| 33/33 [00:00<00:00, 36.55it/s]\n",
      "梯度提升训练 Epoch 7: 100%|██████████| 33/33 [00:00<00:00, 41.05it/s]\n",
      "梯度提升训练 Epoch 8: 100%|██████████| 33/33 [00:00<00:00, 43.96it/s]\n",
      "梯度提升训练 Epoch 9: 100%|██████████| 33/33 [00:00<00:00, 48.64it/s]\n",
      "梯度提升训练 Epoch 10: 100%|██████████| 33/33 [00:00<00:00, 35.62it/s]\n",
      "梯度提升训练 Epoch 11: 100%|██████████| 33/33 [00:00<00:00, 38.65it/s]\n",
      "梯度提升训练 Epoch 12: 100%|██████████| 33/33 [00:00<00:00, 52.66it/s]\n",
      "梯度提升训练 Epoch 13: 100%|██████████| 33/33 [00:01<00:00, 30.61it/s]\n",
      "梯度提升训练 Epoch 14: 100%|██████████| 33/33 [00:00<00:00, 37.08it/s]\n",
      "梯度提升训练 Epoch 15: 100%|██████████| 33/33 [00:00<00:00, 41.91it/s]\n",
      "梯度提升训练 Epoch 16: 100%|██████████| 33/33 [00:00<00:00, 37.59it/s]\n",
      "梯度提升训练 Epoch 17: 100%|██████████| 33/33 [00:00<00:00, 45.36it/s]\n",
      "梯度提升训练 Epoch 18: 100%|██████████| 33/33 [00:00<00:00, 45.57it/s]\n",
      "梯度提升训练 Epoch 19: 100%|██████████| 33/33 [00:00<00:00, 56.98it/s]\n",
      "梯度提升训练 Epoch 20: 100%|██████████| 33/33 [00:00<00:00, 41.67it/s]\n",
      "梯度提升训练 Epoch 21: 100%|██████████| 33/33 [00:00<00:00, 38.35it/s]\n",
      "梯度提升训练 Epoch 22: 100%|██████████| 33/33 [00:00<00:00, 44.40it/s]\n",
      "梯度提升训练 Epoch 23: 100%|██████████| 33/33 [00:00<00:00, 34.51it/s]\n",
      "梯度提升训练 Epoch 24: 100%|██████████| 33/33 [00:00<00:00, 35.25it/s]\n",
      "梯度提升训练 Epoch 25: 100%|██████████| 33/33 [00:01<00:00, 28.12it/s]\n",
      "梯度提升训练 Epoch 26: 100%|██████████| 33/33 [00:01<00:00, 30.66it/s]\n",
      "梯度提升训练 Epoch 27: 100%|██████████| 33/33 [00:01<00:00, 30.30it/s]\n",
      "梯度提升训练 Epoch 28: 100%|██████████| 33/33 [00:00<00:00, 41.69it/s]\n",
      "梯度提升训练 Epoch 29: 100%|██████████| 33/33 [00:00<00:00, 36.94it/s]\n",
      "梯度提升训练 Epoch 30: 100%|██████████| 33/33 [00:00<00:00, 50.48it/s]\n",
      "梯度提升训练 Epoch 31: 100%|██████████| 33/33 [00:00<00:00, 46.27it/s]\n",
      "梯度提升训练 Epoch 32: 100%|██████████| 33/33 [00:00<00:00, 43.59it/s]\n",
      "梯度提升训练 Epoch 33: 100%|██████████| 33/33 [00:00<00:00, 42.68it/s]\n",
      "梯度提升训练 Epoch 34: 100%|██████████| 33/33 [00:00<00:00, 53.67it/s]\n",
      "梯度提升训练 Epoch 35: 100%|██████████| 33/33 [00:00<00:00, 43.61it/s]\n",
      "梯度提升验证: 100%|██████████| 4/4 [00:00<00:00, 15.26it/s]\n"
     ]
    },
    {
     "name": "stdout",
     "output_type": "stream",
     "text": [
      "验证集 ACC: 0.9325, PRE: 0.9512, REC: 0.9541, F1: 0.9527, MCC: 0.8348\n",
      "验证集 SN: 0.9541, SP: 0.8788, AUC: 0.9614, AUPRC: 0.9809\n"
     ]
    },
    {
     "name": "stderr",
     "output_type": "stream",
     "text": [
      "梯度提升测试: 100%|██████████| 9/9 [00:00<00:00, 33.89it/s]\n"
     ]
    },
    {
     "name": "stdout",
     "output_type": "stream",
     "text": [
      "测试集 ACC: 0.9182, PRE: 0.9341, REC: 0.9523, F1: 0.9431, MCC: 0.7981\n",
      "测试集 SN: 0.9523, SP: 0.8338, AUC: 0.9601, AUPRC: 0.9813\n",
      "\n",
      "============================================================\n",
      "========== Fold 10/10 ==========\n",
      "============================================================\n",
      "训练集样本数: 4135, 验证集样本数: 459\n",
      "\n",
      "--- 逻辑回归 Fold 10 ---\n"
     ]
    },
    {
     "name": "stderr",
     "output_type": "stream",
     "text": [
      "逻辑回归训练 Epoch 1: 100%|██████████| 33/33 [00:00<00:00, 50.01it/s]\n",
      "逻辑回归训练 Epoch 2: 100%|██████████| 33/33 [00:00<00:00, 44.67it/s]\n",
      "逻辑回归训练 Epoch 3: 100%|██████████| 33/33 [00:00<00:00, 47.77it/s]\n",
      "逻辑回归训练 Epoch 4: 100%|██████████| 33/33 [00:00<00:00, 50.62it/s]\n",
      "逻辑回归训练 Epoch 5: 100%|██████████| 33/33 [00:00<00:00, 45.44it/s]\n",
      "逻辑回归训练 Epoch 6: 100%|██████████| 33/33 [00:00<00:00, 45.17it/s]\n",
      "逻辑回归训练 Epoch 7: 100%|██████████| 33/33 [00:00<00:00, 43.38it/s]\n",
      "逻辑回归训练 Epoch 8: 100%|██████████| 33/33 [00:00<00:00, 43.83it/s]\n",
      "逻辑回归训练 Epoch 9: 100%|██████████| 33/33 [00:00<00:00, 52.76it/s]\n",
      "逻辑回归训练 Epoch 10: 100%|██████████| 33/33 [00:00<00:00, 46.78it/s]\n",
      "逻辑回归训练 Epoch 11: 100%|██████████| 33/33 [00:00<00:00, 50.08it/s]\n",
      "逻辑回归训练 Epoch 12: 100%|██████████| 33/33 [00:00<00:00, 53.88it/s]\n",
      "逻辑回归训练 Epoch 13: 100%|██████████| 33/33 [00:00<00:00, 50.56it/s]\n",
      "逻辑回归训练 Epoch 14: 100%|██████████| 33/33 [00:00<00:00, 43.26it/s]\n",
      "逻辑回归训练 Epoch 15: 100%|██████████| 33/33 [00:00<00:00, 47.15it/s]\n",
      "逻辑回归训练 Epoch 16: 100%|██████████| 33/33 [00:00<00:00, 43.68it/s]\n",
      "逻辑回归训练 Epoch 17: 100%|██████████| 33/33 [00:00<00:00, 43.17it/s]\n",
      "逻辑回归训练 Epoch 18: 100%|██████████| 33/33 [00:00<00:00, 44.98it/s]\n",
      "逻辑回归训练 Epoch 19: 100%|██████████| 33/33 [00:00<00:00, 44.68it/s]\n",
      "逻辑回归训练 Epoch 20: 100%|██████████| 33/33 [00:00<00:00, 41.74it/s]\n",
      "逻辑回归验证: 100%|██████████| 4/4 [00:00<00:00, 19.05it/s]\n"
     ]
    },
    {
     "name": "stdout",
     "output_type": "stream",
     "text": [
      "验证集 ACC: 0.8715, PRE: 0.8743, REC: 0.9572, F1: 0.9139, MCC: 0.6733\n",
      "验证集 SN: 0.9572, SP: 0.6591, AUC: 0.9294, AUPRC: 0.9620\n"
     ]
    },
    {
     "name": "stderr",
     "output_type": "stream",
     "text": [
      "逻辑回归测试: 100%|██████████| 9/9 [00:00<00:00, 28.39it/s]\n"
     ]
    },
    {
     "name": "stdout",
     "output_type": "stream",
     "text": [
      "测试集 ACC: 0.8825, PRE: 0.8876, REC: 0.9560, F1: 0.9205, MCC: 0.7034\n",
      "测试集 SN: 0.9560, SP: 0.7009, AUC: 0.9281, AUPRC: 0.9630\n",
      "\n",
      "--- SVM Fold 10 ---\n"
     ]
    },
    {
     "name": "stderr",
     "output_type": "stream",
     "text": [
      "SVM训练 Epoch 1: 100%|██████████| 33/33 [00:00<00:00, 45.00it/s]\n",
      "SVM训练 Epoch 2: 100%|██████████| 33/33 [00:00<00:00, 46.03it/s]\n",
      "SVM训练 Epoch 3: 100%|██████████| 33/33 [00:00<00:00, 47.51it/s]\n",
      "SVM训练 Epoch 4: 100%|██████████| 33/33 [00:00<00:00, 47.36it/s]\n",
      "SVM训练 Epoch 5: 100%|██████████| 33/33 [00:00<00:00, 51.42it/s]\n",
      "SVM训练 Epoch 6: 100%|██████████| 33/33 [00:00<00:00, 47.95it/s]\n",
      "SVM训练 Epoch 7: 100%|██████████| 33/33 [00:00<00:00, 47.87it/s]\n",
      "SVM训练 Epoch 8: 100%|██████████| 33/33 [00:00<00:00, 41.12it/s]\n",
      "SVM训练 Epoch 9: 100%|██████████| 33/33 [00:00<00:00, 48.40it/s]\n",
      "SVM训练 Epoch 10: 100%|██████████| 33/33 [00:00<00:00, 43.12it/s]\n",
      "SVM训练 Epoch 11: 100%|██████████| 33/33 [00:00<00:00, 44.04it/s]\n",
      "SVM训练 Epoch 12: 100%|██████████| 33/33 [00:00<00:00, 51.07it/s]\n",
      "SVM训练 Epoch 13: 100%|██████████| 33/33 [00:00<00:00, 42.63it/s]\n",
      "SVM训练 Epoch 14: 100%|██████████| 33/33 [00:00<00:00, 49.07it/s]\n",
      "SVM训练 Epoch 15: 100%|██████████| 33/33 [00:00<00:00, 39.61it/s]\n",
      "SVM训练 Epoch 16: 100%|██████████| 33/33 [00:00<00:00, 47.49it/s]\n",
      "SVM训练 Epoch 17: 100%|██████████| 33/33 [00:00<00:00, 43.07it/s]\n",
      "SVM训练 Epoch 18: 100%|██████████| 33/33 [00:01<00:00, 31.95it/s]\n",
      "SVM训练 Epoch 19: 100%|██████████| 33/33 [00:00<00:00, 46.98it/s]\n",
      "SVM训练 Epoch 20: 100%|██████████| 33/33 [00:00<00:00, 43.98it/s]\n",
      "SVM训练 Epoch 21: 100%|██████████| 33/33 [00:00<00:00, 45.82it/s]\n",
      "SVM训练 Epoch 22: 100%|██████████| 33/33 [00:00<00:00, 47.21it/s]\n",
      "SVM训练 Epoch 23: 100%|██████████| 33/33 [00:00<00:00, 49.39it/s]\n",
      "SVM训练 Epoch 24: 100%|██████████| 33/33 [00:00<00:00, 49.68it/s]\n",
      "SVM训练 Epoch 25: 100%|██████████| 33/33 [00:00<00:00, 41.77it/s]\n",
      "SVM训练 Epoch 26: 100%|██████████| 33/33 [00:00<00:00, 46.29it/s]\n",
      "SVM训练 Epoch 27: 100%|██████████| 33/33 [00:00<00:00, 40.42it/s]\n",
      "SVM训练 Epoch 28: 100%|██████████| 33/33 [00:00<00:00, 48.16it/s]\n",
      "SVM训练 Epoch 29: 100%|██████████| 33/33 [00:00<00:00, 42.17it/s]\n",
      "SVM训练 Epoch 30: 100%|██████████| 33/33 [00:00<00:00, 47.59it/s]\n",
      "SVM验证: 100%|██████████| 4/4 [00:00<00:00, 16.71it/s]\n"
     ]
    },
    {
     "name": "stdout",
     "output_type": "stream",
     "text": [
      "验证集 ACC: 0.9085, PRE: 0.9331, REC: 0.9388, F1: 0.9360, MCC: 0.7757\n",
      "验证集 SN: 0.9388, SP: 0.8333, AUC: 0.9479, AUPRC: 0.9681\n"
     ]
    },
    {
     "name": "stderr",
     "output_type": "stream",
     "text": [
      "SVM测试: 100%|██████████| 9/9 [00:00<00:00, 30.05it/s]\n"
     ]
    },
    {
     "name": "stdout",
     "output_type": "stream",
     "text": [
      "测试集 ACC: 0.9138, PRE: 0.9337, REC: 0.9462, F1: 0.9399, MCC: 0.7881\n",
      "测试集 SN: 0.9462, SP: 0.8338, AUC: 0.9601, AUPRC: 0.9787\n",
      "\n",
      "--- 随机森林 Fold 10 ---\n"
     ]
    },
    {
     "name": "stderr",
     "output_type": "stream",
     "text": [
      "随机森林训练 Epoch 1: 100%|██████████| 33/33 [00:00<00:00, 43.92it/s]\n",
      "随机森林训练 Epoch 2: 100%|██████████| 33/33 [00:00<00:00, 48.03it/s]\n",
      "随机森林训练 Epoch 3: 100%|██████████| 33/33 [00:00<00:00, 48.05it/s]\n",
      "随机森林训练 Epoch 4: 100%|██████████| 33/33 [00:00<00:00, 43.43it/s]\n",
      "随机森林训练 Epoch 5: 100%|██████████| 33/33 [00:00<00:00, 47.33it/s]\n",
      "随机森林训练 Epoch 6: 100%|██████████| 33/33 [00:00<00:00, 47.69it/s]\n",
      "随机森林训练 Epoch 7: 100%|██████████| 33/33 [00:00<00:00, 45.12it/s]\n",
      "随机森林训练 Epoch 8: 100%|██████████| 33/33 [00:00<00:00, 43.46it/s]\n",
      "随机森林训练 Epoch 9: 100%|██████████| 33/33 [00:00<00:00, 47.67it/s]\n",
      "随机森林训练 Epoch 10: 100%|██████████| 33/33 [00:00<00:00, 46.49it/s]\n",
      "随机森林训练 Epoch 11: 100%|██████████| 33/33 [00:00<00:00, 42.28it/s]\n",
      "随机森林训练 Epoch 12: 100%|██████████| 33/33 [00:00<00:00, 44.94it/s]\n",
      "随机森林训练 Epoch 13: 100%|██████████| 33/33 [00:00<00:00, 57.69it/s]\n",
      "随机森林训练 Epoch 14: 100%|██████████| 33/33 [00:00<00:00, 45.12it/s]\n",
      "随机森林训练 Epoch 15: 100%|██████████| 33/33 [00:00<00:00, 42.63it/s]\n",
      "随机森林训练 Epoch 16: 100%|██████████| 33/33 [00:00<00:00, 41.60it/s]\n",
      "随机森林训练 Epoch 17: 100%|██████████| 33/33 [00:00<00:00, 48.44it/s]\n",
      "随机森林训练 Epoch 18: 100%|██████████| 33/33 [00:00<00:00, 45.34it/s]\n",
      "随机森林训练 Epoch 19: 100%|██████████| 33/33 [00:00<00:00, 48.71it/s]\n",
      "随机森林训练 Epoch 20: 100%|██████████| 33/33 [00:00<00:00, 47.02it/s]\n",
      "随机森林训练 Epoch 21: 100%|██████████| 33/33 [00:00<00:00, 46.54it/s]\n",
      "随机森林训练 Epoch 22: 100%|██████████| 33/33 [00:00<00:00, 49.14it/s]\n",
      "随机森林训练 Epoch 23: 100%|██████████| 33/33 [00:00<00:00, 49.76it/s]\n",
      "随机森林训练 Epoch 24: 100%|██████████| 33/33 [00:00<00:00, 43.72it/s]\n",
      "随机森林训练 Epoch 25: 100%|██████████| 33/33 [00:00<00:00, 44.59it/s]\n",
      "随机森林验证: 100%|██████████| 4/4 [00:00<00:00, 23.17it/s]\n"
     ]
    },
    {
     "name": "stdout",
     "output_type": "stream",
     "text": [
      "验证集 ACC: 0.9107, PRE: 0.9387, REC: 0.9358, F1: 0.9372, MCC: 0.7825\n",
      "验证集 SN: 0.9358, SP: 0.8485, AUC: 0.9537, AUPRC: 0.9705\n"
     ]
    },
    {
     "name": "stderr",
     "output_type": "stream",
     "text": [
      "随机森林测试: 100%|██████████| 9/9 [00:00<00:00, 21.64it/s]\n"
     ]
    },
    {
     "name": "stdout",
     "output_type": "stream",
     "text": [
      "测试集 ACC: 0.9164, PRE: 0.9402, REC: 0.9425, F1: 0.9414, MCC: 0.7959\n",
      "测试集 SN: 0.9425, SP: 0.8520, AUC: 0.9644, AUPRC: 0.9816\n",
      "\n",
      "--- 梯度提升 Fold 10 ---\n"
     ]
    },
    {
     "name": "stderr",
     "output_type": "stream",
     "text": [
      "梯度提升训练 Epoch 1: 100%|██████████| 33/33 [00:00<00:00, 44.08it/s]\n",
      "梯度提升训练 Epoch 2: 100%|██████████| 33/33 [00:00<00:00, 41.50it/s]\n",
      "梯度提升训练 Epoch 3: 100%|██████████| 33/33 [00:00<00:00, 43.13it/s]\n",
      "梯度提升训练 Epoch 4: 100%|██████████| 33/33 [00:00<00:00, 48.68it/s]\n",
      "梯度提升训练 Epoch 5: 100%|██████████| 33/33 [00:00<00:00, 39.02it/s]\n",
      "梯度提升训练 Epoch 6: 100%|██████████| 33/33 [00:00<00:00, 48.03it/s]\n",
      "梯度提升训练 Epoch 7: 100%|██████████| 33/33 [00:00<00:00, 45.75it/s]\n",
      "梯度提升训练 Epoch 8: 100%|██████████| 33/33 [00:00<00:00, 40.66it/s]\n",
      "梯度提升训练 Epoch 9: 100%|██████████| 33/33 [00:00<00:00, 49.25it/s]\n",
      "梯度提升训练 Epoch 10: 100%|██████████| 33/33 [00:00<00:00, 51.20it/s]\n",
      "梯度提升训练 Epoch 11: 100%|██████████| 33/33 [00:00<00:00, 45.62it/s]\n",
      "梯度提升训练 Epoch 12: 100%|██████████| 33/33 [00:00<00:00, 39.90it/s]\n",
      "梯度提升训练 Epoch 13: 100%|██████████| 33/33 [00:00<00:00, 46.30it/s]\n",
      "梯度提升训练 Epoch 14: 100%|██████████| 33/33 [00:00<00:00, 50.27it/s]\n",
      "梯度提升训练 Epoch 15: 100%|██████████| 33/33 [00:00<00:00, 43.87it/s]\n",
      "梯度提升训练 Epoch 16: 100%|██████████| 33/33 [00:00<00:00, 51.44it/s]\n",
      "梯度提升训练 Epoch 17: 100%|██████████| 33/33 [00:00<00:00, 41.47it/s]\n",
      "梯度提升训练 Epoch 18: 100%|██████████| 33/33 [00:00<00:00, 58.03it/s]\n",
      "梯度提升训练 Epoch 19: 100%|██████████| 33/33 [00:00<00:00, 40.29it/s]\n",
      "梯度提升训练 Epoch 20: 100%|██████████| 33/33 [00:00<00:00, 48.22it/s]\n",
      "梯度提升训练 Epoch 21: 100%|██████████| 33/33 [00:00<00:00, 40.62it/s]\n",
      "梯度提升训练 Epoch 22: 100%|██████████| 33/33 [00:00<00:00, 47.36it/s]\n",
      "梯度提升训练 Epoch 23: 100%|██████████| 33/33 [00:00<00:00, 39.95it/s]\n",
      "梯度提升训练 Epoch 24: 100%|██████████| 33/33 [00:00<00:00, 48.86it/s]\n",
      "梯度提升训练 Epoch 25: 100%|██████████| 33/33 [00:00<00:00, 43.59it/s]\n",
      "梯度提升训练 Epoch 26: 100%|██████████| 33/33 [00:00<00:00, 47.70it/s]\n",
      "梯度提升训练 Epoch 27: 100%|██████████| 33/33 [00:00<00:00, 46.77it/s]\n",
      "梯度提升训练 Epoch 28: 100%|██████████| 33/33 [00:00<00:00, 46.03it/s]\n",
      "梯度提升训练 Epoch 29: 100%|██████████| 33/33 [00:00<00:00, 46.03it/s]\n",
      "梯度提升训练 Epoch 30: 100%|██████████| 33/33 [00:00<00:00, 39.30it/s]\n",
      "梯度提升训练 Epoch 31: 100%|██████████| 33/33 [00:00<00:00, 46.87it/s]\n",
      "梯度提升训练 Epoch 32: 100%|██████████| 33/33 [00:00<00:00, 40.98it/s]\n",
      "梯度提升训练 Epoch 33: 100%|██████████| 33/33 [00:00<00:00, 48.26it/s]\n",
      "梯度提升训练 Epoch 34: 100%|██████████| 33/33 [00:00<00:00, 40.61it/s]\n",
      "梯度提升训练 Epoch 35: 100%|██████████| 33/33 [00:00<00:00, 47.66it/s]\n",
      "梯度提升验证: 100%|██████████| 4/4 [00:00<00:00, 14.49it/s]\n"
     ]
    },
    {
     "name": "stdout",
     "output_type": "stream",
     "text": [
      "验证集 ACC: 0.8954, PRE: 0.9515, REC: 0.8991, F1: 0.9245, MCC: 0.7580\n",
      "验证集 SN: 0.8991, SP: 0.8864, AUC: 0.9433, AUPRC: 0.9627\n"
     ]
    },
    {
     "name": "stderr",
     "output_type": "stream",
     "text": [
      "梯度提升测试: 100%|██████████| 9/9 [00:00<00:00, 25.80it/s]"
     ]
    },
    {
     "name": "stdout",
     "output_type": "stream",
     "text": [
      "测试集 ACC: 0.8982, PRE: 0.9488, REC: 0.9059, F1: 0.9268, MCC: 0.7619\n",
      "测试集 SN: 0.9059, SP: 0.8792, AUC: 0.9553, AUPRC: 0.9763\n"
     ]
    },
    {
     "name": "stderr",
     "output_type": "stream",
     "text": [
      "\n"
     ]
    }
   ],
   "execution_count": 15
  },
  {
   "metadata": {
    "ExecuteTime": {
     "end_time": "2025-07-20T10:02:50.297285Z",
     "start_time": "2025-07-20T10:02:50.287234Z"
    }
   },
   "cell_type": "code",
   "source": [
    "# 汇总结果\n",
    "print(f\"\\n{'='*80}\")\n",
    "print(\"========== 十折交叉验证结果汇总 ==========\")\n",
    "print(f\"{'='*80}\")\n",
    "\n",
    "for model_name in models_results.keys():\n",
    "    print(f\"\\n--- {model_name} ---\")\n",
    "    \n",
    "    # 验证集结果 - 显示所有9个指标\n",
    "    cv_metrics = models_results[model_name]['cv']\n",
    "    cv_acc = [m['ACC'] for m in cv_metrics]\n",
    "    cv_pre = [m['PRE'] for m in cv_metrics]\n",
    "    cv_rec = [m['REC'] for m in cv_metrics]\n",
    "    cv_f1 = [m['F1'] for m in cv_metrics]\n",
    "    cv_mcc = [m['MCC'] for m in cv_metrics]\n",
    "    cv_sn = [m['SN'] for m in cv_metrics]\n",
    "    cv_sp = [m['SP'] for m in cv_metrics]\n",
    "    cv_auc = [m['AUC'] for m in cv_metrics]\n",
    "    cv_auprc = [m['AUPRC'] for m in cv_metrics]\n",
    "    \n",
    "    print(f\"验证集 - ACC: {np.mean(cv_acc):.4f} ± {np.std(cv_acc):.4f}\")\n",
    "    print(f\"验证集 - PRE: {np.mean(cv_pre):.4f} ± {np.std(cv_pre):.4f}\")\n",
    "    print(f\"验证集 - REC: {np.mean(cv_rec):.4f} ± {np.std(cv_rec):.4f}\")\n",
    "    print(f\"验证集 - F1:  {np.mean(cv_f1):.4f} ± {np.std(cv_f1):.4f}\")\n",
    "    print(f\"验证集 - MCC: {np.mean(cv_mcc):.4f} ± {np.std(cv_mcc):.4f}\")\n",
    "    print(f\"验证集 - SN:  {np.mean(cv_sn):.4f} ± {np.std(cv_sn):.4f}\")\n",
    "    print(f\"验证集 - SP:  {np.mean(cv_sp):.4f} ± {np.std(cv_sp):.4f}\")\n",
    "    print(f\"验证集 - AUC: {np.mean(cv_auc):.4f} ± {np.std(cv_auc):.4f}\")\n",
    "    print(f\"验证集 - AUPRC: {np.mean(cv_auprc):.4f} ± {np.std(cv_auprc):.4f}\")\n",
    "    \n",
    "    # 最佳测试结果 - 显示所有9个指标\n",
    "    best_metrics = best_test_metrics[model_name]\n",
    "    print(f\"最佳测试集 (Fold {best_test_fold[model_name]}) - ACC: {best_metrics['ACC']:.4f}\")\n",
    "    print(f\"最佳测试集 - PRE: {best_metrics['PRE']:.4f}, REC: {best_metrics['REC']:.4f}\")\n",
    "    print(f\"最佳测试集 - F1: {best_metrics['F1']:.4f}, MCC: {best_metrics['MCC']:.4f}\")\n",
    "    print(f\"最佳测试集 - SN: {best_metrics['SN']:.4f}, SP: {best_metrics['SP']:.4f}\")\n",
    "    print(f\"最佳测试集 - AUC: {best_metrics['AUC']:.4f}, AUPRC: {best_metrics['AUPRC']:.4f}\")"
   ],
   "id": "a9abee4d6a974057",
   "outputs": [
    {
     "name": "stdout",
     "output_type": "stream",
     "text": [
      "\n",
      "================================================================================\n",
      "========== 十折交叉验证结果汇总 ==========\n",
      "================================================================================\n",
      "\n",
      "--- LogisticRegression ---\n",
      "验证集 - ACC: 0.8790 ± 0.0060\n",
      "验证集 - PRE: 0.8824 ± 0.0074\n",
      "验证集 - REC: 0.9578 ± 0.0094\n",
      "验证集 - F1:  0.9185 ± 0.0040\n",
      "验证集 - MCC: 0.6942 ± 0.0158\n",
      "验证集 - SN:  0.9578 ± 0.0094\n",
      "验证集 - SP:  0.6841 ± 0.0245\n",
      "验证集 - AUC: 0.9244 ± 0.0124\n",
      "验证集 - AUPRC: 0.9561 ± 0.0133\n",
      "最佳测试集 (Fold 4) - ACC: 0.8851\n",
      "最佳测试集 - PRE: 0.8898, REC: 0.9572\n",
      "最佳测试集 - F1: 0.9223, MCC: 0.7103\n",
      "最佳测试集 - SN: 0.9572, SP: 0.7069\n",
      "最佳测试集 - AUC: 0.9292, AUPRC: 0.9637\n",
      "\n",
      "--- SVM ---\n",
      "验证集 - ACC: 0.9038 ± 0.0148\n",
      "验证集 - PRE: 0.9277 ± 0.0178\n",
      "验证集 - REC: 0.9386 ± 0.0182\n",
      "验证集 - F1:  0.9329 ± 0.0103\n",
      "验证集 - MCC: 0.7645 ± 0.0371\n",
      "验证集 - SN:  0.9386 ± 0.0182\n",
      "验证集 - SP:  0.8179 ± 0.0485\n",
      "验证集 - AUC: 0.9500 ± 0.0119\n",
      "验证集 - AUPRC: 0.9743 ± 0.0066\n",
      "最佳测试集 (Fold 1) - ACC: 0.9199\n",
      "最佳测试集 - PRE: 0.9504, REC: 0.9364\n",
      "最佳测试集 - F1: 0.9433, MCC: 0.8071\n",
      "最佳测试集 - SN: 0.9364, SP: 0.8792\n",
      "最佳测试集 - AUC: 0.9598, AUPRC: 0.9822\n",
      "\n",
      "--- RandomForest ---\n",
      "验证集 - ACC: 0.9103 ± 0.0097\n",
      "验证集 - PRE: 0.9346 ± 0.0169\n",
      "验证集 - REC: 0.9404 ± 0.0144\n",
      "验证集 - F1:  0.9373 ± 0.0065\n",
      "验证集 - MCC: 0.7811 ± 0.0259\n",
      "验证集 - SN:  0.9404 ± 0.0144\n",
      "验证集 - SP:  0.8360 ± 0.0458\n",
      "验证集 - AUC: 0.9576 ± 0.0095\n",
      "验证集 - AUPRC: 0.9790 ± 0.0060\n",
      "最佳测试集 (Fold 3) - ACC: 0.9217\n",
      "最佳测试集 - PRE: 0.9354, REC: 0.9560\n",
      "最佳测试集 - F1: 0.9456, MCC: 0.8065\n",
      "最佳测试集 - SN: 0.9560, SP: 0.8369\n",
      "最佳测试集 - AUC: 0.9683, AUPRC: 0.9867\n",
      "\n",
      "--- GradientBoosting ---\n",
      "验证集 - ACC: 0.9007 ± 0.0153\n",
      "验证集 - PRE: 0.9210 ± 0.0250\n",
      "验证集 - REC: 0.9425 ± 0.0191\n",
      "验证集 - F1:  0.9312 ± 0.0100\n",
      "验证集 - MCC: 0.7557 ± 0.0410\n",
      "验证集 - SN:  0.9425 ± 0.0191\n",
      "验证集 - SP:  0.7975 ± 0.0710\n",
      "验证集 - AUC: 0.9433 ± 0.0117\n",
      "验证集 - AUPRC: 0.9698 ± 0.0066\n",
      "最佳测试集 (Fold 3) - ACC: 0.9182\n",
      "最佳测试集 - PRE: 0.9361, REC: 0.9499\n",
      "最佳测试集 - F1: 0.9430, MCC: 0.7986\n",
      "最佳测试集 - SN: 0.9499, SP: 0.8399\n",
      "最佳测试集 - AUC: 0.9625, AUPRC: 0.9824\n"
     ]
    }
   ],
   "execution_count": 16
  },
  {
   "metadata": {
    "ExecuteTime": {
     "end_time": "2025-07-20T10:38:35.026117Z",
     "start_time": "2025-07-20T10:33:16.599768Z"
    }
   },
   "cell_type": "code",
   "source": [
    "\n",
    "# 直接用全部训练集训练和测试四个 GPU 版模型\n",
    "\n",
    "# Cell 1: 训练和测试 LogisticRegressionGPU\n",
    "train_loader = DataLoader(full_dataset, batch_size=128, shuffle=True, num_workers=4)\n",
    "test_loader = DataLoader(test_dataset, batch_size=128, shuffle=False, num_workers=4)\n",
    "device = torch.device(\"cuda\" if torch.cuda.is_available() else \"cpu\")\n",
    "\n",
    "model = LogisticRegressionGPU().to(device)\n",
    "optimizer = torch.optim.Adam(model.parameters(), lr=1e-3)\n",
    "criterion = nn.CrossEntropyLoss()\n",
    "\n",
    "model.train()\n",
    "for epoch in range(20):\n",
    "    for x, y in train_loader:\n",
    "        x, y = x.to(device), y.to(device)\n",
    "        optimizer.zero_grad()\n",
    "        logits = model(x)\n",
    "        loss = criterion(logits, y)\n",
    "        loss.backward()\n",
    "        optimizer.step()\n",
    "    print(f\"Epoch {epoch+1} finished.\")\n",
    "\n",
    "model.eval()\n",
    "test_preds, test_labels, test_probs = [], [], []\n",
    "with torch.no_grad():\n",
    "    for x, y in test_loader:\n",
    "        x, y = x.to(device), y.to(device)\n",
    "        logits = model(x)\n",
    "        probs = torch.softmax(logits, dim=1)\n",
    "        preds = torch.argmax(logits, dim=1)\n",
    "        test_preds.extend(preds.cpu().numpy())\n",
    "        test_labels.extend(y.cpu().numpy())\n",
    "        test_probs.extend(probs[:, 1].cpu().numpy())\n",
    "metrics = calculate_all_metrics(test_labels, test_preds, test_probs)\n",
    "print_metrics(metrics, \"测试集 \")\n",
    "\n",
    "# Cell 2: 训练和测试 SVMGPU\n",
    "model = SVMGPU().to(device)\n",
    "optimizer = torch.optim.Adam(model.parameters(), lr=1e-3)\n",
    "criterion = nn.CrossEntropyLoss()\n",
    "\n",
    "model.train()\n",
    "for epoch in range(30):\n",
    "    for x, y in train_loader:\n",
    "        x, y = x.to(device), y.to(device)\n",
    "        optimizer.zero_grad()\n",
    "        logits = model(x)\n",
    "        loss = criterion(logits, y)\n",
    "        loss.backward()\n",
    "        optimizer.step()\n",
    "    print(f\"Epoch {epoch+1} finished.\")\n",
    "\n",
    "model.eval()\n",
    "test_preds, test_labels, test_probs = [], [], []\n",
    "with torch.no_grad():\n",
    "    for x, y in test_loader:\n",
    "        x, y = x.to(device), y.to(device)\n",
    "        logits = model(x)\n",
    "        probs = torch.softmax(logits, dim=1)\n",
    "        preds = torch.argmax(logits, dim=1)\n",
    "        test_preds.extend(preds.cpu().numpy())\n",
    "        test_labels.extend(y.cpu().numpy())\n",
    "        test_probs.extend(probs[:, 1].cpu().numpy())\n",
    "metrics = calculate_all_metrics(test_labels, test_preds, test_probs)\n",
    "print_metrics(metrics, \"测试集 \")\n",
    "\n",
    "# Cell 3: 训练和测试 RandomForestGPU\n",
    "model = RandomForestGPU().to(device)\n",
    "optimizer = torch.optim.Adam(model.parameters(), lr=1e-3)\n",
    "criterion = nn.CrossEntropyLoss()\n",
    "\n",
    "model.train()\n",
    "for epoch in range(25):\n",
    "    for x, y in train_loader:\n",
    "        x, y = x.to(device), y.to(device)\n",
    "        optimizer.zero_grad()\n",
    "        logits = model(x)\n",
    "        loss = criterion(logits, y)\n",
    "        loss.backward()\n",
    "        optimizer.step()\n",
    "    print(f\"Epoch {epoch+1} finished.\")\n",
    "\n",
    "model.eval()\n",
    "test_preds, test_labels, test_probs = [], [], []\n",
    "with torch.no_grad():\n",
    "    for x, y in test_loader:\n",
    "        x, y = x.to(device), y.to(device)\n",
    "        logits = model(x)\n",
    "        probs = torch.softmax(logits, dim=1)\n",
    "        preds = torch.argmax(logits, dim=1)\n",
    "        test_preds.extend(preds.cpu().numpy())\n",
    "        test_labels.extend(y.cpu().numpy())\n",
    "        test_probs.extend(probs[:, 1].cpu().numpy())\n",
    "metrics = calculate_all_metrics(test_labels, test_preds, test_probs)\n",
    "print_metrics(metrics, \"测试集 \")\n",
    "\n",
    "# Cell 4: 训练和测试 GradientBoostingGPU\n",
    "model = GradientBoostingGPU().to(device)\n",
    "optimizer = torch.optim.Adam(model.parameters(), lr=1e-3)\n",
    "criterion = nn.CrossEntropyLoss()\n",
    "\n",
    "model.train()\n",
    "for epoch in range(35):\n",
    "    for x, y in train_loader:\n",
    "        x, y = x.to(device), y.to(device)\n",
    "        optimizer.zero_grad()\n",
    "        logits = model(x)\n",
    "        loss = criterion(logits, y)\n",
    "        loss.backward()\n",
    "        optimizer.step()\n",
    "    print(f\"Epoch {epoch+1} finished.\")\n",
    "\n",
    "model.eval()\n",
    "test_preds, test_labels, test_probs = [], [], []\n",
    "with torch.no_grad():\n",
    "    for x, y in test_loader:\n",
    "        x, y = x.to(device), y.to(device)\n",
    "        logits = model(x)\n",
    "        probs = torch.softmax(logits, dim=1)\n",
    "        preds = torch.argmax(logits, dim=1)\n",
    "        test_preds.extend(preds.cpu().numpy())\n",
    "        test_labels.extend(y.cpu().numpy())\n",
    "        test_probs.extend(probs[:, 1].cpu().numpy())\n",
    "metrics = calculate_all_metrics(test_labels, test_preds, test_probs)\n",
    "print_metrics(metrics, \"测试集 \")\n"
   ],
   "id": "f56d1a2ba019290",
   "outputs": [
    {
     "name": "stdout",
     "output_type": "stream",
     "text": [
      "Epoch 1 finished.\n",
      "Epoch 2 finished.\n",
      "Epoch 3 finished.\n",
      "Epoch 4 finished.\n",
      "Epoch 5 finished.\n",
      "Epoch 6 finished.\n",
      "Epoch 7 finished.\n",
      "Epoch 8 finished.\n",
      "Epoch 9 finished.\n",
      "Epoch 10 finished.\n",
      "Epoch 11 finished.\n",
      "Epoch 12 finished.\n",
      "Epoch 13 finished.\n",
      "Epoch 14 finished.\n",
      "Epoch 15 finished.\n",
      "Epoch 16 finished.\n",
      "Epoch 17 finished.\n",
      "Epoch 18 finished.\n",
      "Epoch 19 finished.\n",
      "Epoch 20 finished.\n",
      "测试集 ACC: 0.8877, PRE: 0.8937, REC: 0.9560, F1: 0.9238, MCC: 0.7173\n",
      "测试集 SN: 0.9560, SP: 0.7190, AUC: 0.9306, AUPRC: 0.9645\n",
      "Epoch 1 finished.\n",
      "Epoch 2 finished.\n",
      "Epoch 3 finished.\n",
      "Epoch 4 finished.\n",
      "Epoch 5 finished.\n",
      "Epoch 6 finished.\n",
      "Epoch 7 finished.\n",
      "Epoch 8 finished.\n",
      "Epoch 9 finished.\n",
      "Epoch 10 finished.\n",
      "Epoch 11 finished.\n",
      "Epoch 12 finished.\n",
      "Epoch 13 finished.\n",
      "Epoch 14 finished.\n",
      "Epoch 15 finished.\n",
      "Epoch 16 finished.\n",
      "Epoch 17 finished.\n",
      "Epoch 18 finished.\n",
      "Epoch 19 finished.\n",
      "Epoch 20 finished.\n",
      "Epoch 21 finished.\n",
      "Epoch 22 finished.\n",
      "Epoch 23 finished.\n",
      "Epoch 24 finished.\n",
      "Epoch 25 finished.\n",
      "Epoch 26 finished.\n",
      "Epoch 27 finished.\n",
      "Epoch 28 finished.\n",
      "Epoch 29 finished.\n",
      "Epoch 30 finished.\n",
      "测试集 ACC: 0.9173, PRE: 0.9403, REC: 0.9438, F1: 0.9420, MCC: 0.7979\n",
      "测试集 SN: 0.9438, SP: 0.8520, AUC: 0.9602, AUPRC: 0.9817\n",
      "Epoch 1 finished.\n",
      "Epoch 2 finished.\n",
      "Epoch 3 finished.\n",
      "Epoch 4 finished.\n",
      "Epoch 5 finished.\n",
      "Epoch 6 finished.\n",
      "Epoch 7 finished.\n",
      "Epoch 8 finished.\n",
      "Epoch 9 finished.\n",
      "Epoch 10 finished.\n",
      "Epoch 11 finished.\n",
      "Epoch 12 finished.\n",
      "Epoch 13 finished.\n",
      "Epoch 14 finished.\n",
      "Epoch 15 finished.\n",
      "Epoch 16 finished.\n",
      "Epoch 17 finished.\n",
      "Epoch 18 finished.\n",
      "Epoch 19 finished.\n",
      "Epoch 20 finished.\n",
      "Epoch 21 finished.\n",
      "Epoch 22 finished.\n",
      "Epoch 23 finished.\n",
      "Epoch 24 finished.\n",
      "Epoch 25 finished.\n",
      "测试集 ACC: 0.9199, PRE: 0.9405, REC: 0.9474, F1: 0.9440, MCC: 0.8038\n",
      "测试集 SN: 0.9474, SP: 0.8520, AUC: 0.9663, AUPRC: 0.9856\n",
      "Epoch 1 finished.\n",
      "Epoch 2 finished.\n",
      "Epoch 3 finished.\n",
      "Epoch 4 finished.\n",
      "Epoch 5 finished.\n",
      "Epoch 6 finished.\n",
      "Epoch 7 finished.\n",
      "Epoch 8 finished.\n",
      "Epoch 9 finished.\n",
      "Epoch 10 finished.\n",
      "Epoch 11 finished.\n",
      "Epoch 12 finished.\n",
      "Epoch 13 finished.\n",
      "Epoch 14 finished.\n",
      "Epoch 15 finished.\n",
      "Epoch 16 finished.\n",
      "Epoch 17 finished.\n",
      "Epoch 18 finished.\n",
      "Epoch 19 finished.\n",
      "Epoch 20 finished.\n",
      "Epoch 21 finished.\n",
      "Epoch 22 finished.\n",
      "Epoch 23 finished.\n",
      "Epoch 24 finished.\n",
      "Epoch 25 finished.\n",
      "Epoch 26 finished.\n",
      "Epoch 27 finished.\n",
      "Epoch 28 finished.\n",
      "Epoch 29 finished.\n",
      "Epoch 30 finished.\n",
      "Epoch 31 finished.\n",
      "Epoch 32 finished.\n",
      "Epoch 33 finished.\n",
      "Epoch 34 finished.\n",
      "Epoch 35 finished.\n",
      "测试集 ACC: 0.9060, PRE: 0.9471, REC: 0.9193, F1: 0.9330, MCC: 0.7767\n",
      "测试集 SN: 0.9193, SP: 0.8731, AUC: 0.9610, AUPRC: 0.9821\n"
     ]
    }
   ],
   "execution_count": 7
  }
 ],
 "metadata": {
  "kernelspec": {
   "display_name": "Python 3",
   "language": "python",
   "name": "python3"
  },
  "language_info": {
   "codemirror_mode": {
    "name": "ipython",
    "version": 2
   },
   "file_extension": ".py",
   "mimetype": "text/x-python",
   "name": "python",
   "nbconvert_exporter": "python",
   "pygments_lexer": "ipython2",
   "version": "2.7.6"
  }
 },
 "nbformat": 4,
 "nbformat_minor": 5
}
