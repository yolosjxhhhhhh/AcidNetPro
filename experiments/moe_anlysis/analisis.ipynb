{
 "cells": [
  {
   "cell_type": "code",
   "id": "initial_id",
   "metadata": {
    "collapsed": true,
    "jupyter": {
     "is_executing": true
    },
    "ExecuteTime": {
     "start_time": "2025-07-19T03:45:02.102719Z"
    }
   },
   "source": [
    "# Cell 1: 导入依赖\n",
    "import numpy as np\n",
    "import matplotlib.pyplot as plt\n",
    "import os\n",
    "import seaborn as sns\n",
    "# Cell 4: 生成30个专家的相关性分析（基于门控分数）\n",
    "# 虽然我们没有所有专家的输出，但可以用门控分数来分析专家间的相似性\n",
    "\n",
    "gate_scores = np.load(\"/exp_data/sjx/star/main_transformer_moe_weight/experiment_data/gate_scores.npy\")\n",
    "print(\"gate_scores形状:\", gate_scores.shape)  # (4, 1149, 300, 30)\n",
    "\n",
    "# 计算专家门控分数的相关性\n",
    "gate_scores_reshaped = gate_scores.reshape(-1, gate_scores.shape[-1])  # (所有样本×层数×token, 30)\n",
    "expert_gate_corr = np.corrcoef(gate_scores_reshaped.T)  # (30, 30)\n",
    "\n",
    "print(\"专家门控分数相关性矩阵形状:\", expert_gate_corr.shape)"
   ],
   "outputs": [
    {
     "name": "stdout",
     "output_type": "stream",
     "text": [
      "gate_scores形状: (4, 1149, 300, 30)\n"
     ]
    }
   ],
   "execution_count": null
  },
  {
   "metadata": {
    "jupyter": {
     "is_executing": true
    }
   },
   "cell_type": "code",
   "source": [
    "# Cell 5: 可视化30个专家的门控分数相关性\n",
    "plt.figure(figsize=(12, 10))\n",
    "sns.heatmap(expert_gate_corr, cmap='coolwarm', center=0, annot=False, square=True,\n",
    "            xticklabels=[f'Expert_{i}' for i in range(30)],\n",
    "            yticklabels=[f'Expert_{i}' for i in range(30)])\n",
    "plt.title('Expert Gate Score Correlation (All 30 Experts)', fontsize=14, fontweight='bold')\n",
    "plt.xlabel('Expert ID', fontsize=12)\n",
    "plt.ylabel('Expert ID', fontsize=12)\n",
    "plt.tight_layout()\n",
    "plt.savefig('/exp_data/sjx/star/main_transformer_moe_weight/moe_analysis/expert_gate_correlation_30experts.svg', dpi=300, bbox_inches='tight')\n",
    "plt.show()\n",
    "plt.close()"
   ],
   "id": "16a1c82dd0b35a53",
   "outputs": [],
   "execution_count": null
  },
  {
   "metadata": {
    "jupyter": {
     "is_executing": true
    }
   },
   "cell_type": "code",
   "source": [
    "# Cell 6: 输出相关性统计信息\n",
    "print(\"专家门控分数相关性统计:\")\n",
    "print(f\"最大相关性: {expert_gate_corr.max():.4f}\")\n",
    "print(f\"最小相关性: {expert_gate_corr.min():.4f}\")\n",
    "print(f\"平均相关性: {expert_gate_corr.mean():.4f}\")\n",
    "print(f\"相关性标准差: {expert_gate_corr.std():.4f}\")\n",
    "\n",
    "# 找出最相关和最不相关的专家对\n",
    "mask = ~np.eye(30, dtype=bool)  # 排除对角线\n",
    "off_diagonal_corr = expert_gate_corr[mask]\n",
    "max_corr_idx = np.unravel_index(np.argmax(off_diagonal_corr), expert_gate_corr.shape)\n",
    "min_corr_idx = np.unravel_index(np.argmin(off_diagonal_corr), expert_gate_corr.shape)\n",
    "\n",
    "print(f\"最相关的专家对: Expert_{max_corr_idx[0]} vs Expert_{max_corr_idx[1]} (相关性: {expert_gate_corr[max_corr_idx]:.4f})\")\n",
    "print(f\"最不相关的专家对: Expert_{min_corr_idx[0]} vs Expert_{min_corr_idx[1]} (相关性: {expert_gate_corr[min_corr_idx]:.4f})\")"
   ],
   "id": "c83b54309d9920e7",
   "outputs": [],
   "execution_count": null
  }
 ],
 "metadata": {
  "kernelspec": {
   "display_name": "Python 3",
   "language": "python",
   "name": "python3"
  },
  "language_info": {
   "codemirror_mode": {
    "name": "ipython",
    "version": 2
   },
   "file_extension": ".py",
   "mimetype": "text/x-python",
   "name": "python",
   "nbconvert_exporter": "python",
   "pygments_lexer": "ipython2",
   "version": "2.7.6"
  }
 },
 "nbformat": 4,
 "nbformat_minor": 5
}
