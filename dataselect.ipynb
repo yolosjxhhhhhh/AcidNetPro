{
 "cells": [
  {
   "metadata": {},
   "cell_type": "markdown",
   "source": "### 挑选1948条负样本数据\n",
   "id": "90c0a1207537cbc8"
  },
  {
   "cell_type": "code",
   "id": "initial_id",
   "metadata": {
    "collapsed": true,
    "jupyter": {
     "is_executing": true
    },
    "ExecuteTime": {
     "start_time": "2025-07-04T05:01:13.442951Z"
    }
   },
   "source": [
    "\n",
    "import os\n",
    "import torch\n",
    "import torch.nn as nn\n",
    "import torch.optim as optim\n",
    "import numpy as np\n",
    "from torch.utils.data import DataLoader, TensorDataset\n",
    "from sklearn.model_selection import train_test_split\n",
    "\n",
    "# ========================\n",
    "# Config & Device\n",
    "# ========================\n",
    "device = torch.device(\"cuda\" if torch.cuda.is_available() else \"cpu\")\n",
    "select_num = 1948  # 最终选择的生成数据数量\n",
    "\n",
    "# ========================\n",
    "# 加载数据\n",
    "# ========================\n",
    "real = np.load(\"/exp_data/sjx/star/first_data/ESM-embedding/negative_all_embedding.npy\")\n",
    "fake = np.load(\"/exp_data/sjx/star/gan_data/fake_negative_embeddings.npy\")\n",
    "print(\"[数据加载完成]\")\n",
    "print(\"真实负样本 shape:\", real.shape)\n",
    "print(\"生成负样本 shape:\", fake.shape)\n",
    "\n",
    "# 构建训练数据 (1:真实, 0:生成)\n",
    "X = np.concatenate([real, fake], axis=0)\n",
    "y = np.array([1] * len(real) + [0] * len(fake))\n",
    "\n",
    "# 分训练集/验证集\n",
    "X_train, X_val, y_train, y_val = train_test_split(X, y, test_size=0.2, random_state=42)\n",
    "train_ds = TensorDataset(torch.tensor(X_train, dtype=torch.float32), torch.tensor(y_train))\n",
    "val_ds   = TensorDataset(torch.tensor(X_val, dtype=torch.float32), torch.tensor(y_val))\n",
    "train_loader = DataLoader(train_ds, batch_size=64, shuffle=True)\n",
    "val_loader = DataLoader(val_ds, batch_size=64)\n",
    "\n",
    "# ========================\n",
    "# 定义判别器\n",
    "# ========================\n",
    "class SimpleDiscriminator(nn.Module):\n",
    "    def __init__(self, input_dim):\n",
    "        super().__init__()\n",
    "        self.model = nn.Sequential(\n",
    "            nn.Linear(input_dim, 512),\n",
    "            nn.ReLU(),\n",
    "            nn.Linear(512, 128),\n",
    "            nn.ReLU(),\n",
    "            nn.Linear(128, 1),\n",
    "            nn.Sigmoid()\n",
    "        )\n",
    "    def forward(self, x):\n",
    "        return self.model(x)\n",
    "\n",
    "input_dim = real.shape[1] * real.shape[2]\n",
    "model = SimpleDiscriminator(input_dim=input_dim).to(device)\n",
    "optimizer = optim.Adam(model.parameters(), lr=1e-4)\n",
    "loss_fn = nn.BCELoss()\n",
    "\n",
    "# flatten input\n",
    "def flatten_batch(x): return x.view(x.size(0), -1)\n",
    "\n",
    "# ========================\n",
    "# 训练判别器\n",
    "# ========================\n",
    "print(\"\\n[开始训练判别器]\")\n",
    "for epoch in range(10):\n",
    "    model.train()\n",
    "    total_loss = 0\n",
    "    for xb, yb in train_loader:\n",
    "        xb, yb = xb.to(device), yb.to(device).float().unsqueeze(1)\n",
    "        pred = model(flatten_batch(xb))\n",
    "        loss = loss_fn(pred, yb)\n",
    "        optimizer.zero_grad()\n",
    "        loss.backward()\n",
    "        optimizer.step()\n",
    "        total_loss += loss.item()\n",
    "    print(f\"Epoch {epoch+1}: Loss = {total_loss / len(train_loader):.4f}\")\n",
    "\n",
    "# ========================\n",
    "# 对 fake 数据打分并选择 top-N\n",
    "# ========================\n",
    "print(\"\\n[对生成数据打分并挑选最真实的样本]\")\n",
    "model.eval()\n",
    "fake_tensor = torch.tensor(fake, dtype=torch.float32).to(device)\n",
    "with torch.no_grad():\n",
    "    scores = model(flatten_batch(fake_tensor)).cpu().squeeze().numpy()\n",
    "\n",
    "# 得分高的看作更真实，选择 top-N\n",
    "top_idx = np.argsort(scores)[-select_num:]\n",
    "selected_fake = fake[top_idx]\n",
    "\n",
    "# ========================\n",
    "# 保存并检查\n",
    "# ========================\n",
    "save_path = \"/exp_data/sjx/star/gan_data/selected_fake_embeddings_posthoc.npy\"\n",
    "np.save(save_path, selected_fake)\n",
    "print(f\"\\n[✓] 已保存判别器打分选出的 {select_num} 条生成数据到: {save_path}\")\n",
    "print(\"保存数据 shape:\", selected_fake.shape)\n"
   ],
   "execution_count": null,
   "outputs": []
  },
  {
   "metadata": {
    "ExecuteTime": {
     "end_time": "2025-07-04T06:39:35.122969Z",
     "start_time": "2025-07-04T06:39:30.974230Z"
    }
   },
   "cell_type": "code",
   "source": [
    "fake = np.load(\"/exp_data/sjx/star/gan_data/fake_negative_embeddings.npy\")\n",
    "print(\"原始数据 dtype:\", fake.dtype)\n",
    "print(\"原始 shape:\", fake.shape)\n",
    "\n",
    "selected_fake = fake[:1948]\n",
    "print(\"截取后 dtype:\", selected_fake.dtype)\n",
    "print(\"内存占用（GB）:\", selected_fake.nbytes / 1024 / 1024 / 1024)\n"
   ],
   "id": "9e1122a369af7013",
   "execution_count": 2,
   "outputs": []
  },
  {
   "metadata": {
    "ExecuteTime": {
     "end_time": "2025-07-04T07:58:49.610198Z",
     "start_time": "2025-07-04T07:57:39.870848Z"
    }
   },
   "cell_type": "code",
   "source": [
    "import numpy as np\n",
    "\n",
    "# 加载已生成的 2435 条负样本\n",
    "fake = np.load(\"/exp_data/sjx/star/gan_data/fake_negative_embeddings.npy\")\n",
    "print(\"原始生成样本数量：\", fake.shape[0])\n",
    "\n",
    "# 选取前 1948 条\n",
    "selected_fake = fake[:1948]\n",
    "\n",
    "# 保存\n",
    "save_path = \"/exp_data/sjx/star/gan_data/selected_fake_embeddings_top1948.npy\"\n",
    "np.save(save_path, selected_fake)\n",
    "print(f\"[✓] 已保存前 1948 条生成样本到: {save_path}\")\n",
    "print(\"保存数据 shape:\", selected_fake.shape)\n"
   ],
   "id": "15678c9553beddca",
   "execution_count": 6,
   "outputs": []
  },
  {
   "metadata": {},
   "cell_type": "markdown",
   "source": "### 合并生成负样本和真实负样本",
   "id": "1cb52055aa8ddfa8"
  },
  {
   "metadata": {
    "ExecuteTime": {
     "end_time": "2025-07-04T08:06:01.798035Z",
     "start_time": "2025-07-04T08:04:27.626172Z"
    }
   },
   "cell_type": "code",
   "source": [
    "import numpy as np\n",
    "\n",
    "# 加载原始负样本训练集\n",
    "original_neg = np.load(\"/exp_data/sjx/star/first_data/ESM-embedding/negative_train_embedding.npy\")\n",
    "print(\"原始负样本 shape:\", original_neg.shape)\n",
    "\n",
    "# 加载 GAN 筛选后的 1948 条负样本（非压缩 .npy 文件）\n",
    "gan_neg = np.load(\"/exp_data/sjx/star/gan_data/selected_fake_embeddings_top1948.npy\")\n",
    "print(\"GAN 生成负样本 shape:\", gan_neg.shape)\n",
    "\n",
    "# 合并两个数组\n",
    "combined_neg = np.concatenate([original_neg, gan_neg], axis=0)\n",
    "print(\"合并后的负样本总数:\", combined_neg.shape)\n",
    "\n",
    "# 保存为新的合并文件\n",
    "save_path = \"/exp_data/sjx/star/gan_data/negative_train_all_combined.npy\"\n",
    "np.save(save_path, combined_neg)\n",
    "print(f\"[✓] 合并保存成功，路径为: {save_path}\")\n",
    "\n"
   ],
   "id": "6d7637ab9999a3ca",
   "execution_count": 8,
   "outputs": []
  },
  {
   "metadata": {
    "ExecuteTime": {
     "start_time": "2025-07-07T07:57:19.408109Z"
    }
   },
   "cell_type": "code",
   "source": [
    "import numpy as np\n",
    "import os\n",
    "\n",
    "# 路径\n",
    "pos_path = '/exp_data/sjx/star/first_data/ESM-embedding/positive_train_embedding.npy'\n",
    "neg_path = '/exp_data/sjx/star/gan_data/negative_train_all_combined.npy'\n",
    "save_dir = '/exp_data/sjx/star/first_data/ESM-embedding/all_train_data'\n",
    "os.makedirs(save_dir, exist_ok=True)\n",
    "\n",
    "# 加载数据\n",
    "pos = np.load(pos_path, mmap_mode='r')\n",
    "neg = np.load(neg_path, mmap_mode='r')\n",
    "\n",
    "# 合并特征\n",
    "X = np.concatenate([pos, neg], axis=0)\n",
    "# 生成标签：正样本为1，负样本为0\n",
    "y = np.concatenate([np.ones(len(pos), dtype=np.int64), np.zeros(len(neg), dtype=np.int64)], axis=0)\n",
    "\n",
    "# 打乱顺序（可选，推荐）\n",
    "idx = np.random.permutation(len(X))\n",
    "X = X[idx]\n",
    "y = y[idx]\n",
    "\n",
    "# 保存\n",
    "np.save(os.path.join(save_dir, 'all_train_data.npy'), X)\n",
    "np.save(os.path.join(save_dir, 'all_train_labels.npy'), y)\n",
    "print(f'[INFO] 合并完成，特征 shape: {X.shape}，标签 shape: {y.shape}')\n",
    "print(f'[INFO] 已保存到: {save_dir}/all_train_data.npy, {save_dir}/all_train_labels.npy')"
   ],
   "id": "e96731aa48dd5fef",
   "execution_count": 1,
   "outputs": []
  }
 ],
 "metadata": {
  "kernelspec": {
   "display_name": "Python 3",
   "language": "python",
   "name": "python3"
  },
  "language_info": {
   "codemirror_mode": {
    "name": "ipython",
    "version": 2
   },
   "file_extension": ".py",
   "mimetype": "text/x-python",
   "name": "python",
   "nbconvert_exporter": "python",
   "pygments_lexer": "ipython2",
   "version": "2.7.6"
  }
 },
 "nbformat": 4,
 "nbformat_minor": 5
}
