{
 "cells": [
  {
   "cell_type": "markdown",
   "id": "90c0a1207537cbc8",
   "metadata": {},
   "source": [
    "### Selection of 1948 negative sample data\n"
   ]
  },
  {
   "cell_type": "code",
   "execution_count": null,
   "id": "initial_id",
   "metadata": {
    "ExecuteTime": {
     "start_time": "2025-07-04T05:01:13.442951Z"
    },
    "collapsed": true,
    "jupyter": {
     "is_executing": true
    }
   },
   "outputs": [],
   "source": [
    "\n",
    "import os\n",
    "import torch\n",
    "import torch.nn as nn\n",
    "import torch.optim as optim\n",
    "import numpy as np\n",
    "from torch.utils.data import DataLoader, TensorDataset\n",
    "from sklearn.model_selection import train_test_split\n",
    "\n",
    "# ========================\n",
    "# Config & Device\n",
    "# ========================\n",
    "device = torch.device(\"cuda\" if torch.cuda.is_available() else \"cpu\")\n",
    "select_num = 1948  \n",
    "\n",
    "\n",
    "real = np.load(\"/exp_data/sjx/star/first_data/ESM-embedding/negative_all_embedding.npy\")\n",
    "fake = np.load(\"/exp_data/sjx/star/gan_data/fake_negative_embeddings.npy\")\n",
    "print(\"[Data loading completed]\")\n",
    "print(\"real negative samples shape:\", real.shape)\n",
    "print(\"generated negative samples shape:\", fake.shape)\n",
    "\n",
    "\n",
    "X = np.concatenate([real, fake], axis=0)\n",
    "y = np.array([1] * len(real) + [0] * len(fake))\n",
    "\n",
    "\n",
    "X_train, X_val, y_train, y_val = train_test_split(X, y, test_size=0.2, random_state=42)\n",
    "train_ds = TensorDataset(torch.tensor(X_train, dtype=torch.float32), torch.tensor(y_train))\n",
    "val_ds   = TensorDataset(torch.tensor(X_val, dtype=torch.float32), torch.tensor(y_val))\n",
    "train_loader = DataLoader(train_ds, batch_size=64, shuffle=True)\n",
    "val_loader = DataLoader(val_ds, batch_size=64)\n",
    "\n",
    "\n",
    "class SimpleDiscriminator(nn.Module):\n",
    "    def __init__(self, input_dim):\n",
    "        super().__init__()\n",
    "        self.model = nn.Sequential(\n",
    "            nn.Linear(input_dim, 512),\n",
    "            nn.ReLU(),\n",
    "            nn.Linear(512, 128),\n",
    "            nn.ReLU(),\n",
    "            nn.Linear(128, 1),\n",
    "            nn.Sigmoid()\n",
    "        )\n",
    "    def forward(self, x):\n",
    "        return self.model(x)\n",
    "\n",
    "input_dim = real.shape[1] * real.shape[2]\n",
    "model = SimpleDiscriminator(input_dim=input_dim).to(device)\n",
    "optimizer = optim.Adam(model.parameters(), lr=1e-4)\n",
    "loss_fn = nn.BCELoss()\n",
    "\n",
    "# flatten input\n",
    "def flatten_batch(x): return x.view(x.size(0), -1)\n",
    "\n",
    "\n",
    "print(\"\\n[Start training the discriminator]\")\n",
    "for epoch in range(10):\n",
    "    model.train()\n",
    "    total_loss = 0\n",
    "    for xb, yb in train_loader:\n",
    "        xb, yb = xb.to(device), yb.to(device).float().unsqueeze(1)\n",
    "        pred = model(flatten_batch(xb))\n",
    "        loss = loss_fn(pred, yb)\n",
    "        optimizer.zero_grad()\n",
    "        loss.backward()\n",
    "        optimizer.step()\n",
    "        total_loss += loss.item()\n",
    "    print(f\"Epoch {epoch+1}: Loss = {total_loss / len(train_loader):.4f}\")\n",
    "\n",
    "\n",
    "print(\"\\n[Scoring the generated data and selecting the most realistic samples]\")\n",
    "model.eval()\n",
    "fake_tensor = torch.tensor(fake, dtype=torch.float32).to(device)\n",
    "with torch.no_grad():\n",
    "    scores = model(flatten_batch(fake_tensor)).cpu().squeeze().numpy()\n",
    "\n",
    "\n",
    "top_idx = np.argsort(scores)[-select_num:]\n",
    "selected_fake = fake[top_idx]\n",
    "\n",
    "\n",
    "save_path = \"/exp_data/sjx/star/gan_data/selected_fake_embeddings_posthoc.npy\"\n",
    "np.save(save_path, selected_fake)\n",
    "print(f\"\\n[✓] Selected by saved discriminator scores {select_num} Article generation data to the: {save_path}\")\n",
    "print(\"Save data shape:\", selected_fake.shape)\n"
   ]
  },
  {
   "cell_type": "code",
   "execution_count": null,
   "id": "9e1122a369af7013",
   "metadata": {
    "ExecuteTime": {
     "end_time": "2025-07-04T06:39:35.122969Z",
     "start_time": "2025-07-04T06:39:30.974230Z"
    }
   },
   "outputs": [],
   "source": [
    "fake = np.load(\"/exp_data/sjx/star/gan_data/fake_negative_embeddings.npy\")\n",
    "print(\"raw data dtype:\", fake.dtype)\n",
    "print(\"original shape:\", fake.shape)\n",
    "\n",
    "selected_fake = fake[:1948]\n",
    "print(\"post-interception dtype:\", selected_fake.dtype)\n",
    "print(\"memory footprint（GB）:\", selected_fake.nbytes / 1024 / 1024 / 1024)\n"
   ]
  },
  {
   "cell_type": "code",
   "execution_count": null,
   "id": "15678c9553beddca",
   "metadata": {
    "ExecuteTime": {
     "end_time": "2025-07-04T07:58:49.610198Z",
     "start_time": "2025-07-04T07:57:39.870848Z"
    }
   },
   "outputs": [],
   "source": [
    "import numpy as np\n",
    "\n",
    "\n",
    "fake = np.load(\"/exp_data/sjx/star/gan_data/fake_negative_embeddings.npy\")\n",
    "print(\"Number of raw generated samples：\", fake.shape[0])\n",
    "\n",
    "\n",
    "selected_fake = fake[:1948]\n",
    "\n",
    "\n",
    "save_path = \"/exp_data/sjx/star/gan_data/selected_fake_embeddings_top1948.npy\"\n",
    "np.save(save_path, selected_fake)\n",
    "print(f\"[✓] The first 1948 generated samples have been saved to. {save_path}\")\n",
    "print(\"Save data shape:\", selected_fake.shape)\n"
   ]
  },
  {
   "cell_type": "markdown",
   "id": "1cb52055aa8ddfa8",
   "metadata": {},
   "source": [
    "### Combined generation of negative samples and true negative samples"
   ]
  },
  {
   "cell_type": "code",
   "execution_count": null,
   "id": "6d7637ab9999a3ca",
   "metadata": {
    "ExecuteTime": {
     "end_time": "2025-07-04T08:06:01.798035Z",
     "start_time": "2025-07-04T08:04:27.626172Z"
    }
   },
   "outputs": [],
   "source": [
    "import numpy as np\n",
    "\n",
    "\n",
    "original_neg = np.load(\"/exp_data/sjx/star/first_data/ESM-embedding/negative_train_embedding.npy\")\n",
    "print(\"Original negative sample shape:\", original_neg.shape)\n",
    "\n",
    "\n",
    "gan_neg = np.load(\"/exp_data/sjx/star/gan_data/selected_fake_embeddings_top1948.npy\")\n",
    "print(\"GAN Generate negative samples shape:\", gan_neg.shape)\n",
    "\n",
    "\n",
    "combined_neg = np.concatenate([original_neg, gan_neg], axis=0)\n",
    "print(\"Total number of negative samples after merging:\", combined_neg.shape)\n",
    "\n",
    "\n",
    "save_path = \"/exp_data/sjx/star/gan_data/negative_train_all_combined.npy\"\n",
    "np.save(save_path, combined_neg)\n",
    "print(f\"[✓] The merge was saved successfully with the path: {save_path}\")\n",
    "\n"
   ]
  },
  {
   "cell_type": "code",
   "execution_count": null,
   "id": "e96731aa48dd5fef",
   "metadata": {
    "ExecuteTime": {
     "start_time": "2025-07-07T07:57:19.408109Z"
    }
   },
   "outputs": [],
   "source": [
    "import numpy as np\n",
    "import os\n",
    "\n",
    "\n",
    "pos_path = '/exp_data/sjx/star/first_data/ESM-embedding/positive_train_embedding.npy'\n",
    "neg_path = '/exp_data/sjx/star/gan_data/negative_train_all_combined.npy'\n",
    "save_dir = '/exp_data/sjx/star/first_data/ESM-embedding/all_train_data'\n",
    "os.makedirs(save_dir, exist_ok=True)\n",
    "\n",
    "\n",
    "pos = np.load(pos_path, mmap_mode='r')\n",
    "neg = np.load(neg_path, mmap_mode='r')\n",
    "\n",
    "\n",
    "X = np.concatenate([pos, neg], axis=0)\n",
    "\n",
    "y = np.concatenate([np.ones(len(pos), dtype=np.int64), np.zeros(len(neg), dtype=np.int64)], axis=0)\n",
    "\n",
    "\n",
    "idx = np.random.permutation(len(X))\n",
    "X = X[idx]\n",
    "y = y[idx]\n",
    "\n",
    "\n",
    "np.save(os.path.join(save_dir, 'all_train_data.npy'), X)\n",
    "np.save(os.path.join(save_dir, 'all_train_labels.npy'), y)\n",
    "print(f'[INFO] Merger completed, features shape: {X.shape}，tab shape: {y.shape}')\n",
    "print(f'[INFO] Saved to: {save_dir}/all_train_data.npy, {save_dir}/all_train_labels.npy')"
   ]
  }
 ],
 "metadata": {
  "kernelspec": {
   "display_name": "Python 3",
   "language": "python",
   "name": "python3"
  },
  "language_info": {
   "codemirror_mode": {
    "name": "ipython",
    "version": 2
   },
   "file_extension": ".py",
   "mimetype": "text/x-python",
   "name": "python",
   "nbconvert_exporter": "python",
   "pygments_lexer": "ipython2",
   "version": "2.7.6"
  }
 },
 "nbformat": 4,
 "nbformat_minor": 5
}
